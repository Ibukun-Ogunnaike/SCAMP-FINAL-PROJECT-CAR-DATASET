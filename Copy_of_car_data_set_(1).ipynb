{
  "nbformat": 4,
  "nbformat_minor": 0,
  "metadata": {
    "kernelspec": {
      "display_name": "Python 3",
      "language": "python",
      "name": "python3"
    },
    "language_info": {
      "codemirror_mode": {
        "name": "ipython",
        "version": 3
      },
      "file_extension": ".py",
      "mimetype": "text/x-python",
      "name": "python",
      "nbconvert_exporter": "python",
      "pygments_lexer": "ipython3",
      "version": "3.8.5"
    },
    "colab": {
      "name": "Copy of car-data-set (1).ipynb",
      "provenance": [],
      "include_colab_link": true
    }
  },
  "cells": [
    {
      "cell_type": "markdown",
      "metadata": {
        "id": "view-in-github",
        "colab_type": "text"
      },
      "source": [
        "<a href=\"https://colab.research.google.com/github/Ibukun-Ogunnaike/SCAMP-FINAL-PROJECT-CAR-DATASET/blob/main/Copy_of_car_data_set_(1).ipynb\" target=\"_parent\"><img src=\"https://colab.research.google.com/assets/colab-badge.svg\" alt=\"Open In Colab\"/></a>"
      ]
    },
    {
      "cell_type": "code",
      "metadata": {
        "id": "KtHTgEvU6drx",
        "colab": {
          "base_uri": "https://localhost:8080/"
        },
        "outputId": "ac4ed856-56c3-42d1-b50f-e2737b2f4532"
      },
      "source": [
        "from google.colab import drive\n",
        "drive.mount('/content/gdrive')\n"
      ],
      "execution_count": null,
      "outputs": [
        {
          "output_type": "stream",
          "text": [
            "Drive already mounted at /content/gdrive; to attempt to forcibly remount, call drive.mount(\"/content/gdrive\", force_remount=True).\n"
          ],
          "name": "stdout"
        }
      ]
    },
    {
      "cell_type": "code",
      "metadata": {
        "id": "pSPmCCLlAY7G"
      },
      "source": [
        "\n",
        "import os\n",
        "os.environ['KAGGLE_CONFIG_DIR'] = \"/content/gdrive/My Drive/Kaggle\"\n",
        "# /content/gdrive/My Drive/Kaggle is the path where kaggle.json is present in the Google Drive"
      ],
      "execution_count": null,
      "outputs": []
    },
    {
      "cell_type": "code",
      "metadata": {
        "id": "zS-Q-WBz6fSC",
        "colab": {
          "base_uri": "https://localhost:8080/"
        },
        "outputId": "2a7f36e0-fcd7-4548-dab6-0fff4fafc6e0"
      },
      "source": [
        "#changing the working directory\n",
        "%cd /content/gdrive/My Drive/Kaggle\n",
        "#Check the present working directory using pwd command"
      ],
      "execution_count": null,
      "outputs": [
        {
          "output_type": "stream",
          "text": [
            "/content/gdrive/My Drive/Kaggle\n"
          ],
          "name": "stdout"
        }
      ]
    },
    {
      "cell_type": "code",
      "metadata": {
        "id": "yRRDR1F-6fWA",
        "colab": {
          "base_uri": "https://localhost:8080/"
        },
        "outputId": "9b44ef70-3a3e-4524-9553-430681982549"
      },
      "source": [
        "!kaggle datasets download -d austinreese/craigslist-carstrucks-data"
      ],
      "execution_count": null,
      "outputs": [
        {
          "output_type": "stream",
          "text": [
            "Downloading craigslist-carstrucks-data.zip to /content/gdrive/My Drive/Kaggle\n",
            " 99% 259M/262M [00:04<00:00, 53.7MB/s]\n",
            "100% 262M/262M [00:04<00:00, 55.2MB/s]\n"
          ],
          "name": "stdout"
        }
      ]
    },
    {
      "cell_type": "code",
      "metadata": {
        "id": "5Z1Z-YyI6fbZ",
        "colab": {
          "base_uri": "https://localhost:8080/"
        },
        "outputId": "440ada55-16d7-429e-c3fe-1675864b1999"
      },
      "source": [
        "!ls"
      ],
      "execution_count": null,
      "outputs": [
        {
          "output_type": "stream",
          "text": [
            "craigslist-carstrucks-data.zip\tkaggle.json  vehicles.csv\n"
          ],
          "name": "stdout"
        }
      ]
    },
    {
      "cell_type": "code",
      "metadata": {
        "id": "245DrISs6fdm",
        "colab": {
          "base_uri": "https://localhost:8080/"
        },
        "outputId": "0b4b0cf8-0978-4fba-d400-eafae54bae39"
      },
      "source": [
        "#unzipping the zip files and deleting the zip files\n",
        "!unzip \\*.zip  && rm *.zip"
      ],
      "execution_count": null,
      "outputs": [
        {
          "output_type": "stream",
          "text": [
            "Archive:  craigslist-carstrucks-data.zip\n",
            "replace vehicles.csv? [y]es, [n]o, [A]ll, [N]one, [r]ename: no\n"
          ],
          "name": "stdout"
        }
      ]
    },
    {
      "cell_type": "code",
      "metadata": {
        "id": "5aAgjrB36fhC"
      },
      "source": [
        "# import neccessary libraries\n",
        "import gc\n",
        "import seaborn as sns\n",
        "import numpy as np\n",
        "import pandas as pd\n",
        "import matplotlib.pyplot as plt\n",
        "%matplotlib inline\n",
        "from sklearn.preprocessing import LabelEncoder, OneHotEncoder\n",
        "from sklearn.model_selection import train_test_split\n",
        "from sklearn.preprocessing import StandardScaler, MinMaxScaler\n",
        "from sklearn.linear_model import LinearRegression\n",
        "from sklearn import metrics\n",
        "from sklearn.metrics import r2_score\n",
        "from sklearn.tree import DecisionTreeRegressor\n",
        "from sklearn.ensemble import RandomForestRegressor, ExtraTreesRegressor\n",
        "from sklearn.discriminant_analysis import LinearDiscriminantAnalysis as LDA\n",
        "from lightgbm import LGBMRegressor\n",
        "from xgboost import XGBRegressor, XGBRFRegressor\n"
      ],
      "execution_count": null,
      "outputs": []
    },
    {
      "cell_type": "code",
      "metadata": {
        "id": "T4EZVlRb6fjn",
        "colab": {
          "base_uri": "https://localhost:8080/",
          "height": 513
        },
        "outputId": "01a3fd21-d6b3-4d7d-ff2f-1738d4035dc9"
      },
      "source": [
        "vehicles = pd.read_csv('vehicles.csv')\n",
        "vehicles.head()"
      ],
      "execution_count": null,
      "outputs": [
        {
          "output_type": "execute_result",
          "data": {
            "text/html": [
              "<div>\n",
              "<style scoped>\n",
              "    .dataframe tbody tr th:only-of-type {\n",
              "        vertical-align: middle;\n",
              "    }\n",
              "\n",
              "    .dataframe tbody tr th {\n",
              "        vertical-align: top;\n",
              "    }\n",
              "\n",
              "    .dataframe thead th {\n",
              "        text-align: right;\n",
              "    }\n",
              "</style>\n",
              "<table border=\"1\" class=\"dataframe\">\n",
              "  <thead>\n",
              "    <tr style=\"text-align: right;\">\n",
              "      <th></th>\n",
              "      <th>id</th>\n",
              "      <th>url</th>\n",
              "      <th>region</th>\n",
              "      <th>region_url</th>\n",
              "      <th>price</th>\n",
              "      <th>year</th>\n",
              "      <th>manufacturer</th>\n",
              "      <th>model</th>\n",
              "      <th>condition</th>\n",
              "      <th>cylinders</th>\n",
              "      <th>fuel</th>\n",
              "      <th>odometer</th>\n",
              "      <th>title_status</th>\n",
              "      <th>transmission</th>\n",
              "      <th>VIN</th>\n",
              "      <th>drive</th>\n",
              "      <th>size</th>\n",
              "      <th>type</th>\n",
              "      <th>paint_color</th>\n",
              "      <th>image_url</th>\n",
              "      <th>description</th>\n",
              "      <th>county</th>\n",
              "      <th>state</th>\n",
              "      <th>lat</th>\n",
              "      <th>long</th>\n",
              "    </tr>\n",
              "  </thead>\n",
              "  <tbody>\n",
              "    <tr>\n",
              "      <th>0</th>\n",
              "      <td>7307730503</td>\n",
              "      <td>https://auburn.craigslist.org/cto/d/opelika-ha...</td>\n",
              "      <td>auburn</td>\n",
              "      <td>https://auburn.craigslist.org</td>\n",
              "      <td>9500</td>\n",
              "      <td>2003.0</td>\n",
              "      <td>chrysler</td>\n",
              "      <td>town &amp; country</td>\n",
              "      <td>excellent</td>\n",
              "      <td>6 cylinders</td>\n",
              "      <td>gas</td>\n",
              "      <td>30376.0</td>\n",
              "      <td>clean</td>\n",
              "      <td>automatic</td>\n",
              "      <td>NaN</td>\n",
              "      <td>fwd</td>\n",
              "      <td>mid-size</td>\n",
              "      <td>mini-van</td>\n",
              "      <td>blue</td>\n",
              "      <td>https://images.craigslist.org/00w0w_41YO8cHlW3...</td>\n",
              "      <td>2003 Chrysler Town and Country Handicapped Acc...</td>\n",
              "      <td>NaN</td>\n",
              "      <td>al</td>\n",
              "      <td>32.614209</td>\n",
              "      <td>-85.326357</td>\n",
              "    </tr>\n",
              "    <tr>\n",
              "      <th>1</th>\n",
              "      <td>7307218858</td>\n",
              "      <td>https://auburn.craigslist.org/ctd/d/auburn-uni...</td>\n",
              "      <td>auburn</td>\n",
              "      <td>https://auburn.craigslist.org</td>\n",
              "      <td>28990</td>\n",
              "      <td>2018.0</td>\n",
              "      <td>gmc</td>\n",
              "      <td>acadia sle-2 sport utility</td>\n",
              "      <td>good</td>\n",
              "      <td>6 cylinders</td>\n",
              "      <td>gas</td>\n",
              "      <td>20736.0</td>\n",
              "      <td>clean</td>\n",
              "      <td>other</td>\n",
              "      <td>1GKKNLLS2JZ178034</td>\n",
              "      <td>fwd</td>\n",
              "      <td>NaN</td>\n",
              "      <td>other</td>\n",
              "      <td>white</td>\n",
              "      <td>https://images.craigslist.org/00c0c_kXhBir3Ii6...</td>\n",
              "      <td>Carvana is the safer way to buy a car During t...</td>\n",
              "      <td>NaN</td>\n",
              "      <td>al</td>\n",
              "      <td>32.590000</td>\n",
              "      <td>-85.480000</td>\n",
              "    </tr>\n",
              "    <tr>\n",
              "      <th>2</th>\n",
              "      <td>7307164168</td>\n",
              "      <td>https://auburn.craigslist.org/ctd/d/auburn-uni...</td>\n",
              "      <td>auburn</td>\n",
              "      <td>https://auburn.craigslist.org</td>\n",
              "      <td>16590</td>\n",
              "      <td>2013.0</td>\n",
              "      <td>lincoln</td>\n",
              "      <td>mkz sedan 4d</td>\n",
              "      <td>good</td>\n",
              "      <td>NaN</td>\n",
              "      <td>gas</td>\n",
              "      <td>61087.0</td>\n",
              "      <td>clean</td>\n",
              "      <td>other</td>\n",
              "      <td>3LN6L2G99DR819673</td>\n",
              "      <td>fwd</td>\n",
              "      <td>NaN</td>\n",
              "      <td>sedan</td>\n",
              "      <td>red</td>\n",
              "      <td>https://images.craigslist.org/00N0N_1xMPvfxRAI...</td>\n",
              "      <td>Carvana is the safer way to buy a car During t...</td>\n",
              "      <td>NaN</td>\n",
              "      <td>al</td>\n",
              "      <td>32.590000</td>\n",
              "      <td>-85.480000</td>\n",
              "    </tr>\n",
              "    <tr>\n",
              "      <th>3</th>\n",
              "      <td>7307164193</td>\n",
              "      <td>https://auburn.craigslist.org/ctd/d/auburn-uni...</td>\n",
              "      <td>auburn</td>\n",
              "      <td>https://auburn.craigslist.org</td>\n",
              "      <td>28990</td>\n",
              "      <td>2017.0</td>\n",
              "      <td>gmc</td>\n",
              "      <td>acadia slt-1 sport utility</td>\n",
              "      <td>good</td>\n",
              "      <td>6 cylinders</td>\n",
              "      <td>gas</td>\n",
              "      <td>18041.0</td>\n",
              "      <td>clean</td>\n",
              "      <td>other</td>\n",
              "      <td>1GKKNMLS2HZ305977</td>\n",
              "      <td>fwd</td>\n",
              "      <td>NaN</td>\n",
              "      <td>other</td>\n",
              "      <td>NaN</td>\n",
              "      <td>https://images.craigslist.org/00w0w_b3G8mxfApI...</td>\n",
              "      <td>Carvana is the safer way to buy a car During t...</td>\n",
              "      <td>NaN</td>\n",
              "      <td>al</td>\n",
              "      <td>32.590000</td>\n",
              "      <td>-85.480000</td>\n",
              "    </tr>\n",
              "    <tr>\n",
              "      <th>4</th>\n",
              "      <td>7307142186</td>\n",
              "      <td>https://auburn.craigslist.org/ctd/d/auburn-uni...</td>\n",
              "      <td>auburn</td>\n",
              "      <td>https://auburn.craigslist.org</td>\n",
              "      <td>20590</td>\n",
              "      <td>2017.0</td>\n",
              "      <td>lincoln</td>\n",
              "      <td>mkz premiere sedan 4d</td>\n",
              "      <td>good</td>\n",
              "      <td>NaN</td>\n",
              "      <td>gas</td>\n",
              "      <td>36436.0</td>\n",
              "      <td>clean</td>\n",
              "      <td>other</td>\n",
              "      <td>3LN6L5A97HR666209</td>\n",
              "      <td>fwd</td>\n",
              "      <td>NaN</td>\n",
              "      <td>sedan</td>\n",
              "      <td>NaN</td>\n",
              "      <td>https://images.craigslist.org/00F0F_ghX7UUlnBr...</td>\n",
              "      <td>Carvana is the safer way to buy a car During t...</td>\n",
              "      <td>NaN</td>\n",
              "      <td>al</td>\n",
              "      <td>32.590000</td>\n",
              "      <td>-85.480000</td>\n",
              "    </tr>\n",
              "  </tbody>\n",
              "</table>\n",
              "</div>"
            ],
            "text/plain": [
              "           id  ...       long\n",
              "0  7307730503  ... -85.326357\n",
              "1  7307218858  ... -85.480000\n",
              "2  7307164168  ... -85.480000\n",
              "3  7307164193  ... -85.480000\n",
              "4  7307142186  ... -85.480000\n",
              "\n",
              "[5 rows x 25 columns]"
            ]
          },
          "metadata": {
            "tags": []
          },
          "execution_count": 8
        }
      ]
    },
    {
      "cell_type": "code",
      "metadata": {
        "id": "2wdrnOEo6fmp",
        "colab": {
          "base_uri": "https://localhost:8080/"
        },
        "outputId": "44f46204-ce47-463a-b9a7-f342f52dab46"
      },
      "source": [
        "# to clear and free up space in memory\n",
        "import gc\n",
        "gc.collect()"
      ],
      "execution_count": null,
      "outputs": [
        {
          "output_type": "execute_result",
          "data": {
            "text/plain": [
              "115"
            ]
          },
          "metadata": {
            "tags": []
          },
          "execution_count": 9
        }
      ]
    },
    {
      "cell_type": "code",
      "metadata": {
        "id": "jylRl_Ij6fpx",
        "colab": {
          "base_uri": "https://localhost:8080/"
        },
        "outputId": "3afcb9b6-5a8d-4e6c-eb32-7d0620583287"
      },
      "source": [
        "# print shape and column names\n",
        "print(vehicles.columns)\n",
        "print(vehicles.shape)"
      ],
      "execution_count": null,
      "outputs": [
        {
          "output_type": "stream",
          "text": [
            "Index(['id', 'url', 'region', 'region_url', 'price', 'year', 'manufacturer',\n",
            "       'model', 'condition', 'cylinders', 'fuel', 'odometer', 'title_status',\n",
            "       'transmission', 'VIN', 'drive', 'size', 'type', 'paint_color',\n",
            "       'image_url', 'description', 'county', 'state', 'lat', 'long'],\n",
            "      dtype='object')\n",
            "(441396, 25)\n"
          ],
          "name": "stdout"
        }
      ]
    },
    {
      "cell_type": "code",
      "metadata": {
        "colab": {
          "base_uri": "https://localhost:8080/",
          "height": 495
        },
        "id": "lcDkppr9KPrP",
        "outputId": "9bf86c08-a9b0-4a82-fb3a-173b01563f24"
      },
      "source": [
        "vehicles.describe(include='all')"
      ],
      "execution_count": null,
      "outputs": [
        {
          "output_type": "execute_result",
          "data": {
            "text/html": [
              "<div>\n",
              "<style scoped>\n",
              "    .dataframe tbody tr th:only-of-type {\n",
              "        vertical-align: middle;\n",
              "    }\n",
              "\n",
              "    .dataframe tbody tr th {\n",
              "        vertical-align: top;\n",
              "    }\n",
              "\n",
              "    .dataframe thead th {\n",
              "        text-align: right;\n",
              "    }\n",
              "</style>\n",
              "<table border=\"1\" class=\"dataframe\">\n",
              "  <thead>\n",
              "    <tr style=\"text-align: right;\">\n",
              "      <th></th>\n",
              "      <th>id</th>\n",
              "      <th>url</th>\n",
              "      <th>region</th>\n",
              "      <th>region_url</th>\n",
              "      <th>price</th>\n",
              "      <th>year</th>\n",
              "      <th>manufacturer</th>\n",
              "      <th>model</th>\n",
              "      <th>condition</th>\n",
              "      <th>cylinders</th>\n",
              "      <th>fuel</th>\n",
              "      <th>odometer</th>\n",
              "      <th>title_status</th>\n",
              "      <th>transmission</th>\n",
              "      <th>VIN</th>\n",
              "      <th>drive</th>\n",
              "      <th>size</th>\n",
              "      <th>type</th>\n",
              "      <th>paint_color</th>\n",
              "      <th>image_url</th>\n",
              "      <th>description</th>\n",
              "      <th>county</th>\n",
              "      <th>state</th>\n",
              "      <th>lat</th>\n",
              "      <th>long</th>\n",
              "    </tr>\n",
              "  </thead>\n",
              "  <tbody>\n",
              "    <tr>\n",
              "      <th>count</th>\n",
              "      <td>4.413960e+05</td>\n",
              "      <td>441396</td>\n",
              "      <td>441396</td>\n",
              "      <td>441396</td>\n",
              "      <td>4.413960e+05</td>\n",
              "      <td>440359.000000</td>\n",
              "      <td>423019</td>\n",
              "      <td>436057</td>\n",
              "      <td>257554</td>\n",
              "      <td>253231</td>\n",
              "      <td>438515</td>\n",
              "      <td>4.370180e+05</td>\n",
              "      <td>432451</td>\n",
              "      <td>438769</td>\n",
              "      <td>277315</td>\n",
              "      <td>307747</td>\n",
              "      <td>125812</td>\n",
              "      <td>346047</td>\n",
              "      <td>308374</td>\n",
              "      <td>441343</td>\n",
              "      <td>441340</td>\n",
              "      <td>0.0</td>\n",
              "      <td>441396</td>\n",
              "      <td>434669.000000</td>\n",
              "      <td>434669.000000</td>\n",
              "    </tr>\n",
              "    <tr>\n",
              "      <th>unique</th>\n",
              "      <td>NaN</td>\n",
              "      <td>441396</td>\n",
              "      <td>404</td>\n",
              "      <td>413</td>\n",
              "      <td>NaN</td>\n",
              "      <td>NaN</td>\n",
              "      <td>42</td>\n",
              "      <td>30082</td>\n",
              "      <td>6</td>\n",
              "      <td>8</td>\n",
              "      <td>5</td>\n",
              "      <td>NaN</td>\n",
              "      <td>6</td>\n",
              "      <td>3</td>\n",
              "      <td>123662</td>\n",
              "      <td>3</td>\n",
              "      <td>4</td>\n",
              "      <td>13</td>\n",
              "      <td>12</td>\n",
              "      <td>249901</td>\n",
              "      <td>372922</td>\n",
              "      <td>NaN</td>\n",
              "      <td>51</td>\n",
              "      <td>NaN</td>\n",
              "      <td>NaN</td>\n",
              "    </tr>\n",
              "    <tr>\n",
              "      <th>top</th>\n",
              "      <td>NaN</td>\n",
              "      <td>https://dayton.craigslist.org/ctd/d/chillicoth...</td>\n",
              "      <td>columbus</td>\n",
              "      <td>https://fresno.craigslist.org</td>\n",
              "      <td>NaN</td>\n",
              "      <td>NaN</td>\n",
              "      <td>ford</td>\n",
              "      <td>f-150</td>\n",
              "      <td>good</td>\n",
              "      <td>6 cylinders</td>\n",
              "      <td>gas</td>\n",
              "      <td>NaN</td>\n",
              "      <td>clean</td>\n",
              "      <td>automatic</td>\n",
              "      <td>KMTG34LE6LU049741</td>\n",
              "      <td>4wd</td>\n",
              "      <td>full-size</td>\n",
              "      <td>sedan</td>\n",
              "      <td>white</td>\n",
              "      <td>https://images.craigslist.org/00N0N_1xMPvfxRAI...</td>\n",
              "      <td>35 VEHICLES PRICED UNDER $3000!!!  BIG TIME! T...</td>\n",
              "      <td>NaN</td>\n",
              "      <td>ca</td>\n",
              "      <td>NaN</td>\n",
              "      <td>NaN</td>\n",
              "    </tr>\n",
              "    <tr>\n",
              "      <th>freq</th>\n",
              "      <td>NaN</td>\n",
              "      <td>1</td>\n",
              "      <td>3742</td>\n",
              "      <td>2992</td>\n",
              "      <td>NaN</td>\n",
              "      <td>NaN</td>\n",
              "      <td>70467</td>\n",
              "      <td>8006</td>\n",
              "      <td>122203</td>\n",
              "      <td>94528</td>\n",
              "      <td>367217</td>\n",
              "      <td>NaN</td>\n",
              "      <td>418054</td>\n",
              "      <td>357948</td>\n",
              "      <td>232</td>\n",
              "      <td>133843</td>\n",
              "      <td>65569</td>\n",
              "      <td>94094</td>\n",
              "      <td>81895</td>\n",
              "      <td>4990</td>\n",
              "      <td>273</td>\n",
              "      <td>NaN</td>\n",
              "      <td>52089</td>\n",
              "      <td>NaN</td>\n",
              "      <td>NaN</td>\n",
              "    </tr>\n",
              "    <tr>\n",
              "      <th>mean</th>\n",
              "      <td>7.302968e+09</td>\n",
              "      <td>NaN</td>\n",
              "      <td>NaN</td>\n",
              "      <td>NaN</td>\n",
              "      <td>6.400219e+04</td>\n",
              "      <td>2011.491508</td>\n",
              "      <td>NaN</td>\n",
              "      <td>NaN</td>\n",
              "      <td>NaN</td>\n",
              "      <td>NaN</td>\n",
              "      <td>NaN</td>\n",
              "      <td>2.252556e+05</td>\n",
              "      <td>NaN</td>\n",
              "      <td>NaN</td>\n",
              "      <td>NaN</td>\n",
              "      <td>NaN</td>\n",
              "      <td>NaN</td>\n",
              "      <td>NaN</td>\n",
              "      <td>NaN</td>\n",
              "      <td>NaN</td>\n",
              "      <td>NaN</td>\n",
              "      <td>NaN</td>\n",
              "      <td>NaN</td>\n",
              "      <td>38.474609</td>\n",
              "      <td>-94.567008</td>\n",
              "    </tr>\n",
              "    <tr>\n",
              "      <th>std</th>\n",
              "      <td>4.524183e+06</td>\n",
              "      <td>NaN</td>\n",
              "      <td>NaN</td>\n",
              "      <td>NaN</td>\n",
              "      <td>1.109241e+07</td>\n",
              "      <td>9.271752</td>\n",
              "      <td>NaN</td>\n",
              "      <td>NaN</td>\n",
              "      <td>NaN</td>\n",
              "      <td>NaN</td>\n",
              "      <td>NaN</td>\n",
              "      <td>1.601536e+07</td>\n",
              "      <td>NaN</td>\n",
              "      <td>NaN</td>\n",
              "      <td>NaN</td>\n",
              "      <td>NaN</td>\n",
              "      <td>NaN</td>\n",
              "      <td>NaN</td>\n",
              "      <td>NaN</td>\n",
              "      <td>NaN</td>\n",
              "      <td>NaN</td>\n",
              "      <td>NaN</td>\n",
              "      <td>NaN</td>\n",
              "      <td>5.856119</td>\n",
              "      <td>18.237828</td>\n",
              "    </tr>\n",
              "    <tr>\n",
              "      <th>min</th>\n",
              "      <td>7.208550e+09</td>\n",
              "      <td>NaN</td>\n",
              "      <td>NaN</td>\n",
              "      <td>NaN</td>\n",
              "      <td>0.000000e+00</td>\n",
              "      <td>1900.000000</td>\n",
              "      <td>NaN</td>\n",
              "      <td>NaN</td>\n",
              "      <td>NaN</td>\n",
              "      <td>NaN</td>\n",
              "      <td>NaN</td>\n",
              "      <td>0.000000e+00</td>\n",
              "      <td>NaN</td>\n",
              "      <td>NaN</td>\n",
              "      <td>NaN</td>\n",
              "      <td>NaN</td>\n",
              "      <td>NaN</td>\n",
              "      <td>NaN</td>\n",
              "      <td>NaN</td>\n",
              "      <td>NaN</td>\n",
              "      <td>NaN</td>\n",
              "      <td>NaN</td>\n",
              "      <td>NaN</td>\n",
              "      <td>-73.081059</td>\n",
              "      <td>-175.319824</td>\n",
              "    </tr>\n",
              "    <tr>\n",
              "      <th>25%</th>\n",
              "      <td>7.299673e+09</td>\n",
              "      <td>NaN</td>\n",
              "      <td>NaN</td>\n",
              "      <td>NaN</td>\n",
              "      <td>5.950000e+03</td>\n",
              "      <td>2009.000000</td>\n",
              "      <td>NaN</td>\n",
              "      <td>NaN</td>\n",
              "      <td>NaN</td>\n",
              "      <td>NaN</td>\n",
              "      <td>NaN</td>\n",
              "      <td>3.942700e+04</td>\n",
              "      <td>NaN</td>\n",
              "      <td>NaN</td>\n",
              "      <td>NaN</td>\n",
              "      <td>NaN</td>\n",
              "      <td>NaN</td>\n",
              "      <td>NaN</td>\n",
              "      <td>NaN</td>\n",
              "      <td>NaN</td>\n",
              "      <td>NaN</td>\n",
              "      <td>NaN</td>\n",
              "      <td>NaN</td>\n",
              "      <td>34.429600</td>\n",
              "      <td>-111.800000</td>\n",
              "    </tr>\n",
              "    <tr>\n",
              "      <th>50%</th>\n",
              "      <td>7.303986e+09</td>\n",
              "      <td>NaN</td>\n",
              "      <td>NaN</td>\n",
              "      <td>NaN</td>\n",
              "      <td>1.347750e+04</td>\n",
              "      <td>2014.000000</td>\n",
              "      <td>NaN</td>\n",
              "      <td>NaN</td>\n",
              "      <td>NaN</td>\n",
              "      <td>NaN</td>\n",
              "      <td>NaN</td>\n",
              "      <td>8.500000e+04</td>\n",
              "      <td>NaN</td>\n",
              "      <td>NaN</td>\n",
              "      <td>NaN</td>\n",
              "      <td>NaN</td>\n",
              "      <td>NaN</td>\n",
              "      <td>NaN</td>\n",
              "      <td>NaN</td>\n",
              "      <td>NaN</td>\n",
              "      <td>NaN</td>\n",
              "      <td>NaN</td>\n",
              "      <td>NaN</td>\n",
              "      <td>39.157300</td>\n",
              "      <td>-88.167287</td>\n",
              "    </tr>\n",
              "    <tr>\n",
              "      <th>75%</th>\n",
              "      <td>7.306984e+09</td>\n",
              "      <td>NaN</td>\n",
              "      <td>NaN</td>\n",
              "      <td>NaN</td>\n",
              "      <td>2.499900e+04</td>\n",
              "      <td>2017.000000</td>\n",
              "      <td>NaN</td>\n",
              "      <td>NaN</td>\n",
              "      <td>NaN</td>\n",
              "      <td>NaN</td>\n",
              "      <td>NaN</td>\n",
              "      <td>1.310000e+05</td>\n",
              "      <td>NaN</td>\n",
              "      <td>NaN</td>\n",
              "      <td>NaN</td>\n",
              "      <td>NaN</td>\n",
              "      <td>NaN</td>\n",
              "      <td>NaN</td>\n",
              "      <td>NaN</td>\n",
              "      <td>NaN</td>\n",
              "      <td>NaN</td>\n",
              "      <td>NaN</td>\n",
              "      <td>NaN</td>\n",
              "      <td>42.354200</td>\n",
              "      <td>-80.832500</td>\n",
              "    </tr>\n",
              "    <tr>\n",
              "      <th>max</th>\n",
              "      <td>7.308634e+09</td>\n",
              "      <td>NaN</td>\n",
              "      <td>NaN</td>\n",
              "      <td>NaN</td>\n",
              "      <td>3.736929e+09</td>\n",
              "      <td>2022.000000</td>\n",
              "      <td>NaN</td>\n",
              "      <td>NaN</td>\n",
              "      <td>NaN</td>\n",
              "      <td>NaN</td>\n",
              "      <td>NaN</td>\n",
              "      <td>2.000799e+09</td>\n",
              "      <td>NaN</td>\n",
              "      <td>NaN</td>\n",
              "      <td>NaN</td>\n",
              "      <td>NaN</td>\n",
              "      <td>NaN</td>\n",
              "      <td>NaN</td>\n",
              "      <td>NaN</td>\n",
              "      <td>NaN</td>\n",
              "      <td>NaN</td>\n",
              "      <td>NaN</td>\n",
              "      <td>NaN</td>\n",
              "      <td>84.620231</td>\n",
              "      <td>173.885502</td>\n",
              "    </tr>\n",
              "  </tbody>\n",
              "</table>\n",
              "</div>"
            ],
            "text/plain": [
              "                  id  ...           long\n",
              "count   4.413960e+05  ...  434669.000000\n",
              "unique           NaN  ...            NaN\n",
              "top              NaN  ...            NaN\n",
              "freq             NaN  ...            NaN\n",
              "mean    7.302968e+09  ...     -94.567008\n",
              "std     4.524183e+06  ...      18.237828\n",
              "min     7.208550e+09  ...    -175.319824\n",
              "25%     7.299673e+09  ...    -111.800000\n",
              "50%     7.303986e+09  ...     -88.167287\n",
              "75%     7.306984e+09  ...     -80.832500\n",
              "max     7.308634e+09  ...     173.885502\n",
              "\n",
              "[11 rows x 25 columns]"
            ]
          },
          "metadata": {
            "tags": []
          },
          "execution_count": 11
        }
      ]
    },
    {
      "cell_type": "code",
      "metadata": {
        "colab": {
          "base_uri": "https://localhost:8080/"
        },
        "id": "GiNfdNKOKPvE",
        "outputId": "f165da7a-10e3-48d3-ad6d-61d69ab0a549"
      },
      "source": [
        "# check type of each variable\n",
        "vehicles.info()"
      ],
      "execution_count": null,
      "outputs": [
        {
          "output_type": "stream",
          "text": [
            "<class 'pandas.core.frame.DataFrame'>\n",
            "RangeIndex: 441396 entries, 0 to 441395\n",
            "Data columns (total 25 columns):\n",
            " #   Column        Non-Null Count   Dtype  \n",
            "---  ------        --------------   -----  \n",
            " 0   id            441396 non-null  int64  \n",
            " 1   url           441396 non-null  object \n",
            " 2   region        441396 non-null  object \n",
            " 3   region_url    441396 non-null  object \n",
            " 4   price         441396 non-null  int64  \n",
            " 5   year          440359 non-null  float64\n",
            " 6   manufacturer  423019 non-null  object \n",
            " 7   model         436057 non-null  object \n",
            " 8   condition     257554 non-null  object \n",
            " 9   cylinders     253231 non-null  object \n",
            " 10  fuel          438515 non-null  object \n",
            " 11  odometer      437018 non-null  float64\n",
            " 12  title_status  432451 non-null  object \n",
            " 13  transmission  438769 non-null  object \n",
            " 14  VIN           277315 non-null  object \n",
            " 15  drive         307747 non-null  object \n",
            " 16  size          125812 non-null  object \n",
            " 17  type          346047 non-null  object \n",
            " 18  paint_color   308374 non-null  object \n",
            " 19  image_url     441343 non-null  object \n",
            " 20  description   441340 non-null  object \n",
            " 21  county        0 non-null       float64\n",
            " 22  state         441396 non-null  object \n",
            " 23  lat           434669 non-null  float64\n",
            " 24  long          434669 non-null  float64\n",
            "dtypes: float64(5), int64(2), object(18)\n",
            "memory usage: 84.2+ MB\n"
          ],
          "name": "stdout"
        }
      ]
    },
    {
      "cell_type": "code",
      "metadata": {
        "id": "n22OEIBJKPyP"
      },
      "source": [
        "#Dropping out columns not needed\n",
        "vehicles=vehicles.drop(['id','county','image_url','VIN','url', 'region_url' ,'size' ,'condition','lat','long'], axis=1)"
      ],
      "execution_count": null,
      "outputs": []
    },
    {
      "cell_type": "code",
      "metadata": {
        "colab": {
          "base_uri": "https://localhost:8080/"
        },
        "id": "jQC5kcxYKP04",
        "outputId": "3417afec-d0c9-4b69-dfa6-5e6b78400595"
      },
      "source": [
        "# total null value for each column\n",
        "vehicles.isnull().sum()"
      ],
      "execution_count": null,
      "outputs": [
        {
          "output_type": "execute_result",
          "data": {
            "text/plain": [
              "region               0\n",
              "price                0\n",
              "year              1037\n",
              "manufacturer     18377\n",
              "model             5339\n",
              "cylinders       188165\n",
              "fuel              2881\n",
              "odometer          4378\n",
              "title_status      8945\n",
              "transmission      2627\n",
              "drive           133649\n",
              "type             95349\n",
              "paint_color     133022\n",
              "description         56\n",
              "state                0\n",
              "dtype: int64"
            ]
          },
          "metadata": {
            "tags": []
          },
          "execution_count": 14
        }
      ]
    },
    {
      "cell_type": "code",
      "metadata": {
        "colab": {
          "base_uri": "https://localhost:8080/",
          "height": 421
        },
        "id": "DH4yvpM_KP4O",
        "outputId": "787dfd56-371f-425c-dd8c-b646ab7fca24"
      },
      "source": [
        "# sorting columns based on their total null\n",
        "null_val = pd.DataFrame(vehicles.isnull().sum(), columns = ['Nan_sum'])\n",
        "null_val = null_val[null_val['Nan_sum']>0]\n",
        "null_val['Percentage'] = (null_val['Nan_sum']/len(vehicles))*100\n",
        "null_val = null_val.sort_values(by=['Nan_sum'], ascending=False)\n",
        "null_val"
      ],
      "execution_count": null,
      "outputs": [
        {
          "output_type": "execute_result",
          "data": {
            "text/html": [
              "<div>\n",
              "<style scoped>\n",
              "    .dataframe tbody tr th:only-of-type {\n",
              "        vertical-align: middle;\n",
              "    }\n",
              "\n",
              "    .dataframe tbody tr th {\n",
              "        vertical-align: top;\n",
              "    }\n",
              "\n",
              "    .dataframe thead th {\n",
              "        text-align: right;\n",
              "    }\n",
              "</style>\n",
              "<table border=\"1\" class=\"dataframe\">\n",
              "  <thead>\n",
              "    <tr style=\"text-align: right;\">\n",
              "      <th></th>\n",
              "      <th>Nan_sum</th>\n",
              "      <th>Percentage</th>\n",
              "    </tr>\n",
              "  </thead>\n",
              "  <tbody>\n",
              "    <tr>\n",
              "      <th>cylinders</th>\n",
              "      <td>188165</td>\n",
              "      <td>42.629521</td>\n",
              "    </tr>\n",
              "    <tr>\n",
              "      <th>drive</th>\n",
              "      <td>133649</td>\n",
              "      <td>30.278707</td>\n",
              "    </tr>\n",
              "    <tr>\n",
              "      <th>paint_color</th>\n",
              "      <td>133022</td>\n",
              "      <td>30.136657</td>\n",
              "    </tr>\n",
              "    <tr>\n",
              "      <th>type</th>\n",
              "      <td>95349</td>\n",
              "      <td>21.601691</td>\n",
              "    </tr>\n",
              "    <tr>\n",
              "      <th>manufacturer</th>\n",
              "      <td>18377</td>\n",
              "      <td>4.163382</td>\n",
              "    </tr>\n",
              "    <tr>\n",
              "      <th>title_status</th>\n",
              "      <td>8945</td>\n",
              "      <td>2.026525</td>\n",
              "    </tr>\n",
              "    <tr>\n",
              "      <th>model</th>\n",
              "      <td>5339</td>\n",
              "      <td>1.209571</td>\n",
              "    </tr>\n",
              "    <tr>\n",
              "      <th>odometer</th>\n",
              "      <td>4378</td>\n",
              "      <td>0.991853</td>\n",
              "    </tr>\n",
              "    <tr>\n",
              "      <th>fuel</th>\n",
              "      <td>2881</td>\n",
              "      <td>0.652702</td>\n",
              "    </tr>\n",
              "    <tr>\n",
              "      <th>transmission</th>\n",
              "      <td>2627</td>\n",
              "      <td>0.595157</td>\n",
              "    </tr>\n",
              "    <tr>\n",
              "      <th>year</th>\n",
              "      <td>1037</td>\n",
              "      <td>0.234936</td>\n",
              "    </tr>\n",
              "    <tr>\n",
              "      <th>description</th>\n",
              "      <td>56</td>\n",
              "      <td>0.012687</td>\n",
              "    </tr>\n",
              "  </tbody>\n",
              "</table>\n",
              "</div>"
            ],
            "text/plain": [
              "              Nan_sum  Percentage\n",
              "cylinders      188165   42.629521\n",
              "drive          133649   30.278707\n",
              "paint_color    133022   30.136657\n",
              "type            95349   21.601691\n",
              "manufacturer    18377    4.163382\n",
              "title_status     8945    2.026525\n",
              "model            5339    1.209571\n",
              "odometer         4378    0.991853\n",
              "fuel             2881    0.652702\n",
              "transmission     2627    0.595157\n",
              "year             1037    0.234936\n",
              "description        56    0.012687"
            ]
          },
          "metadata": {
            "tags": []
          },
          "execution_count": 15
        }
      ]
    },
    {
      "cell_type": "markdown",
      "metadata": {
        "id": "ay7IT6wYLOdH"
      },
      "source": [
        "**We see the columns with very high numbers of missing values: cylinder, drive, type, paint_color and manufacturer.**\n",
        "\n",
        "**We can deduce some of their missing values from the description column. We can create new columns for description, drive, type, paint_color and cylinder**"
      ]
    },
    {
      "cell_type": "code",
      "metadata": {
        "colab": {
          "base_uri": "https://localhost:8080/"
        },
        "id": "z9mBBYcoKP7Y",
        "outputId": "29bd45f8-9075-4409-ed28-43d926b293f5"
      },
      "source": [
        "#Converting strings within the description column to lower case\n",
        "\n",
        "vehicles['new_description'] = vehicles['description'].astype(str).apply(lambda x: x.lower())\n",
        "\n",
        "vehicles['new_description']"
      ],
      "execution_count": null,
      "outputs": [
        {
          "output_type": "execute_result",
          "data": {
            "text/plain": [
              "0         2003 chrysler town and country handicapped acc...\n",
              "1         carvana is the safer way to buy a car during t...\n",
              "2         carvana is the safer way to buy a car during t...\n",
              "3         carvana is the safer way to buy a car during t...\n",
              "4         carvana is the safer way to buy a car during t...\n",
              "                                ...                        \n",
              "441391    carvana is the safer way to buy a car during t...\n",
              "441392    carvana is the safer way to buy a car during t...\n",
              "441393    carvana is the safer way to buy a car during t...\n",
              "441394    carvana is the safer way to buy a car during t...\n",
              "441395    carvana is the safer way to buy a car during t...\n",
              "Name: new_description, Length: 441396, dtype: object"
            ]
          },
          "metadata": {
            "tags": []
          },
          "execution_count": 16
        }
      ]
    },
    {
      "cell_type": "markdown",
      "metadata": {
        "id": "7SCnUp1nL8t9"
      },
      "source": [
        "### **FOR DRIVE**"
      ]
    },
    {
      "cell_type": "code",
      "metadata": {
        "colab": {
          "base_uri": "https://localhost:8080/"
        },
        "id": "-Kiop-OXKQBV",
        "outputId": "ef1d1ae7-f687-4007-fe93-a2944bb37ea1"
      },
      "source": [
        "#drive = df.groupby('drive')['drive'].count()\n",
        "#drive\n",
        "vehicles.drive.value_counts()"
      ],
      "execution_count": null,
      "outputs": [
        {
          "output_type": "execute_result",
          "data": {
            "text/plain": [
              "4wd    133843\n",
              "fwd    113946\n",
              "rwd     59958\n",
              "Name: drive, dtype: int64"
            ]
          },
          "metadata": {
            "tags": []
          },
          "execution_count": 17
        }
      ]
    },
    {
      "cell_type": "code",
      "metadata": {
        "id": "q2Vz4U0HKQEe"
      },
      "source": [
        "#Creating a new column for drive by searching for occurrences of the 3 drive types within the description column\n",
        "\n",
        "\n",
        "vehicles['drive_1'] = vehicles.new_description.str.findall('(4wd|fwd|rwd)')\n",
        "\n",
        "vehicles['drive_1'] = vehicles['drive_1'].apply(', '.join)\n",
        "\n",
        "#if drive is NAN, replace with the value in 'new_drive'\n",
        "vehicles.loc[vehicles['drive'].isnull(), 'drive'] =  vehicles['drive_1']"
      ],
      "execution_count": null,
      "outputs": []
    },
    {
      "cell_type": "code",
      "metadata": {
        "colab": {
          "base_uri": "https://localhost:8080/",
          "height": 1000
        },
        "id": "KYa_9tE2KQKI",
        "outputId": "f1c126d9-1f38-45da-d90f-bc28bc9cc691"
      },
      "source": [
        "vehicles[['drive','drive_1']].sample(50)"
      ],
      "execution_count": null,
      "outputs": [
        {
          "output_type": "execute_result",
          "data": {
            "text/html": [
              "<div>\n",
              "<style scoped>\n",
              "    .dataframe tbody tr th:only-of-type {\n",
              "        vertical-align: middle;\n",
              "    }\n",
              "\n",
              "    .dataframe tbody tr th {\n",
              "        vertical-align: top;\n",
              "    }\n",
              "\n",
              "    .dataframe thead th {\n",
              "        text-align: right;\n",
              "    }\n",
              "</style>\n",
              "<table border=\"1\" class=\"dataframe\">\n",
              "  <thead>\n",
              "    <tr style=\"text-align: right;\">\n",
              "      <th></th>\n",
              "      <th>drive</th>\n",
              "      <th>drive_1</th>\n",
              "    </tr>\n",
              "  </thead>\n",
              "  <tbody>\n",
              "    <tr>\n",
              "      <th>92265</th>\n",
              "      <td></td>\n",
              "      <td></td>\n",
              "    </tr>\n",
              "    <tr>\n",
              "      <th>254786</th>\n",
              "      <td></td>\n",
              "      <td></td>\n",
              "    </tr>\n",
              "    <tr>\n",
              "      <th>14126</th>\n",
              "      <td>rwd</td>\n",
              "      <td>rwd</td>\n",
              "    </tr>\n",
              "    <tr>\n",
              "      <th>196693</th>\n",
              "      <td>fwd</td>\n",
              "      <td></td>\n",
              "    </tr>\n",
              "    <tr>\n",
              "      <th>318691</th>\n",
              "      <td>4wd</td>\n",
              "      <td>4wd</td>\n",
              "    </tr>\n",
              "    <tr>\n",
              "      <th>19803</th>\n",
              "      <td>fwd</td>\n",
              "      <td>fwd, 4wd, 4wd, 4wd</td>\n",
              "    </tr>\n",
              "    <tr>\n",
              "      <th>322429</th>\n",
              "      <td>fwd</td>\n",
              "      <td></td>\n",
              "    </tr>\n",
              "    <tr>\n",
              "      <th>297486</th>\n",
              "      <td>fwd</td>\n",
              "      <td>fwd</td>\n",
              "    </tr>\n",
              "    <tr>\n",
              "      <th>421383</th>\n",
              "      <td>fwd</td>\n",
              "      <td></td>\n",
              "    </tr>\n",
              "    <tr>\n",
              "      <th>126298</th>\n",
              "      <td>fwd</td>\n",
              "      <td></td>\n",
              "    </tr>\n",
              "    <tr>\n",
              "      <th>348757</th>\n",
              "      <td>rwd</td>\n",
              "      <td></td>\n",
              "    </tr>\n",
              "    <tr>\n",
              "      <th>305410</th>\n",
              "      <td>4wd</td>\n",
              "      <td></td>\n",
              "    </tr>\n",
              "    <tr>\n",
              "      <th>162301</th>\n",
              "      <td>4wd</td>\n",
              "      <td>4wd</td>\n",
              "    </tr>\n",
              "    <tr>\n",
              "      <th>170344</th>\n",
              "      <td>4wd</td>\n",
              "      <td>4wd, 4wd, 4wd, 4wd, 4wd</td>\n",
              "    </tr>\n",
              "    <tr>\n",
              "      <th>290129</th>\n",
              "      <td></td>\n",
              "      <td></td>\n",
              "    </tr>\n",
              "    <tr>\n",
              "      <th>262447</th>\n",
              "      <td>rwd</td>\n",
              "      <td>rwd, rwd</td>\n",
              "    </tr>\n",
              "    <tr>\n",
              "      <th>417928</th>\n",
              "      <td>4wd</td>\n",
              "      <td></td>\n",
              "    </tr>\n",
              "    <tr>\n",
              "      <th>156753</th>\n",
              "      <td>fwd</td>\n",
              "      <td></td>\n",
              "    </tr>\n",
              "    <tr>\n",
              "      <th>236980</th>\n",
              "      <td>4wd</td>\n",
              "      <td></td>\n",
              "    </tr>\n",
              "    <tr>\n",
              "      <th>254606</th>\n",
              "      <td></td>\n",
              "      <td></td>\n",
              "    </tr>\n",
              "    <tr>\n",
              "      <th>432502</th>\n",
              "      <td>rwd</td>\n",
              "      <td>rwd</td>\n",
              "    </tr>\n",
              "    <tr>\n",
              "      <th>181657</th>\n",
              "      <td>4wd</td>\n",
              "      <td>4wd</td>\n",
              "    </tr>\n",
              "    <tr>\n",
              "      <th>30640</th>\n",
              "      <td>4wd</td>\n",
              "      <td>4wd, 4wd</td>\n",
              "    </tr>\n",
              "    <tr>\n",
              "      <th>164571</th>\n",
              "      <td>fwd</td>\n",
              "      <td>fwd</td>\n",
              "    </tr>\n",
              "    <tr>\n",
              "      <th>82802</th>\n",
              "      <td>fwd</td>\n",
              "      <td>fwd, fwd</td>\n",
              "    </tr>\n",
              "    <tr>\n",
              "      <th>342487</th>\n",
              "      <td></td>\n",
              "      <td></td>\n",
              "    </tr>\n",
              "    <tr>\n",
              "      <th>207564</th>\n",
              "      <td>4wd</td>\n",
              "      <td></td>\n",
              "    </tr>\n",
              "    <tr>\n",
              "      <th>438300</th>\n",
              "      <td>4wd</td>\n",
              "      <td></td>\n",
              "    </tr>\n",
              "    <tr>\n",
              "      <th>95419</th>\n",
              "      <td></td>\n",
              "      <td></td>\n",
              "    </tr>\n",
              "    <tr>\n",
              "      <th>157091</th>\n",
              "      <td>4wd</td>\n",
              "      <td>4wd</td>\n",
              "    </tr>\n",
              "    <tr>\n",
              "      <th>392441</th>\n",
              "      <td>4wd</td>\n",
              "      <td>4wd</td>\n",
              "    </tr>\n",
              "    <tr>\n",
              "      <th>409654</th>\n",
              "      <td>fwd</td>\n",
              "      <td></td>\n",
              "    </tr>\n",
              "    <tr>\n",
              "      <th>56675</th>\n",
              "      <td>fwd</td>\n",
              "      <td>rwd, rwd</td>\n",
              "    </tr>\n",
              "    <tr>\n",
              "      <th>35835</th>\n",
              "      <td>4wd</td>\n",
              "      <td></td>\n",
              "    </tr>\n",
              "    <tr>\n",
              "      <th>351143</th>\n",
              "      <td>4wd</td>\n",
              "      <td>4wd</td>\n",
              "    </tr>\n",
              "    <tr>\n",
              "      <th>399233</th>\n",
              "      <td>fwd</td>\n",
              "      <td></td>\n",
              "    </tr>\n",
              "    <tr>\n",
              "      <th>284392</th>\n",
              "      <td>fwd</td>\n",
              "      <td>fwd</td>\n",
              "    </tr>\n",
              "    <tr>\n",
              "      <th>297723</th>\n",
              "      <td>rwd</td>\n",
              "      <td></td>\n",
              "    </tr>\n",
              "    <tr>\n",
              "      <th>234352</th>\n",
              "      <td></td>\n",
              "      <td></td>\n",
              "    </tr>\n",
              "    <tr>\n",
              "      <th>204034</th>\n",
              "      <td>fwd</td>\n",
              "      <td>fwd, fwd, fwd, fwd, fwd, fwd, fwd, fwd</td>\n",
              "    </tr>\n",
              "    <tr>\n",
              "      <th>27528</th>\n",
              "      <td>fwd</td>\n",
              "      <td>fwd, rwd, fwd, 4wd</td>\n",
              "    </tr>\n",
              "    <tr>\n",
              "      <th>317141</th>\n",
              "      <td></td>\n",
              "      <td></td>\n",
              "    </tr>\n",
              "    <tr>\n",
              "      <th>110520</th>\n",
              "      <td></td>\n",
              "      <td></td>\n",
              "    </tr>\n",
              "    <tr>\n",
              "      <th>86200</th>\n",
              "      <td>rwd</td>\n",
              "      <td>rwd</td>\n",
              "    </tr>\n",
              "    <tr>\n",
              "      <th>5167</th>\n",
              "      <td>fwd</td>\n",
              "      <td>fwd</td>\n",
              "    </tr>\n",
              "    <tr>\n",
              "      <th>236199</th>\n",
              "      <td>4wd</td>\n",
              "      <td>4wd</td>\n",
              "    </tr>\n",
              "    <tr>\n",
              "      <th>133248</th>\n",
              "      <td></td>\n",
              "      <td></td>\n",
              "    </tr>\n",
              "    <tr>\n",
              "      <th>334025</th>\n",
              "      <td>fwd</td>\n",
              "      <td></td>\n",
              "    </tr>\n",
              "    <tr>\n",
              "      <th>97510</th>\n",
              "      <td>4wd</td>\n",
              "      <td></td>\n",
              "    </tr>\n",
              "    <tr>\n",
              "      <th>381322</th>\n",
              "      <td></td>\n",
              "      <td></td>\n",
              "    </tr>\n",
              "  </tbody>\n",
              "</table>\n",
              "</div>"
            ],
            "text/plain": [
              "       drive                                 drive_1\n",
              "92265                                               \n",
              "254786                                              \n",
              "14126    rwd                                     rwd\n",
              "196693   fwd                                        \n",
              "318691   4wd                                     4wd\n",
              "19803    fwd                      fwd, 4wd, 4wd, 4wd\n",
              "322429   fwd                                        \n",
              "297486   fwd                                     fwd\n",
              "421383   fwd                                        \n",
              "126298   fwd                                        \n",
              "348757   rwd                                        \n",
              "305410   4wd                                        \n",
              "162301   4wd                                     4wd\n",
              "170344   4wd                 4wd, 4wd, 4wd, 4wd, 4wd\n",
              "290129                                              \n",
              "262447   rwd                                rwd, rwd\n",
              "417928   4wd                                        \n",
              "156753   fwd                                        \n",
              "236980   4wd                                        \n",
              "254606                                              \n",
              "432502   rwd                                     rwd\n",
              "181657   4wd                                     4wd\n",
              "30640    4wd                                4wd, 4wd\n",
              "164571   fwd                                     fwd\n",
              "82802    fwd                                fwd, fwd\n",
              "342487                                              \n",
              "207564   4wd                                        \n",
              "438300   4wd                                        \n",
              "95419                                               \n",
              "157091   4wd                                     4wd\n",
              "392441   4wd                                     4wd\n",
              "409654   fwd                                        \n",
              "56675    fwd                                rwd, rwd\n",
              "35835    4wd                                        \n",
              "351143   4wd                                     4wd\n",
              "399233   fwd                                        \n",
              "284392   fwd                                     fwd\n",
              "297723   rwd                                        \n",
              "234352                                              \n",
              "204034   fwd  fwd, fwd, fwd, fwd, fwd, fwd, fwd, fwd\n",
              "27528    fwd                      fwd, rwd, fwd, 4wd\n",
              "317141                                              \n",
              "110520                                              \n",
              "86200    rwd                                     rwd\n",
              "5167     fwd                                     fwd\n",
              "236199   4wd                                     4wd\n",
              "133248                                              \n",
              "334025   fwd                                        \n",
              "97510    4wd                                        \n",
              "381322                                              "
            ]
          },
          "metadata": {
            "tags": []
          },
          "execution_count": 19
        }
      ]
    },
    {
      "cell_type": "code",
      "metadata": {
        "colab": {
          "base_uri": "https://localhost:8080/"
        },
        "id": "lPqRKUlPKQNQ",
        "outputId": "78142249-eba6-4541-c689-693958f51464"
      },
      "source": [
        "vehicles[vehicles['drive'] == ''].sum"
      ],
      "execution_count": null,
      "outputs": [
        {
          "output_type": "execute_result",
          "data": {
            "text/plain": [
              "<bound method DataFrame.sum of          region  ...  drive_1\n",
              "8        auburn  ...         \n",
              "9        auburn  ...         \n",
              "10       auburn  ...         \n",
              "13       auburn  ...         \n",
              "15       auburn  ...         \n",
              "...         ...  ...      ...\n",
              "441386  wyoming  ...         \n",
              "441387  wyoming  ...         \n",
              "441389  wyoming  ...         \n",
              "441391  wyoming  ...         \n",
              "441394  wyoming  ...         \n",
              "\n",
              "[104473 rows x 17 columns]>"
            ]
          },
          "metadata": {
            "tags": []
          },
          "execution_count": 20
        }
      ]
    },
    {
      "cell_type": "code",
      "metadata": {
        "colab": {
          "base_uri": "https://localhost:8080/"
        },
        "id": "VWRE-LNFKQRe",
        "outputId": "4cb85ef1-9a9e-441f-d7f1-31b63a99b900"
      },
      "source": [
        "gc.collect()"
      ],
      "execution_count": null,
      "outputs": [
        {
          "output_type": "execute_result",
          "data": {
            "text/plain": [
              "272"
            ]
          },
          "metadata": {
            "tags": []
          },
          "execution_count": 21
        }
      ]
    },
    {
      "cell_type": "markdown",
      "metadata": {
        "id": "-fFoaVYEM2ac"
      },
      "source": [
        "**WE CAN OBSERVE THAT FROM THE NUMBER OF ROWS ABOVE, WE SEE THAT 102109 ROWS ARE STILL MISSING. OUT OF THE 130567 THAT WAS THERE BEFORE, MEANING WE FILLED ABOUT 28,458 ROWS**"
      ]
    },
    {
      "cell_type": "markdown",
      "metadata": {
        "id": "re4_EGw9NHm1"
      },
      "source": [
        "### **FOR TYPE**"
      ]
    },
    {
      "cell_type": "code",
      "metadata": {
        "colab": {
          "base_uri": "https://localhost:8080/"
        },
        "id": "lvBUXWjmKQT9",
        "outputId": "8e64a0ee-de55-467c-99ca-b4ab8f217a87"
      },
      "source": [
        "type = vehicles.groupby('type')['type'].count()\n",
        "type"
      ],
      "execution_count": null,
      "outputs": [
        {
          "output_type": "execute_result",
          "data": {
            "text/plain": [
              "type\n",
              "SUV            80725\n",
              "bus              474\n",
              "convertible     7524\n",
              "coupe          19354\n",
              "hatchback      18605\n",
              "mini-van        4911\n",
              "offroad          583\n",
              "other          24522\n",
              "pickup         37992\n",
              "sedan          94094\n",
              "truck          36452\n",
              "van             9149\n",
              "wagon          11662\n",
              "Name: type, dtype: int64"
            ]
          },
          "metadata": {
            "tags": []
          },
          "execution_count": 22
        }
      ]
    },
    {
      "cell_type": "code",
      "metadata": {
        "id": "5Olro5woKQWv"
      },
      "source": [
        "#excluding 'other'\n",
        "vehicles['type_1'] = vehicles.new_description.str.findall('(suv|bus|convertible|coupe|hatchback|mini-van|offroad|pickup|sedan|truck|van|wagon)').apply(', '.join)\n",
        "\n",
        "vehicles.loc[vehicles['type'].isnull(), 'type'] =  vehicles['type_1']"
      ],
      "execution_count": null,
      "outputs": []
    },
    {
      "cell_type": "code",
      "metadata": {
        "colab": {
          "base_uri": "https://localhost:8080/",
          "height": 419
        },
        "id": "DGXNnONnKQZf",
        "outputId": "1ee0a078-7069-4b33-9c56-2b49590bce40"
      },
      "source": [
        "vehicles[['type','type_1']]"
      ],
      "execution_count": null,
      "outputs": [
        {
          "output_type": "execute_result",
          "data": {
            "text/html": [
              "<div>\n",
              "<style scoped>\n",
              "    .dataframe tbody tr th:only-of-type {\n",
              "        vertical-align: middle;\n",
              "    }\n",
              "\n",
              "    .dataframe tbody tr th {\n",
              "        vertical-align: top;\n",
              "    }\n",
              "\n",
              "    .dataframe thead th {\n",
              "        text-align: right;\n",
              "    }\n",
              "</style>\n",
              "<table border=\"1\" class=\"dataframe\">\n",
              "  <thead>\n",
              "    <tr style=\"text-align: right;\">\n",
              "      <th></th>\n",
              "      <th>type</th>\n",
              "      <th>type_1</th>\n",
              "    </tr>\n",
              "  </thead>\n",
              "  <tbody>\n",
              "    <tr>\n",
              "      <th>0</th>\n",
              "      <td>mini-van</td>\n",
              "      <td>van, van</td>\n",
              "    </tr>\n",
              "    <tr>\n",
              "      <th>1</th>\n",
              "      <td>other</td>\n",
              "      <td>van, van, van, van, van, van, van, van, van, v...</td>\n",
              "    </tr>\n",
              "    <tr>\n",
              "      <th>2</th>\n",
              "      <td>sedan</td>\n",
              "      <td>van, van, van, van, van, van, van, van, van, v...</td>\n",
              "    </tr>\n",
              "    <tr>\n",
              "      <th>3</th>\n",
              "      <td>other</td>\n",
              "      <td>van, van, van, van, van, van, van, van, van, v...</td>\n",
              "    </tr>\n",
              "    <tr>\n",
              "      <th>4</th>\n",
              "      <td>sedan</td>\n",
              "      <td>van, van, van, van, van, van, van, van, van, v...</td>\n",
              "    </tr>\n",
              "    <tr>\n",
              "      <th>...</th>\n",
              "      <td>...</td>\n",
              "      <td>...</td>\n",
              "    </tr>\n",
              "    <tr>\n",
              "      <th>441391</th>\n",
              "      <td>hatchback</td>\n",
              "      <td>van, van, van, van, van, van, van, van, bus, v...</td>\n",
              "    </tr>\n",
              "    <tr>\n",
              "      <th>441392</th>\n",
              "      <td>sedan</td>\n",
              "      <td>van, van, van, van, van, van, van, van, bus, v...</td>\n",
              "    </tr>\n",
              "    <tr>\n",
              "      <th>441393</th>\n",
              "      <td>sedan</td>\n",
              "      <td>van, van, van, van, van, van, van, van, bus, v...</td>\n",
              "    </tr>\n",
              "    <tr>\n",
              "      <th>441394</th>\n",
              "      <td>coupe</td>\n",
              "      <td>van, van, van, van, van, van, van, van, bus, v...</td>\n",
              "    </tr>\n",
              "    <tr>\n",
              "      <th>441395</th>\n",
              "      <td>SUV</td>\n",
              "      <td>van, van, van, van, van, van, van, van, bus, v...</td>\n",
              "    </tr>\n",
              "  </tbody>\n",
              "</table>\n",
              "<p>441396 rows × 2 columns</p>\n",
              "</div>"
            ],
            "text/plain": [
              "             type                                             type_1\n",
              "0        mini-van                                           van, van\n",
              "1           other  van, van, van, van, van, van, van, van, van, v...\n",
              "2           sedan  van, van, van, van, van, van, van, van, van, v...\n",
              "3           other  van, van, van, van, van, van, van, van, van, v...\n",
              "4           sedan  van, van, van, van, van, van, van, van, van, v...\n",
              "...           ...                                                ...\n",
              "441391  hatchback  van, van, van, van, van, van, van, van, bus, v...\n",
              "441392      sedan  van, van, van, van, van, van, van, van, bus, v...\n",
              "441393      sedan  van, van, van, van, van, van, van, van, bus, v...\n",
              "441394      coupe  van, van, van, van, van, van, van, van, bus, v...\n",
              "441395        SUV  van, van, van, van, van, van, van, van, bus, v...\n",
              "\n",
              "[441396 rows x 2 columns]"
            ]
          },
          "metadata": {
            "tags": []
          },
          "execution_count": 24
        }
      ]
    },
    {
      "cell_type": "code",
      "metadata": {
        "colab": {
          "base_uri": "https://localhost:8080/"
        },
        "id": "KXYYLNeNKQc9",
        "outputId": "f08b1778-5ae7-4507-c1ca-217303e5a1c6"
      },
      "source": [
        "vehicles[vehicles['type'] == ''].sum"
      ],
      "execution_count": null,
      "outputs": [
        {
          "output_type": "execute_result",
          "data": {
            "text/plain": [
              "<bound method DataFrame.sum of          region  ...  type_1\n",
              "46       auburn  ...        \n",
              "65       auburn  ...        \n",
              "97       auburn  ...        \n",
              "99       auburn  ...        \n",
              "126      auburn  ...        \n",
              "...         ...  ...     ...\n",
              "441273  wyoming  ...        \n",
              "441274  wyoming  ...        \n",
              "441302  wyoming  ...        \n",
              "441368  wyoming  ...        \n",
              "441382  wyoming  ...        \n",
              "\n",
              "[43707 rows x 18 columns]>"
            ]
          },
          "metadata": {
            "tags": []
          },
          "execution_count": 25
        }
      ]
    },
    {
      "cell_type": "code",
      "metadata": {
        "colab": {
          "base_uri": "https://localhost:8080/"
        },
        "id": "7qCvZNcJKQfz",
        "outputId": "79a63c04-7636-4736-fc7d-8f0bb7cf4841"
      },
      "source": [
        "gc.collect()"
      ],
      "execution_count": null,
      "outputs": [
        {
          "output_type": "execute_result",
          "data": {
            "text/plain": [
              "234"
            ]
          },
          "metadata": {
            "tags": []
          },
          "execution_count": 26
        }
      ]
    },
    {
      "cell_type": "markdown",
      "metadata": {
        "id": "5wqVB99QNsQY"
      },
      "source": [
        " WE CAN OBSERVE THAT FROM THE NUMBER OF ROWS ABOVE, WE SEE THAT 41,992 ROWS ARE STILL MISSING. OUT OF THE 92,858 THAT WAS THERE BEFORE, MEANING WE FILLED ABOUT 50,866 ROWS\n",
        "​\n",
        "​\n"
      ]
    },
    {
      "cell_type": "markdown",
      "metadata": {
        "id": "wZSpZJh9N2_j"
      },
      "source": [
        "### **FOR PAINT_COLOR**"
      ]
    },
    {
      "cell_type": "code",
      "metadata": {
        "id": "R0XfXYAJ6fsU",
        "colab": {
          "base_uri": "https://localhost:8080/"
        },
        "outputId": "7c6b2833-a7fe-40e3-eba4-12122f85e291"
      },
      "source": [
        "paint_color = vehicles.groupby('paint_color')['paint_color'].count()\n",
        "paint_color"
      ],
      "execution_count": null,
      "outputs": [
        {
          "output_type": "execute_result",
          "data": {
            "text/plain": [
              "paint_color\n",
              "black     67033\n",
              "blue      32314\n",
              "brown      6845\n",
              "custom     7802\n",
              "green      7552\n",
              "grey      25831\n",
              "orange     2219\n",
              "purple      698\n",
              "red       29767\n",
              "silver    44440\n",
              "white     81895\n",
              "yellow     1978\n",
              "Name: paint_color, dtype: int64"
            ]
          },
          "metadata": {
            "tags": []
          },
          "execution_count": 27
        }
      ]
    },
    {
      "cell_type": "code",
      "metadata": {
        "colab": {
          "base_uri": "https://localhost:8080/"
        },
        "id": "KYVr9lrLNbzb",
        "outputId": "e3d2211a-67e5-4fc9-bf1a-066453679345"
      },
      "source": [
        "gc.collect()"
      ],
      "execution_count": null,
      "outputs": [
        {
          "output_type": "execute_result",
          "data": {
            "text/plain": [
              "102"
            ]
          },
          "metadata": {
            "tags": []
          },
          "execution_count": 28
        }
      ]
    },
    {
      "cell_type": "code",
      "metadata": {
        "colab": {
          "base_uri": "https://localhost:8080/"
        },
        "id": "wu4ll25dNb-_",
        "outputId": "7cd100ed-bfaf-433a-9586-43763f52cfc9"
      },
      "source": [
        "vehicles['paint_color']"
      ],
      "execution_count": null,
      "outputs": [
        {
          "output_type": "execute_result",
          "data": {
            "text/plain": [
              "0          blue\n",
              "1         white\n",
              "2           red\n",
              "3           NaN\n",
              "4           NaN\n",
              "          ...  \n",
              "441391    white\n",
              "441392    black\n",
              "441393    white\n",
              "441394    black\n",
              "441395    black\n",
              "Name: paint_color, Length: 441396, dtype: object"
            ]
          },
          "metadata": {
            "tags": []
          },
          "execution_count": 29
        }
      ]
    },
    {
      "cell_type": "code",
      "metadata": {
        "id": "YZAlnlMoNcCc"
      },
      "source": [
        "vehicles['paint_color_1'] = vehicles.new_description.str.findall('(black|blue|brown|custom|green|grey|orange|purple|red|silver|white|yellow|gray)').apply(', '.join)\n",
        "\n",
        "vehicles.loc[vehicles['paint_color'].isnull(), 'paint_color'] =  vehicles['paint_color_1']"
      ],
      "execution_count": null,
      "outputs": []
    },
    {
      "cell_type": "code",
      "metadata": {
        "id": "HwmGYmPiNcFl"
      },
      "source": [
        ""
      ],
      "execution_count": null,
      "outputs": []
    },
    {
      "cell_type": "code",
      "metadata": {
        "colab": {
          "base_uri": "https://localhost:8080/"
        },
        "id": "h2FoEYjANcI5",
        "outputId": "824230e4-4f66-4e5a-e4c7-fb4e730c9327"
      },
      "source": [
        "gc.collect()"
      ],
      "execution_count": null,
      "outputs": [
        {
          "output_type": "execute_result",
          "data": {
            "text/plain": [
              "160"
            ]
          },
          "metadata": {
            "tags": []
          },
          "execution_count": 31
        }
      ]
    },
    {
      "cell_type": "code",
      "metadata": {
        "colab": {
          "base_uri": "https://localhost:8080/"
        },
        "id": "Snx-xpYWNcMF",
        "outputId": "dcc75ea4-81f6-4e1f-90b2-4aa747595b6c"
      },
      "source": [
        "vehicles[vehicles['paint_color'] == ''].sum"
      ],
      "execution_count": null,
      "outputs": [
        {
          "output_type": "execute_result",
          "data": {
            "text/plain": [
              "<bound method DataFrame.sum of             region  ...  paint_color_1\n",
              "65          auburn  ...               \n",
              "97          auburn  ...               \n",
              "123         auburn  ...               \n",
              "161     birmingham  ...               \n",
              "162     birmingham  ...               \n",
              "...            ...  ...            ...\n",
              "441142     wyoming  ...               \n",
              "441160     wyoming  ...               \n",
              "441195     wyoming  ...               \n",
              "441304     wyoming  ...               \n",
              "441305     wyoming  ...               \n",
              "\n",
              "[30139 rows x 19 columns]>"
            ]
          },
          "metadata": {
            "tags": []
          },
          "execution_count": 32
        }
      ]
    },
    {
      "cell_type": "code",
      "metadata": {
        "colab": {
          "base_uri": "https://localhost:8080/"
        },
        "id": "7RV52JB6OTLK",
        "outputId": "373c9b14-4132-44b8-c3d6-a796324984d1"
      },
      "source": [
        "gc.collect()"
      ],
      "execution_count": null,
      "outputs": [
        {
          "output_type": "execute_result",
          "data": {
            "text/plain": [
              "161"
            ]
          },
          "metadata": {
            "tags": []
          },
          "execution_count": 33
        }
      ]
    },
    {
      "cell_type": "markdown",
      "metadata": {
        "id": "Hc56SHdgOjUe"
      },
      "source": [
        "WE CAN OBSERVE THAT FROM THE NUMBER OF ROWS ABOVE, WE SEE THAT 29690  ROWS ARE STILL MISSING. OUT OF THE 92,858 THAT WAS THERE BEFORE, MEANING WE FILLED ABOUT 130203 ROWS"
      ]
    },
    {
      "cell_type": "markdown",
      "metadata": {
        "id": "-RKcds_AOxOv"
      },
      "source": [
        "### **FOR MANUFACTURER**"
      ]
    },
    {
      "cell_type": "code",
      "metadata": {
        "id": "OqM7CqLHOTS4"
      },
      "source": [
        "vehicles['manufacturer_1'] = vehicles.new_description.str.findall('(volvo|volkswagen|toyota|tesla|subaru|saturn|rover|ram|porsche|pontiac|nissan|morgan|mitsubishi|mini|mercury|mercedes-benz|mazda|lincoln|lexus|land rover|kia|jeep|jaguar|infiniti|hyundai|honda|hennessey|harley-davidson|gmc|ford|fiat|ferrari|dodge|datsun|chrysler|chevrolet|cadillac|buick|bmw|audi|aston-martin|alfa-romeo|acura)').apply(', '.join)\n",
        "\n",
        "vehicles.loc[vehicles['manufacturer'].isnull(), 'manufacturer'] =  vehicles['manufacturer_1']"
      ],
      "execution_count": null,
      "outputs": []
    },
    {
      "cell_type": "code",
      "metadata": {
        "colab": {
          "base_uri": "https://localhost:8080/"
        },
        "id": "gDXFNbPaOTWN",
        "outputId": "eab5ea86-b3dd-4089-c3dc-e8276e36a526"
      },
      "source": [
        "gc.collect()"
      ],
      "execution_count": null,
      "outputs": [
        {
          "output_type": "execute_result",
          "data": {
            "text/plain": [
              "61"
            ]
          },
          "metadata": {
            "tags": []
          },
          "execution_count": 35
        }
      ]
    },
    {
      "cell_type": "code",
      "metadata": {
        "colab": {
          "base_uri": "https://localhost:8080/",
          "height": 419
        },
        "id": "2tzmaI-4OTZ3",
        "outputId": "fd92ea40-5ece-4134-81a4-180374c3a2b9"
      },
      "source": [
        "vehicles[['manufacturer','manufacturer_1']]"
      ],
      "execution_count": null,
      "outputs": [
        {
          "output_type": "execute_result",
          "data": {
            "text/html": [
              "<div>\n",
              "<style scoped>\n",
              "    .dataframe tbody tr th:only-of-type {\n",
              "        vertical-align: middle;\n",
              "    }\n",
              "\n",
              "    .dataframe tbody tr th {\n",
              "        vertical-align: top;\n",
              "    }\n",
              "\n",
              "    .dataframe thead th {\n",
              "        text-align: right;\n",
              "    }\n",
              "</style>\n",
              "<table border=\"1\" class=\"dataframe\">\n",
              "  <thead>\n",
              "    <tr style=\"text-align: right;\">\n",
              "      <th></th>\n",
              "      <th>manufacturer</th>\n",
              "      <th>manufacturer_1</th>\n",
              "    </tr>\n",
              "  </thead>\n",
              "  <tbody>\n",
              "    <tr>\n",
              "      <th>0</th>\n",
              "      <td>chrysler</td>\n",
              "      <td>chrysler, ram, ram</td>\n",
              "    </tr>\n",
              "    <tr>\n",
              "      <th>1</th>\n",
              "      <td>gmc</td>\n",
              "      <td>gmc, ram, gmc, gmc, gmc, gmc, gmc, gmc, gmc</td>\n",
              "    </tr>\n",
              "    <tr>\n",
              "      <th>2</th>\n",
              "      <td>lincoln</td>\n",
              "      <td>lincoln, ram, lincoln, lincoln, lincoln, lincoln</td>\n",
              "    </tr>\n",
              "    <tr>\n",
              "      <th>3</th>\n",
              "      <td>gmc</td>\n",
              "      <td>gmc, ram, gmc, gmc, gmc, gmc, gmc, gmc, gmc</td>\n",
              "    </tr>\n",
              "    <tr>\n",
              "      <th>4</th>\n",
              "      <td>lincoln</td>\n",
              "      <td>lincoln, ram, lincoln, lincoln, lincoln, lincoln</td>\n",
              "    </tr>\n",
              "    <tr>\n",
              "      <th>...</th>\n",
              "      <td>...</td>\n",
              "      <td>...</td>\n",
              "    </tr>\n",
              "    <tr>\n",
              "      <th>441391</th>\n",
              "      <td>infiniti</td>\n",
              "      <td>infiniti, ram, infiniti, infiniti, infiniti, i...</td>\n",
              "    </tr>\n",
              "    <tr>\n",
              "      <th>441392</th>\n",
              "      <td>buick</td>\n",
              "      <td>buick, ram, buick, buick, buick, buick, buick,...</td>\n",
              "    </tr>\n",
              "    <tr>\n",
              "      <th>441393</th>\n",
              "      <td>bmw</td>\n",
              "      <td>bmw, ram, bmw, bmw, bmw, bmw, bmw, bmw, bmw, b...</td>\n",
              "    </tr>\n",
              "    <tr>\n",
              "      <th>441394</th>\n",
              "      <td>bmw</td>\n",
              "      <td>bmw, ram, bmw, bmw, bmw, bmw, bmw, bmw</td>\n",
              "    </tr>\n",
              "    <tr>\n",
              "      <th>441395</th>\n",
              "      <td>buick</td>\n",
              "      <td>buick, ram, buick, buick</td>\n",
              "    </tr>\n",
              "  </tbody>\n",
              "</table>\n",
              "<p>441396 rows × 2 columns</p>\n",
              "</div>"
            ],
            "text/plain": [
              "       manufacturer                                     manufacturer_1\n",
              "0          chrysler                                 chrysler, ram, ram\n",
              "1               gmc        gmc, ram, gmc, gmc, gmc, gmc, gmc, gmc, gmc\n",
              "2           lincoln   lincoln, ram, lincoln, lincoln, lincoln, lincoln\n",
              "3               gmc        gmc, ram, gmc, gmc, gmc, gmc, gmc, gmc, gmc\n",
              "4           lincoln   lincoln, ram, lincoln, lincoln, lincoln, lincoln\n",
              "...             ...                                                ...\n",
              "441391     infiniti  infiniti, ram, infiniti, infiniti, infiniti, i...\n",
              "441392        buick  buick, ram, buick, buick, buick, buick, buick,...\n",
              "441393          bmw  bmw, ram, bmw, bmw, bmw, bmw, bmw, bmw, bmw, b...\n",
              "441394          bmw             bmw, ram, bmw, bmw, bmw, bmw, bmw, bmw\n",
              "441395        buick                           buick, ram, buick, buick\n",
              "\n",
              "[441396 rows x 2 columns]"
            ]
          },
          "metadata": {
            "tags": []
          },
          "execution_count": 36
        }
      ]
    },
    {
      "cell_type": "code",
      "metadata": {
        "colab": {
          "base_uri": "https://localhost:8080/"
        },
        "id": "e2DdhaHtOTde",
        "outputId": "2cbe827d-138a-4c00-89db-b29008bdc0ed"
      },
      "source": [
        "vehicles[vehicles['manufacturer'] == ''].sum"
      ],
      "execution_count": null,
      "outputs": [
        {
          "output_type": "execute_result",
          "data": {
            "text/plain": [
              "<bound method DataFrame.sum of             region  price  ...               paint_color_1 manufacturer_1\n",
              "14          auburn   6800  ...                        blue               \n",
              "32          auburn   2500  ...                    red, red               \n",
              "135         auburn  21500  ...                                           \n",
              "217     birmingham  32000  ...                         red               \n",
              "394     birmingham   7350  ...                                           \n",
              "...            ...    ...  ...                         ...            ...\n",
              "440934     wyoming  21900  ...             red, black, red               \n",
              "441118     wyoming  66000  ...                 red, custom               \n",
              "441120     wyoming  13500  ...                                           \n",
              "441276     wyoming  56995  ...  red, red, custom, red, red               \n",
              "441381     wyoming  40000  ...                                           \n",
              "\n",
              "[7676 rows x 20 columns]>"
            ]
          },
          "metadata": {
            "tags": []
          },
          "execution_count": 37
        }
      ]
    },
    {
      "cell_type": "code",
      "metadata": {
        "colab": {
          "base_uri": "https://localhost:8080/"
        },
        "id": "7ZXxcSMYOTg_",
        "outputId": "f7ff6f1c-aac3-43ff-c235-c0b0cd9bfe8b"
      },
      "source": [
        "gc.collect()"
      ],
      "execution_count": null,
      "outputs": [
        {
          "output_type": "execute_result",
          "data": {
            "text/plain": [
              "99"
            ]
          },
          "metadata": {
            "tags": []
          },
          "execution_count": 38
        }
      ]
    },
    {
      "cell_type": "markdown",
      "metadata": {
        "id": "QuNG26DiPZKZ"
      },
      "source": [
        "### **MORE CLEANING**"
      ]
    },
    {
      "cell_type": "code",
      "metadata": {
        "id": "ju7gXANUOTq5"
      },
      "source": [
        "#Drop all created columns\n",
        "#Drop all columns worked on that have more than one entry\n",
        "vehicles = vehicles.drop(columns=['new_description','drive_1','type_1','paint_color_1','manufacturer_1'])\n",
        "\n",
        "vehicles_new = vehicles[vehicles['paint_color'].str.split().str.len()<2]\n",
        "vehicles_new = vehicles_new[vehicles_new['type'].str.split().str.len()<2]\n",
        "vehicles_new = vehicles_new[vehicles_new['drive'].str.split().str.len()<2]\n",
        "vehicles_new = vehicles_new[vehicles_new['drive'].str.split().str.len()<3]\n",
        "\n",
        "vehicles_nem = vehicles_new. replace(r'^\\s*$', np. nan, regex=True)"
      ],
      "execution_count": null,
      "outputs": []
    },
    {
      "cell_type": "code",
      "metadata": {
        "colab": {
          "base_uri": "https://localhost:8080/"
        },
        "id": "iA12YxNfOTvO",
        "outputId": "69fc53f0-6046-475d-b281-67d475654c63"
      },
      "source": [
        "gc.collect()"
      ],
      "execution_count": null,
      "outputs": [
        {
          "output_type": "execute_result",
          "data": {
            "text/plain": [
              "75"
            ]
          },
          "metadata": {
            "tags": []
          },
          "execution_count": 40
        }
      ]
    },
    {
      "cell_type": "code",
      "metadata": {
        "colab": {
          "base_uri": "https://localhost:8080/",
          "height": 980
        },
        "id": "dEtvwNN4P7KZ",
        "outputId": "75c63a9f-96a0-4691-9e7d-f7e0e8401d6c"
      },
      "source": [
        "#TO CHECK OUT THE NEW DATA FRAME\n",
        "vehicles_new"
      ],
      "execution_count": null,
      "outputs": [
        {
          "output_type": "execute_result",
          "data": {
            "text/html": [
              "<div>\n",
              "<style scoped>\n",
              "    .dataframe tbody tr th:only-of-type {\n",
              "        vertical-align: middle;\n",
              "    }\n",
              "\n",
              "    .dataframe tbody tr th {\n",
              "        vertical-align: top;\n",
              "    }\n",
              "\n",
              "    .dataframe thead th {\n",
              "        text-align: right;\n",
              "    }\n",
              "</style>\n",
              "<table border=\"1\" class=\"dataframe\">\n",
              "  <thead>\n",
              "    <tr style=\"text-align: right;\">\n",
              "      <th></th>\n",
              "      <th>region</th>\n",
              "      <th>price</th>\n",
              "      <th>year</th>\n",
              "      <th>manufacturer</th>\n",
              "      <th>model</th>\n",
              "      <th>cylinders</th>\n",
              "      <th>fuel</th>\n",
              "      <th>odometer</th>\n",
              "      <th>title_status</th>\n",
              "      <th>transmission</th>\n",
              "      <th>drive</th>\n",
              "      <th>type</th>\n",
              "      <th>paint_color</th>\n",
              "      <th>description</th>\n",
              "      <th>state</th>\n",
              "    </tr>\n",
              "  </thead>\n",
              "  <tbody>\n",
              "    <tr>\n",
              "      <th>0</th>\n",
              "      <td>auburn</td>\n",
              "      <td>9500</td>\n",
              "      <td>2003.0</td>\n",
              "      <td>chrysler</td>\n",
              "      <td>town &amp; country</td>\n",
              "      <td>6 cylinders</td>\n",
              "      <td>gas</td>\n",
              "      <td>30376.0</td>\n",
              "      <td>clean</td>\n",
              "      <td>automatic</td>\n",
              "      <td>fwd</td>\n",
              "      <td>mini-van</td>\n",
              "      <td>blue</td>\n",
              "      <td>2003 Chrysler Town and Country Handicapped Acc...</td>\n",
              "      <td>al</td>\n",
              "    </tr>\n",
              "    <tr>\n",
              "      <th>1</th>\n",
              "      <td>auburn</td>\n",
              "      <td>28990</td>\n",
              "      <td>2018.0</td>\n",
              "      <td>gmc</td>\n",
              "      <td>acadia sle-2 sport utility</td>\n",
              "      <td>6 cylinders</td>\n",
              "      <td>gas</td>\n",
              "      <td>20736.0</td>\n",
              "      <td>clean</td>\n",
              "      <td>other</td>\n",
              "      <td>fwd</td>\n",
              "      <td>other</td>\n",
              "      <td>white</td>\n",
              "      <td>Carvana is the safer way to buy a car During t...</td>\n",
              "      <td>al</td>\n",
              "    </tr>\n",
              "    <tr>\n",
              "      <th>2</th>\n",
              "      <td>auburn</td>\n",
              "      <td>16590</td>\n",
              "      <td>2013.0</td>\n",
              "      <td>lincoln</td>\n",
              "      <td>mkz sedan 4d</td>\n",
              "      <td>NaN</td>\n",
              "      <td>gas</td>\n",
              "      <td>61087.0</td>\n",
              "      <td>clean</td>\n",
              "      <td>other</td>\n",
              "      <td>fwd</td>\n",
              "      <td>sedan</td>\n",
              "      <td>red</td>\n",
              "      <td>Carvana is the safer way to buy a car During t...</td>\n",
              "      <td>al</td>\n",
              "    </tr>\n",
              "    <tr>\n",
              "      <th>5</th>\n",
              "      <td>auburn</td>\n",
              "      <td>20000</td>\n",
              "      <td>2011.0</td>\n",
              "      <td>ford</td>\n",
              "      <td>f-150 king ranch 4x4</td>\n",
              "      <td>8 cylinders</td>\n",
              "      <td>gas</td>\n",
              "      <td>101000.0</td>\n",
              "      <td>clean</td>\n",
              "      <td>automatic</td>\n",
              "      <td>4wd</td>\n",
              "      <td>pickup</td>\n",
              "      <td>black</td>\n",
              "      <td>2011 Ford F-150 King Ranch 4x4 with V8. Loaded...</td>\n",
              "      <td>al</td>\n",
              "    </tr>\n",
              "    <tr>\n",
              "      <th>6</th>\n",
              "      <td>auburn</td>\n",
              "      <td>26990</td>\n",
              "      <td>2015.0</td>\n",
              "      <td>lexus</td>\n",
              "      <td>nx 200t sport utility 4d</td>\n",
              "      <td>NaN</td>\n",
              "      <td>gas</td>\n",
              "      <td>29738.0</td>\n",
              "      <td>clean</td>\n",
              "      <td>other</td>\n",
              "      <td>fwd</td>\n",
              "      <td>hatchback</td>\n",
              "      <td>red</td>\n",
              "      <td>Carvana is the safer way to buy a car During t...</td>\n",
              "      <td>al</td>\n",
              "    </tr>\n",
              "    <tr>\n",
              "      <th>...</th>\n",
              "      <td>...</td>\n",
              "      <td>...</td>\n",
              "      <td>...</td>\n",
              "      <td>...</td>\n",
              "      <td>...</td>\n",
              "      <td>...</td>\n",
              "      <td>...</td>\n",
              "      <td>...</td>\n",
              "      <td>...</td>\n",
              "      <td>...</td>\n",
              "      <td>...</td>\n",
              "      <td>...</td>\n",
              "      <td>...</td>\n",
              "      <td>...</td>\n",
              "      <td>...</td>\n",
              "    </tr>\n",
              "    <tr>\n",
              "      <th>441391</th>\n",
              "      <td>wyoming</td>\n",
              "      <td>23590</td>\n",
              "      <td>2017.0</td>\n",
              "      <td>infiniti</td>\n",
              "      <td>qx50 sport utility 4d</td>\n",
              "      <td>6 cylinders</td>\n",
              "      <td>gas</td>\n",
              "      <td>25738.0</td>\n",
              "      <td>clean</td>\n",
              "      <td>automatic</td>\n",
              "      <td></td>\n",
              "      <td>hatchback</td>\n",
              "      <td>white</td>\n",
              "      <td>Carvana is the safer way to buy a car During t...</td>\n",
              "      <td>wy</td>\n",
              "    </tr>\n",
              "    <tr>\n",
              "      <th>441392</th>\n",
              "      <td>wyoming</td>\n",
              "      <td>16990</td>\n",
              "      <td>2017.0</td>\n",
              "      <td>buick</td>\n",
              "      <td>regal sport touring sedan</td>\n",
              "      <td>NaN</td>\n",
              "      <td>gas</td>\n",
              "      <td>36688.0</td>\n",
              "      <td>clean</td>\n",
              "      <td>other</td>\n",
              "      <td>fwd</td>\n",
              "      <td>sedan</td>\n",
              "      <td>black</td>\n",
              "      <td>Carvana is the safer way to buy a car During t...</td>\n",
              "      <td>wy</td>\n",
              "    </tr>\n",
              "    <tr>\n",
              "      <th>441393</th>\n",
              "      <td>wyoming</td>\n",
              "      <td>21590</td>\n",
              "      <td>2013.0</td>\n",
              "      <td>bmw</td>\n",
              "      <td>5 series 535i sedan 4d</td>\n",
              "      <td>NaN</td>\n",
              "      <td>other</td>\n",
              "      <td>44366.0</td>\n",
              "      <td>clean</td>\n",
              "      <td>automatic</td>\n",
              "      <td>rwd</td>\n",
              "      <td>sedan</td>\n",
              "      <td>white</td>\n",
              "      <td>Carvana is the safer way to buy a car During t...</td>\n",
              "      <td>wy</td>\n",
              "    </tr>\n",
              "    <tr>\n",
              "      <th>441394</th>\n",
              "      <td>wyoming</td>\n",
              "      <td>26990</td>\n",
              "      <td>2016.0</td>\n",
              "      <td>bmw</td>\n",
              "      <td>4 series 435i gran coupe 4d</td>\n",
              "      <td>NaN</td>\n",
              "      <td>other</td>\n",
              "      <td>43934.0</td>\n",
              "      <td>clean</td>\n",
              "      <td>other</td>\n",
              "      <td></td>\n",
              "      <td>coupe</td>\n",
              "      <td>black</td>\n",
              "      <td>Carvana is the safer way to buy a car During t...</td>\n",
              "      <td>wy</td>\n",
              "    </tr>\n",
              "    <tr>\n",
              "      <th>441395</th>\n",
              "      <td>wyoming</td>\n",
              "      <td>19990</td>\n",
              "      <td>2018.0</td>\n",
              "      <td>buick</td>\n",
              "      <td>envision preferred sport</td>\n",
              "      <td>NaN</td>\n",
              "      <td>gas</td>\n",
              "      <td>33104.0</td>\n",
              "      <td>clean</td>\n",
              "      <td>automatic</td>\n",
              "      <td>fwd</td>\n",
              "      <td>SUV</td>\n",
              "      <td>black</td>\n",
              "      <td>Carvana is the safer way to buy a car During t...</td>\n",
              "      <td>wy</td>\n",
              "    </tr>\n",
              "  </tbody>\n",
              "</table>\n",
              "<p>332050 rows × 15 columns</p>\n",
              "</div>"
            ],
            "text/plain": [
              "         region  price  ...                                        description state\n",
              "0        auburn   9500  ...  2003 Chrysler Town and Country Handicapped Acc...    al\n",
              "1        auburn  28990  ...  Carvana is the safer way to buy a car During t...    al\n",
              "2        auburn  16590  ...  Carvana is the safer way to buy a car During t...    al\n",
              "5        auburn  20000  ...  2011 Ford F-150 King Ranch 4x4 with V8. Loaded...    al\n",
              "6        auburn  26990  ...  Carvana is the safer way to buy a car During t...    al\n",
              "...         ...    ...  ...                                                ...   ...\n",
              "441391  wyoming  23590  ...  Carvana is the safer way to buy a car During t...    wy\n",
              "441392  wyoming  16990  ...  Carvana is the safer way to buy a car During t...    wy\n",
              "441393  wyoming  21590  ...  Carvana is the safer way to buy a car During t...    wy\n",
              "441394  wyoming  26990  ...  Carvana is the safer way to buy a car During t...    wy\n",
              "441395  wyoming  19990  ...  Carvana is the safer way to buy a car During t...    wy\n",
              "\n",
              "[332050 rows x 15 columns]"
            ]
          },
          "metadata": {
            "tags": []
          },
          "execution_count": 41
        }
      ]
    },
    {
      "cell_type": "code",
      "metadata": {
        "colab": {
          "base_uri": "https://localhost:8080/"
        },
        "id": "1EtX76D2P7OK",
        "outputId": "643f5783-c456-471f-9e83-65f5979f7ae1"
      },
      "source": [
        "#The number of null values in the new dataset \n",
        "vehicles_new.isnull().sum()"
      ],
      "execution_count": null,
      "outputs": [
        {
          "output_type": "execute_result",
          "data": {
            "text/plain": [
              "region               0\n",
              "price                0\n",
              "year               872\n",
              "manufacturer         0\n",
              "model             3878\n",
              "cylinders       121623\n",
              "fuel              1594\n",
              "odometer          2252\n",
              "title_status      1545\n",
              "transmission      1386\n",
              "drive                0\n",
              "type                 0\n",
              "paint_color          0\n",
              "description         56\n",
              "state                0\n",
              "dtype: int64"
            ]
          },
          "metadata": {
            "tags": []
          },
          "execution_count": 42
        }
      ]
    },
    {
      "cell_type": "code",
      "metadata": {
        "colab": {
          "base_uri": "https://localhost:8080/",
          "height": 1000
        },
        "id": "jn045yzOP7RN",
        "outputId": "e8b4ce9d-bb47-46fc-f3ce-c63427d95b40"
      },
      "source": [
        " #To drop the rows that have missing values\n",
        "vehicles_new=vehicles_new.dropna()\n",
        "vehicles_new"
      ],
      "execution_count": null,
      "outputs": [
        {
          "output_type": "execute_result",
          "data": {
            "text/html": [
              "<div>\n",
              "<style scoped>\n",
              "    .dataframe tbody tr th:only-of-type {\n",
              "        vertical-align: middle;\n",
              "    }\n",
              "\n",
              "    .dataframe tbody tr th {\n",
              "        vertical-align: top;\n",
              "    }\n",
              "\n",
              "    .dataframe thead th {\n",
              "        text-align: right;\n",
              "    }\n",
              "</style>\n",
              "<table border=\"1\" class=\"dataframe\">\n",
              "  <thead>\n",
              "    <tr style=\"text-align: right;\">\n",
              "      <th></th>\n",
              "      <th>region</th>\n",
              "      <th>price</th>\n",
              "      <th>year</th>\n",
              "      <th>manufacturer</th>\n",
              "      <th>model</th>\n",
              "      <th>cylinders</th>\n",
              "      <th>fuel</th>\n",
              "      <th>odometer</th>\n",
              "      <th>title_status</th>\n",
              "      <th>transmission</th>\n",
              "      <th>drive</th>\n",
              "      <th>type</th>\n",
              "      <th>paint_color</th>\n",
              "      <th>description</th>\n",
              "      <th>state</th>\n",
              "    </tr>\n",
              "  </thead>\n",
              "  <tbody>\n",
              "    <tr>\n",
              "      <th>0</th>\n",
              "      <td>auburn</td>\n",
              "      <td>9500</td>\n",
              "      <td>2003.0</td>\n",
              "      <td>chrysler</td>\n",
              "      <td>town &amp; country</td>\n",
              "      <td>6 cylinders</td>\n",
              "      <td>gas</td>\n",
              "      <td>30376.0</td>\n",
              "      <td>clean</td>\n",
              "      <td>automatic</td>\n",
              "      <td>fwd</td>\n",
              "      <td>mini-van</td>\n",
              "      <td>blue</td>\n",
              "      <td>2003 Chrysler Town and Country Handicapped Acc...</td>\n",
              "      <td>al</td>\n",
              "    </tr>\n",
              "    <tr>\n",
              "      <th>1</th>\n",
              "      <td>auburn</td>\n",
              "      <td>28990</td>\n",
              "      <td>2018.0</td>\n",
              "      <td>gmc</td>\n",
              "      <td>acadia sle-2 sport utility</td>\n",
              "      <td>6 cylinders</td>\n",
              "      <td>gas</td>\n",
              "      <td>20736.0</td>\n",
              "      <td>clean</td>\n",
              "      <td>other</td>\n",
              "      <td>fwd</td>\n",
              "      <td>other</td>\n",
              "      <td>white</td>\n",
              "      <td>Carvana is the safer way to buy a car During t...</td>\n",
              "      <td>al</td>\n",
              "    </tr>\n",
              "    <tr>\n",
              "      <th>5</th>\n",
              "      <td>auburn</td>\n",
              "      <td>20000</td>\n",
              "      <td>2011.0</td>\n",
              "      <td>ford</td>\n",
              "      <td>f-150 king ranch 4x4</td>\n",
              "      <td>8 cylinders</td>\n",
              "      <td>gas</td>\n",
              "      <td>101000.0</td>\n",
              "      <td>clean</td>\n",
              "      <td>automatic</td>\n",
              "      <td>4wd</td>\n",
              "      <td>pickup</td>\n",
              "      <td>black</td>\n",
              "      <td>2011 Ford F-150 King Ranch 4x4 with V8. Loaded...</td>\n",
              "      <td>al</td>\n",
              "    </tr>\n",
              "    <tr>\n",
              "      <th>11</th>\n",
              "      <td>auburn</td>\n",
              "      <td>18250</td>\n",
              "      <td>2008.0</td>\n",
              "      <td>toyota</td>\n",
              "      <td>fj cruiser</td>\n",
              "      <td>6 cylinders</td>\n",
              "      <td>gas</td>\n",
              "      <td>201300.0</td>\n",
              "      <td>clean</td>\n",
              "      <td>manual</td>\n",
              "      <td>4wd</td>\n",
              "      <td>offroad</td>\n",
              "      <td>black</td>\n",
              "      <td>Aspects: -Goodyear Wrangler Tires: 33’s  -Catt...</td>\n",
              "      <td>al</td>\n",
              "    </tr>\n",
              "    <tr>\n",
              "      <th>12</th>\n",
              "      <td>auburn</td>\n",
              "      <td>6000</td>\n",
              "      <td>2007.0</td>\n",
              "      <td>mercedes-benz</td>\n",
              "      <td>e320 cdi</td>\n",
              "      <td>6 cylinders</td>\n",
              "      <td>diesel</td>\n",
              "      <td>124000.0</td>\n",
              "      <td>clean</td>\n",
              "      <td>automatic</td>\n",
              "      <td>rwd</td>\n",
              "      <td>sedan</td>\n",
              "      <td>blue</td>\n",
              "      <td>Diesel engine Mercedes e class. 7 speed auto t...</td>\n",
              "      <td>al</td>\n",
              "    </tr>\n",
              "    <tr>\n",
              "      <th>...</th>\n",
              "      <td>...</td>\n",
              "      <td>...</td>\n",
              "      <td>...</td>\n",
              "      <td>...</td>\n",
              "      <td>...</td>\n",
              "      <td>...</td>\n",
              "      <td>...</td>\n",
              "      <td>...</td>\n",
              "      <td>...</td>\n",
              "      <td>...</td>\n",
              "      <td>...</td>\n",
              "      <td>...</td>\n",
              "      <td>...</td>\n",
              "      <td>...</td>\n",
              "      <td>...</td>\n",
              "    </tr>\n",
              "    <tr>\n",
              "      <th>441381</th>\n",
              "      <td>wyoming</td>\n",
              "      <td>40000</td>\n",
              "      <td>2014.0</td>\n",
              "      <td></td>\n",
              "      <td>freightliner cascadia</td>\n",
              "      <td>6 cylinders</td>\n",
              "      <td>diesel</td>\n",
              "      <td>878805.0</td>\n",
              "      <td>clean</td>\n",
              "      <td>automatic</td>\n",
              "      <td>rwd</td>\n",
              "      <td>truck</td>\n",
              "      <td>red</td>\n",
              "      <td>2014 FREIGHT LINER CASCADA TANDEM AXLE  72 INC...</td>\n",
              "      <td>wy</td>\n",
              "    </tr>\n",
              "    <tr>\n",
              "      <th>441382</th>\n",
              "      <td>wyoming</td>\n",
              "      <td>0</td>\n",
              "      <td>2017.0</td>\n",
              "      <td>toyota</td>\n",
              "      <td>tundra</td>\n",
              "      <td>8 cylinders</td>\n",
              "      <td>gas</td>\n",
              "      <td>62000.0</td>\n",
              "      <td>clean</td>\n",
              "      <td>automatic</td>\n",
              "      <td>4wd</td>\n",
              "      <td></td>\n",
              "      <td>white</td>\n",
              "      <td>2017 *** TOYOTA TUNDRA CREWMAX LIMITED  ***   ...</td>\n",
              "      <td>wy</td>\n",
              "    </tr>\n",
              "    <tr>\n",
              "      <th>441383</th>\n",
              "      <td>wyoming</td>\n",
              "      <td>79980</td>\n",
              "      <td>2015.0</td>\n",
              "      <td>chevrolet</td>\n",
              "      <td>silverado 3500hd 4x4</td>\n",
              "      <td>8 cylinders</td>\n",
              "      <td>diesel</td>\n",
              "      <td>11200.0</td>\n",
              "      <td>clean</td>\n",
              "      <td>automatic</td>\n",
              "      <td>4wd</td>\n",
              "      <td>truck</td>\n",
              "      <td>black</td>\n",
              "      <td>****ONLY SERIOUS BUYERS NEED TO CONTACT - CASH...</td>\n",
              "      <td>wy</td>\n",
              "    </tr>\n",
              "    <tr>\n",
              "      <th>441384</th>\n",
              "      <td>wyoming</td>\n",
              "      <td>13450</td>\n",
              "      <td>2007.0</td>\n",
              "      <td>cadillac</td>\n",
              "      <td>escalade</td>\n",
              "      <td>8 cylinders</td>\n",
              "      <td>gas</td>\n",
              "      <td>130000.0</td>\n",
              "      <td>clean</td>\n",
              "      <td>automatic</td>\n",
              "      <td>4wd</td>\n",
              "      <td>SUV</td>\n",
              "      <td>silver</td>\n",
              "      <td>2007 Cadillac Escalade AWD 6.2L All Wheel Driv...</td>\n",
              "      <td>wy</td>\n",
              "    </tr>\n",
              "    <tr>\n",
              "      <th>441391</th>\n",
              "      <td>wyoming</td>\n",
              "      <td>23590</td>\n",
              "      <td>2017.0</td>\n",
              "      <td>infiniti</td>\n",
              "      <td>qx50 sport utility 4d</td>\n",
              "      <td>6 cylinders</td>\n",
              "      <td>gas</td>\n",
              "      <td>25738.0</td>\n",
              "      <td>clean</td>\n",
              "      <td>automatic</td>\n",
              "      <td></td>\n",
              "      <td>hatchback</td>\n",
              "      <td>white</td>\n",
              "      <td>Carvana is the safer way to buy a car During t...</td>\n",
              "      <td>wy</td>\n",
              "    </tr>\n",
              "  </tbody>\n",
              "</table>\n",
              "<p>205247 rows × 15 columns</p>\n",
              "</div>"
            ],
            "text/plain": [
              "         region  price  ...                                        description state\n",
              "0        auburn   9500  ...  2003 Chrysler Town and Country Handicapped Acc...    al\n",
              "1        auburn  28990  ...  Carvana is the safer way to buy a car During t...    al\n",
              "5        auburn  20000  ...  2011 Ford F-150 King Ranch 4x4 with V8. Loaded...    al\n",
              "11       auburn  18250  ...  Aspects: -Goodyear Wrangler Tires: 33’s  -Catt...    al\n",
              "12       auburn   6000  ...  Diesel engine Mercedes e class. 7 speed auto t...    al\n",
              "...         ...    ...  ...                                                ...   ...\n",
              "441381  wyoming  40000  ...  2014 FREIGHT LINER CASCADA TANDEM AXLE  72 INC...    wy\n",
              "441382  wyoming      0  ...  2017 *** TOYOTA TUNDRA CREWMAX LIMITED  ***   ...    wy\n",
              "441383  wyoming  79980  ...  ****ONLY SERIOUS BUYERS NEED TO CONTACT - CASH...    wy\n",
              "441384  wyoming  13450  ...  2007 Cadillac Escalade AWD 6.2L All Wheel Driv...    wy\n",
              "441391  wyoming  23590  ...  Carvana is the safer way to buy a car During t...    wy\n",
              "\n",
              "[205247 rows x 15 columns]"
            ]
          },
          "metadata": {
            "tags": []
          },
          "execution_count": 43
        }
      ]
    },
    {
      "cell_type": "code",
      "metadata": {
        "colab": {
          "base_uri": "https://localhost:8080/"
        },
        "id": "_XeRp23kP7UT",
        "outputId": "2eadb451-88bf-490a-b933-0b9ce00f9365"
      },
      "source": [
        "gc.collect()"
      ],
      "execution_count": null,
      "outputs": [
        {
          "output_type": "execute_result",
          "data": {
            "text/plain": [
              "62"
            ]
          },
          "metadata": {
            "tags": []
          },
          "execution_count": 44
        }
      ]
    },
    {
      "cell_type": "code",
      "metadata": {
        "colab": {
          "base_uri": "https://localhost:8080/",
          "height": 297
        },
        "id": "bof7q3rMP7YC",
        "outputId": "95905c61-32f0-4e40-e7d2-01ce4917e943"
      },
      "source": [
        "vehicles_new.describe()"
      ],
      "execution_count": null,
      "outputs": [
        {
          "output_type": "execute_result",
          "data": {
            "text/html": [
              "<div>\n",
              "<style scoped>\n",
              "    .dataframe tbody tr th:only-of-type {\n",
              "        vertical-align: middle;\n",
              "    }\n",
              "\n",
              "    .dataframe tbody tr th {\n",
              "        vertical-align: top;\n",
              "    }\n",
              "\n",
              "    .dataframe thead th {\n",
              "        text-align: right;\n",
              "    }\n",
              "</style>\n",
              "<table border=\"1\" class=\"dataframe\">\n",
              "  <thead>\n",
              "    <tr style=\"text-align: right;\">\n",
              "      <th></th>\n",
              "      <th>price</th>\n",
              "      <th>year</th>\n",
              "      <th>odometer</th>\n",
              "    </tr>\n",
              "  </thead>\n",
              "  <tbody>\n",
              "    <tr>\n",
              "      <th>count</th>\n",
              "      <td>2.052470e+05</td>\n",
              "      <td>205247.000000</td>\n",
              "      <td>2.052470e+05</td>\n",
              "    </tr>\n",
              "    <tr>\n",
              "      <th>mean</th>\n",
              "      <td>4.295426e+04</td>\n",
              "      <td>2010.296574</td>\n",
              "      <td>1.062997e+05</td>\n",
              "    </tr>\n",
              "    <tr>\n",
              "      <th>std</th>\n",
              "      <td>8.684580e+06</td>\n",
              "      <td>9.665727</td>\n",
              "      <td>2.120933e+05</td>\n",
              "    </tr>\n",
              "    <tr>\n",
              "      <th>min</th>\n",
              "      <td>0.000000e+00</td>\n",
              "      <td>1900.000000</td>\n",
              "      <td>0.000000e+00</td>\n",
              "    </tr>\n",
              "    <tr>\n",
              "      <th>25%</th>\n",
              "      <td>5.900000e+03</td>\n",
              "      <td>2007.000000</td>\n",
              "      <td>5.108600e+04</td>\n",
              "    </tr>\n",
              "    <tr>\n",
              "      <th>50%</th>\n",
              "      <td>1.190000e+04</td>\n",
              "      <td>2013.000000</td>\n",
              "      <td>9.648500e+04</td>\n",
              "    </tr>\n",
              "    <tr>\n",
              "      <th>75%</th>\n",
              "      <td>2.347250e+04</td>\n",
              "      <td>2016.000000</td>\n",
              "      <td>1.400000e+05</td>\n",
              "    </tr>\n",
              "    <tr>\n",
              "      <th>max</th>\n",
              "      <td>3.736929e+09</td>\n",
              "      <td>2022.000000</td>\n",
              "      <td>1.000000e+07</td>\n",
              "    </tr>\n",
              "  </tbody>\n",
              "</table>\n",
              "</div>"
            ],
            "text/plain": [
              "              price           year      odometer\n",
              "count  2.052470e+05  205247.000000  2.052470e+05\n",
              "mean   4.295426e+04    2010.296574  1.062997e+05\n",
              "std    8.684580e+06       9.665727  2.120933e+05\n",
              "min    0.000000e+00    1900.000000  0.000000e+00\n",
              "25%    5.900000e+03    2007.000000  5.108600e+04\n",
              "50%    1.190000e+04    2013.000000  9.648500e+04\n",
              "75%    2.347250e+04    2016.000000  1.400000e+05\n",
              "max    3.736929e+09    2022.000000  1.000000e+07"
            ]
          },
          "metadata": {
            "tags": []
          },
          "execution_count": 45
        }
      ]
    },
    {
      "cell_type": "markdown",
      "metadata": {
        "id": "3-Cn6KOKQYJa"
      },
      "source": [
        "#CHECKING FOR OUTLIERS IN PRICE"
      ]
    },
    {
      "cell_type": "code",
      "metadata": {
        "colab": {
          "base_uri": "https://localhost:8080/",
          "height": 296
        },
        "id": "uwMQEa_kP7a9",
        "outputId": "9df3644d-c2e1-4936-8ef7-35818224e8a0"
      },
      "source": [
        "# boxplot before removing outliers in price column\n",
        "sns.boxplot(x = vehicles_new['price'])"
      ],
      "execution_count": null,
      "outputs": [
        {
          "output_type": "execute_result",
          "data": {
            "text/plain": [
              "<matplotlib.axes._subplots.AxesSubplot at 0x7f0f2a8df350>"
            ]
          },
          "metadata": {
            "tags": []
          },
          "execution_count": 46
        },
        {
          "output_type": "display_data",
          "data": {
            "image/png": "[encoded data removed]",
            "text/plain": [
              "<Figure size 432x288 with 1 Axes>"
            ]
          },
          "metadata": {
            "tags": [],
            "needs_background": "light"
          }
        }
      ]
    },
    {
      "cell_type": "code",
      "metadata": {
        "id": "KGXeHMwtQa2_"
      },
      "source": [
        "# since the price of a car cannot be 0, we drop rows with price of 0\n",
        "vehicles_new = vehicles_new[vehicles_new['price']>0]"
      ],
      "execution_count": null,
      "outputs": []
    },
    {
      "cell_type": "code",
      "metadata": {
        "id": "hHwoitNVQazC"
      },
      "source": [
        "#To remove the outliers in the price column using percentiles\n",
        "price=['price']\n",
        "Q1=vehicles_new.quantile(0.25)\n",
        "Q3= vehicles_new.quantile(0.75)\n",
        "IQR=Q3-Q1\n",
        "\n",
        "vehicles_new=vehicles_new[~((vehicles_new[price] < (Q1 -1.5 *IQR ))|(vehicles_new[price] > (Q3 + 1.5 * IQR))).any(axis=1)]"
      ],
      "execution_count": null,
      "outputs": []
    },
    {
      "cell_type": "code",
      "metadata": {
        "colab": {
          "base_uri": "https://localhost:8080/",
          "height": 296
        },
        "id": "A25bsevjQaqy",
        "outputId": "c8037e2c-58ae-4439-da05-dda656655fc6"
      },
      "source": [
        "# boxplot after removing outliers in price column\n",
        "sns.boxplot(x = vehicles_new['price'])"
      ],
      "execution_count": null,
      "outputs": [
        {
          "output_type": "execute_result",
          "data": {
            "text/plain": [
              "<matplotlib.axes._subplots.AxesSubplot at 0x7f0f2faebed0>"
            ]
          },
          "metadata": {
            "tags": []
          },
          "execution_count": 49
        },
        {
          "output_type": "display_data",
          "data": {
            "image/png": "[encoded data removed]",
            "text/plain": [
              "<Figure size 432x288 with 1 Axes>"
            ]
          },
          "metadata": {
            "tags": [],
            "needs_background": "light"
          }
        }
      ]
    },
    {
      "cell_type": "code",
      "metadata": {
        "colab": {
          "base_uri": "https://localhost:8080/",
          "height": 1000
        },
        "id": "dLShOKL7QauK",
        "outputId": "a5a8461b-c6fe-4df0-9f14-c74caffbeb28"
      },
      "source": [
        "# data frame  with price outliers dropPed\n",
        "vehicles_new"
      ],
      "execution_count": null,
      "outputs": [
        {
          "output_type": "execute_result",
          "data": {
            "text/html": [
              "<div>\n",
              "<style scoped>\n",
              "    .dataframe tbody tr th:only-of-type {\n",
              "        vertical-align: middle;\n",
              "    }\n",
              "\n",
              "    .dataframe tbody tr th {\n",
              "        vertical-align: top;\n",
              "    }\n",
              "\n",
              "    .dataframe thead th {\n",
              "        text-align: right;\n",
              "    }\n",
              "</style>\n",
              "<table border=\"1\" class=\"dataframe\">\n",
              "  <thead>\n",
              "    <tr style=\"text-align: right;\">\n",
              "      <th></th>\n",
              "      <th>region</th>\n",
              "      <th>price</th>\n",
              "      <th>year</th>\n",
              "      <th>manufacturer</th>\n",
              "      <th>model</th>\n",
              "      <th>cylinders</th>\n",
              "      <th>fuel</th>\n",
              "      <th>odometer</th>\n",
              "      <th>title_status</th>\n",
              "      <th>transmission</th>\n",
              "      <th>drive</th>\n",
              "      <th>type</th>\n",
              "      <th>paint_color</th>\n",
              "      <th>description</th>\n",
              "      <th>state</th>\n",
              "    </tr>\n",
              "  </thead>\n",
              "  <tbody>\n",
              "    <tr>\n",
              "      <th>0</th>\n",
              "      <td>auburn</td>\n",
              "      <td>9500</td>\n",
              "      <td>2003.0</td>\n",
              "      <td>chrysler</td>\n",
              "      <td>town &amp; country</td>\n",
              "      <td>6 cylinders</td>\n",
              "      <td>gas</td>\n",
              "      <td>30376.0</td>\n",
              "      <td>clean</td>\n",
              "      <td>automatic</td>\n",
              "      <td>fwd</td>\n",
              "      <td>mini-van</td>\n",
              "      <td>blue</td>\n",
              "      <td>2003 Chrysler Town and Country Handicapped Acc...</td>\n",
              "      <td>al</td>\n",
              "    </tr>\n",
              "    <tr>\n",
              "      <th>1</th>\n",
              "      <td>auburn</td>\n",
              "      <td>28990</td>\n",
              "      <td>2018.0</td>\n",
              "      <td>gmc</td>\n",
              "      <td>acadia sle-2 sport utility</td>\n",
              "      <td>6 cylinders</td>\n",
              "      <td>gas</td>\n",
              "      <td>20736.0</td>\n",
              "      <td>clean</td>\n",
              "      <td>other</td>\n",
              "      <td>fwd</td>\n",
              "      <td>other</td>\n",
              "      <td>white</td>\n",
              "      <td>Carvana is the safer way to buy a car During t...</td>\n",
              "      <td>al</td>\n",
              "    </tr>\n",
              "    <tr>\n",
              "      <th>5</th>\n",
              "      <td>auburn</td>\n",
              "      <td>20000</td>\n",
              "      <td>2011.0</td>\n",
              "      <td>ford</td>\n",
              "      <td>f-150 king ranch 4x4</td>\n",
              "      <td>8 cylinders</td>\n",
              "      <td>gas</td>\n",
              "      <td>101000.0</td>\n",
              "      <td>clean</td>\n",
              "      <td>automatic</td>\n",
              "      <td>4wd</td>\n",
              "      <td>pickup</td>\n",
              "      <td>black</td>\n",
              "      <td>2011 Ford F-150 King Ranch 4x4 with V8. Loaded...</td>\n",
              "      <td>al</td>\n",
              "    </tr>\n",
              "    <tr>\n",
              "      <th>11</th>\n",
              "      <td>auburn</td>\n",
              "      <td>18250</td>\n",
              "      <td>2008.0</td>\n",
              "      <td>toyota</td>\n",
              "      <td>fj cruiser</td>\n",
              "      <td>6 cylinders</td>\n",
              "      <td>gas</td>\n",
              "      <td>201300.0</td>\n",
              "      <td>clean</td>\n",
              "      <td>manual</td>\n",
              "      <td>4wd</td>\n",
              "      <td>offroad</td>\n",
              "      <td>black</td>\n",
              "      <td>Aspects: -Goodyear Wrangler Tires: 33’s  -Catt...</td>\n",
              "      <td>al</td>\n",
              "    </tr>\n",
              "    <tr>\n",
              "      <th>12</th>\n",
              "      <td>auburn</td>\n",
              "      <td>6000</td>\n",
              "      <td>2007.0</td>\n",
              "      <td>mercedes-benz</td>\n",
              "      <td>e320 cdi</td>\n",
              "      <td>6 cylinders</td>\n",
              "      <td>diesel</td>\n",
              "      <td>124000.0</td>\n",
              "      <td>clean</td>\n",
              "      <td>automatic</td>\n",
              "      <td>rwd</td>\n",
              "      <td>sedan</td>\n",
              "      <td>blue</td>\n",
              "      <td>Diesel engine Mercedes e class. 7 speed auto t...</td>\n",
              "      <td>al</td>\n",
              "    </tr>\n",
              "    <tr>\n",
              "      <th>...</th>\n",
              "      <td>...</td>\n",
              "      <td>...</td>\n",
              "      <td>...</td>\n",
              "      <td>...</td>\n",
              "      <td>...</td>\n",
              "      <td>...</td>\n",
              "      <td>...</td>\n",
              "      <td>...</td>\n",
              "      <td>...</td>\n",
              "      <td>...</td>\n",
              "      <td>...</td>\n",
              "      <td>...</td>\n",
              "      <td>...</td>\n",
              "      <td>...</td>\n",
              "      <td>...</td>\n",
              "    </tr>\n",
              "    <tr>\n",
              "      <th>441372</th>\n",
              "      <td>wyoming</td>\n",
              "      <td>34590</td>\n",
              "      <td>2019.0</td>\n",
              "      <td>gmc</td>\n",
              "      <td>sierra 1500 double cab</td>\n",
              "      <td>8 cylinders</td>\n",
              "      <td>gas</td>\n",
              "      <td>26439.0</td>\n",
              "      <td>clean</td>\n",
              "      <td>other</td>\n",
              "      <td></td>\n",
              "      <td>pickup</td>\n",
              "      <td>black</td>\n",
              "      <td>Carvana is the safer way to buy a car During t...</td>\n",
              "      <td>wy</td>\n",
              "    </tr>\n",
              "    <tr>\n",
              "      <th>441374</th>\n",
              "      <td>wyoming</td>\n",
              "      <td>43990</td>\n",
              "      <td>2019.0</td>\n",
              "      <td>ram</td>\n",
              "      <td>1500 crew cab big horn</td>\n",
              "      <td>8 cylinders</td>\n",
              "      <td>gas</td>\n",
              "      <td>17352.0</td>\n",
              "      <td>clean</td>\n",
              "      <td>other</td>\n",
              "      <td>4wd</td>\n",
              "      <td>pickup</td>\n",
              "      <td>black</td>\n",
              "      <td>Carvana is the safer way to buy a car During t...</td>\n",
              "      <td>wy</td>\n",
              "    </tr>\n",
              "    <tr>\n",
              "      <th>441381</th>\n",
              "      <td>wyoming</td>\n",
              "      <td>40000</td>\n",
              "      <td>2014.0</td>\n",
              "      <td></td>\n",
              "      <td>freightliner cascadia</td>\n",
              "      <td>6 cylinders</td>\n",
              "      <td>diesel</td>\n",
              "      <td>878805.0</td>\n",
              "      <td>clean</td>\n",
              "      <td>automatic</td>\n",
              "      <td>rwd</td>\n",
              "      <td>truck</td>\n",
              "      <td>red</td>\n",
              "      <td>2014 FREIGHT LINER CASCADA TANDEM AXLE  72 INC...</td>\n",
              "      <td>wy</td>\n",
              "    </tr>\n",
              "    <tr>\n",
              "      <th>441384</th>\n",
              "      <td>wyoming</td>\n",
              "      <td>13450</td>\n",
              "      <td>2007.0</td>\n",
              "      <td>cadillac</td>\n",
              "      <td>escalade</td>\n",
              "      <td>8 cylinders</td>\n",
              "      <td>gas</td>\n",
              "      <td>130000.0</td>\n",
              "      <td>clean</td>\n",
              "      <td>automatic</td>\n",
              "      <td>4wd</td>\n",
              "      <td>SUV</td>\n",
              "      <td>silver</td>\n",
              "      <td>2007 Cadillac Escalade AWD 6.2L All Wheel Driv...</td>\n",
              "      <td>wy</td>\n",
              "    </tr>\n",
              "    <tr>\n",
              "      <th>441391</th>\n",
              "      <td>wyoming</td>\n",
              "      <td>23590</td>\n",
              "      <td>2017.0</td>\n",
              "      <td>infiniti</td>\n",
              "      <td>qx50 sport utility 4d</td>\n",
              "      <td>6 cylinders</td>\n",
              "      <td>gas</td>\n",
              "      <td>25738.0</td>\n",
              "      <td>clean</td>\n",
              "      <td>automatic</td>\n",
              "      <td></td>\n",
              "      <td>hatchback</td>\n",
              "      <td>white</td>\n",
              "      <td>Carvana is the safer way to buy a car During t...</td>\n",
              "      <td>wy</td>\n",
              "    </tr>\n",
              "  </tbody>\n",
              "</table>\n",
              "<p>189281 rows × 15 columns</p>\n",
              "</div>"
            ],
            "text/plain": [
              "         region  price  ...                                        description state\n",
              "0        auburn   9500  ...  2003 Chrysler Town and Country Handicapped Acc...    al\n",
              "1        auburn  28990  ...  Carvana is the safer way to buy a car During t...    al\n",
              "5        auburn  20000  ...  2011 Ford F-150 King Ranch 4x4 with V8. Loaded...    al\n",
              "11       auburn  18250  ...  Aspects: -Goodyear Wrangler Tires: 33’s  -Catt...    al\n",
              "12       auburn   6000  ...  Diesel engine Mercedes e class. 7 speed auto t...    al\n",
              "...         ...    ...  ...                                                ...   ...\n",
              "441372  wyoming  34590  ...  Carvana is the safer way to buy a car During t...    wy\n",
              "441374  wyoming  43990  ...  Carvana is the safer way to buy a car During t...    wy\n",
              "441381  wyoming  40000  ...  2014 FREIGHT LINER CASCADA TANDEM AXLE  72 INC...    wy\n",
              "441384  wyoming  13450  ...  2007 Cadillac Escalade AWD 6.2L All Wheel Driv...    wy\n",
              "441391  wyoming  23590  ...  Carvana is the safer way to buy a car During t...    wy\n",
              "\n",
              "[189281 rows x 15 columns]"
            ]
          },
          "metadata": {
            "tags": []
          },
          "execution_count": 50
        }
      ]
    },
    {
      "cell_type": "code",
      "metadata": {
        "colab": {
          "base_uri": "https://localhost:8080/",
          "height": 296
        },
        "id": "VDSMBxY3Qanp",
        "outputId": "29854b2e-f674-416f-dd34-2f23234ba9a5"
      },
      "source": [
        "#For the Odometer column\n",
        "# boxplot before removing outliers in odometer column\n",
        "sns.boxplot(x = vehicles_new['odometer'])"
      ],
      "execution_count": null,
      "outputs": [
        {
          "output_type": "execute_result",
          "data": {
            "text/plain": [
              "<matplotlib.axes._subplots.AxesSubplot at 0x7f0f2ede2d10>"
            ]
          },
          "metadata": {
            "tags": []
          },
          "execution_count": 51
        },
        {
          "output_type": "display_data",
          "data": {
            "image/png": "[encoded data removed]",
            "text/plain": [
              "<Figure size 432x288 with 1 Axes>"
            ]
          },
          "metadata": {
            "tags": [],
            "needs_background": "light"
          }
        }
      ]
    },
    {
      "cell_type": "code",
      "metadata": {
        "colab": {
          "base_uri": "https://localhost:8080/"
        },
        "id": "NBirE0CIQadF",
        "outputId": "80c9ff4a-30a8-4fb4-af20-5317b359ff21"
      },
      "source": [
        "gc.collect()"
      ],
      "execution_count": null,
      "outputs": [
        {
          "output_type": "execute_result",
          "data": {
            "text/plain": [
              "50"
            ]
          },
          "metadata": {
            "tags": []
          },
          "execution_count": 52
        }
      ]
    },
    {
      "cell_type": "code",
      "metadata": {
        "id": "xlTLjDRYP7ea"
      },
      "source": [
        "#To remove the outliers in the odometer column using percentiles\n",
        "odometer=['odometer']\n",
        "Q1=vehicles_new.quantile(0.25)\n",
        "Q3= vehicles_new.quantile(0.75)\n",
        "IQR=Q3-Q1\n",
        "\n",
        "vehicles_new=vehicles_new[~((vehicles_new[odometer] < (Q1 -1.5 *IQR ))|(vehicles_new[odometer] > (Q3 + 1.5 * IQR))).any(axis=1)]"
      ],
      "execution_count": null,
      "outputs": []
    },
    {
      "cell_type": "code",
      "metadata": {
        "colab": {
          "base_uri": "https://localhost:8080/",
          "height": 296
        },
        "id": "GlDEES5oQ_S3",
        "outputId": "525b7695-5a73-498e-a940-dbe6f98180e7"
      },
      "source": [
        "# boxplot after removing outliers in odometer column\n",
        "sns.boxplot(x = vehicles_new['odometer'])"
      ],
      "execution_count": null,
      "outputs": [
        {
          "output_type": "execute_result",
          "data": {
            "text/plain": [
              "<matplotlib.axes._subplots.AxesSubplot at 0x7f0f2a8df050>"
            ]
          },
          "metadata": {
            "tags": []
          },
          "execution_count": 54
        },
        {
          "output_type": "display_data",
          "data": {
            "image/png": "[encoded data removed]",
            "text/plain": [
              "<Figure size 432x288 with 1 Axes>"
            ]
          },
          "metadata": {
            "tags": [],
            "needs_background": "light"
          }
        }
      ]
    },
    {
      "cell_type": "code",
      "metadata": {
        "colab": {
          "base_uri": "https://localhost:8080/"
        },
        "id": "8hfLaNpzQ_Xp",
        "outputId": "c827d01b-327c-4ace-fa16-240437ca3d3a"
      },
      "source": [
        "gc.collect()"
      ],
      "execution_count": null,
      "outputs": [
        {
          "output_type": "execute_result",
          "data": {
            "text/plain": [
              "50"
            ]
          },
          "metadata": {
            "tags": []
          },
          "execution_count": 55
        }
      ]
    },
    {
      "cell_type": "code",
      "metadata": {
        "colab": {
          "base_uri": "https://localhost:8080/"
        },
        "id": "xwLdbsSeQ_a-",
        "outputId": "5d4826de-1b11-49de-a004-e26cbd035c71"
      },
      "source": [
        "#dropping the description column\n",
        "vehicles_new.drop('description', axis=1, inplace=True)"
      ],
      "execution_count": null,
      "outputs": [
        {
          "output_type": "stream",
          "text": [
            "/usr/local/lib/python3.7/dist-packages/pandas/core/frame.py:4174: SettingWithCopyWarning: \n",
            "A value is trying to be set on a copy of a slice from a DataFrame\n",
            "\n",
            "See the caveats in the documentation: https://pandas.pydata.org/pandas-docs/stable/user_guide/indexing.html#returning-a-view-versus-a-copy\n",
            "  errors=errors,\n"
          ],
          "name": "stderr"
        }
      ]
    },
    {
      "cell_type": "code",
      "metadata": {
        "colab": {
          "base_uri": "https://localhost:8080/"
        },
        "id": "GmqK4t-CQ_eK",
        "outputId": "99707fa9-0b31-4003-f0e1-a12af711b344"
      },
      "source": [
        "# shape of the new dataset\n",
        "print(vehicles_new.shape)\n",
        "vehicles_new.info()"
      ],
      "execution_count": null,
      "outputs": [
        {
          "output_type": "stream",
          "text": [
            "(187256, 14)\n",
            "<class 'pandas.core.frame.DataFrame'>\n",
            "Int64Index: 187256 entries, 0 to 441391\n",
            "Data columns (total 14 columns):\n",
            " #   Column        Non-Null Count   Dtype  \n",
            "---  ------        --------------   -----  \n",
            " 0   region        187256 non-null  object \n",
            " 1   price         187256 non-null  int64  \n",
            " 2   year          187256 non-null  float64\n",
            " 3   manufacturer  187256 non-null  object \n",
            " 4   model         187256 non-null  object \n",
            " 5   cylinders     187256 non-null  object \n",
            " 6   fuel          187256 non-null  object \n",
            " 7   odometer      187256 non-null  float64\n",
            " 8   title_status  187256 non-null  object \n",
            " 9   transmission  187256 non-null  object \n",
            " 10  drive         187256 non-null  object \n",
            " 11  type          187256 non-null  object \n",
            " 12  paint_color   187256 non-null  object \n",
            " 13  state         187256 non-null  object \n",
            "dtypes: float64(2), int64(1), object(11)\n",
            "memory usage: 21.4+ MB\n"
          ],
          "name": "stdout"
        }
      ]
    },
    {
      "cell_type": "code",
      "metadata": {
        "colab": {
          "base_uri": "https://localhost:8080/"
        },
        "id": "JQBZ3PoqQ_hc",
        "outputId": "10e95a33-ae63-4e38-e5b1-552e2858a2cd"
      },
      "source": [
        "from sklearn.preprocessing import LabelEncoder, OneHotEncoder\n",
        "le = LabelEncoder()\n",
        "\n",
        "#Encoding ALL THE COLUMNS EXCEPT PRICE, WHICH IS THE TARGET VARIABLE\n",
        "vehicles_new[['region','manufacturer','model','cylinders','fuel',\n",
        "        'title_status','transmission','drive','type','paint_color',\n",
        "        'state']] = vehicles_new[['region','manufacturer','model',\n",
        "        'cylinders','fuel','title_status','transmission','drive',\n",
        "        'type','paint_color','state']].apply(le.fit_transform)"
      ],
      "execution_count": null,
      "outputs": [
        {
          "output_type": "stream",
          "text": [
            "/usr/local/lib/python3.7/dist-packages/pandas/core/frame.py:3069: SettingWithCopyWarning: \n",
            "A value is trying to be set on a copy of a slice from a DataFrame.\n",
            "Try using .loc[row_indexer,col_indexer] = value instead\n",
            "\n",
            "See the caveats in the documentation: https://pandas.pydata.org/pandas-docs/stable/user_guide/indexing.html#returning-a-view-versus-a-copy\n",
            "  self[k1] = value[k2]\n"
          ],
          "name": "stderr"
        }
      ]
    },
    {
      "cell_type": "code",
      "metadata": {
        "colab": {
          "base_uri": "https://localhost:8080/"
        },
        "id": "9xFz7-l8Q_kw",
        "outputId": "3e1e5e5d-73a5-46a2-811b-c08275ebb4b3"
      },
      "source": [
        "gc.collect()"
      ],
      "execution_count": null,
      "outputs": [
        {
          "output_type": "execute_result",
          "data": {
            "text/plain": [
              "50"
            ]
          },
          "metadata": {
            "tags": []
          },
          "execution_count": 59
        }
      ]
    },
    {
      "cell_type": "code",
      "metadata": {
        "colab": {
          "base_uri": "https://localhost:8080/",
          "height": 419
        },
        "id": "l1sWC1i_Q_n8",
        "outputId": "5a7d14ce-a21b-4ff6-9d01-738a2f2da4ec"
      },
      "source": [
        "vehicles_new"
      ],
      "execution_count": null,
      "outputs": [
        {
          "output_type": "execute_result",
          "data": {
            "text/html": [
              "<div>\n",
              "<style scoped>\n",
              "    .dataframe tbody tr th:only-of-type {\n",
              "        vertical-align: middle;\n",
              "    }\n",
              "\n",
              "    .dataframe tbody tr th {\n",
              "        vertical-align: top;\n",
              "    }\n",
              "\n",
              "    .dataframe thead th {\n",
              "        text-align: right;\n",
              "    }\n",
              "</style>\n",
              "<table border=\"1\" class=\"dataframe\">\n",
              "  <thead>\n",
              "    <tr style=\"text-align: right;\">\n",
              "      <th></th>\n",
              "      <th>region</th>\n",
              "      <th>price</th>\n",
              "      <th>year</th>\n",
              "      <th>manufacturer</th>\n",
              "      <th>model</th>\n",
              "      <th>cylinders</th>\n",
              "      <th>fuel</th>\n",
              "      <th>odometer</th>\n",
              "      <th>title_status</th>\n",
              "      <th>transmission</th>\n",
              "      <th>drive</th>\n",
              "      <th>type</th>\n",
              "      <th>paint_color</th>\n",
              "      <th>state</th>\n",
              "    </tr>\n",
              "  </thead>\n",
              "  <tbody>\n",
              "    <tr>\n",
              "      <th>0</th>\n",
              "      <td>16</td>\n",
              "      <td>9500</td>\n",
              "      <td>2003.0</td>\n",
              "      <td>101</td>\n",
              "      <td>15815</td>\n",
              "      <td>5</td>\n",
              "      <td>2</td>\n",
              "      <td>30376.0</td>\n",
              "      <td>0</td>\n",
              "      <td>0</td>\n",
              "      <td>2</td>\n",
              "      <td>6</td>\n",
              "      <td>2</td>\n",
              "      <td>1</td>\n",
              "    </tr>\n",
              "    <tr>\n",
              "      <th>1</th>\n",
              "      <td>16</td>\n",
              "      <td>28990</td>\n",
              "      <td>2018.0</td>\n",
              "      <td>192</td>\n",
              "      <td>4338</td>\n",
              "      <td>5</td>\n",
              "      <td>2</td>\n",
              "      <td>20736.0</td>\n",
              "      <td>0</td>\n",
              "      <td>2</td>\n",
              "      <td>2</td>\n",
              "      <td>8</td>\n",
              "      <td>12</td>\n",
              "      <td>1</td>\n",
              "    </tr>\n",
              "    <tr>\n",
              "      <th>5</th>\n",
              "      <td>16</td>\n",
              "      <td>20000</td>\n",
              "      <td>2011.0</td>\n",
              "      <td>139</td>\n",
              "      <td>8336</td>\n",
              "      <td>6</td>\n",
              "      <td>2</td>\n",
              "      <td>101000.0</td>\n",
              "      <td>0</td>\n",
              "      <td>0</td>\n",
              "      <td>1</td>\n",
              "      <td>9</td>\n",
              "      <td>1</td>\n",
              "      <td>1</td>\n",
              "    </tr>\n",
              "    <tr>\n",
              "      <th>11</th>\n",
              "      <td>16</td>\n",
              "      <td>18250</td>\n",
              "      <td>2008.0</td>\n",
              "      <td>455</td>\n",
              "      <td>9250</td>\n",
              "      <td>5</td>\n",
              "      <td>2</td>\n",
              "      <td>201300.0</td>\n",
              "      <td>0</td>\n",
              "      <td>1</td>\n",
              "      <td>1</td>\n",
              "      <td>7</td>\n",
              "      <td>1</td>\n",
              "      <td>1</td>\n",
              "    </tr>\n",
              "    <tr>\n",
              "      <th>12</th>\n",
              "      <td>16</td>\n",
              "      <td>6000</td>\n",
              "      <td>2007.0</td>\n",
              "      <td>300</td>\n",
              "      <td>7380</td>\n",
              "      <td>5</td>\n",
              "      <td>0</td>\n",
              "      <td>124000.0</td>\n",
              "      <td>0</td>\n",
              "      <td>0</td>\n",
              "      <td>3</td>\n",
              "      <td>10</td>\n",
              "      <td>2</td>\n",
              "      <td>1</td>\n",
              "    </tr>\n",
              "    <tr>\n",
              "      <th>...</th>\n",
              "      <td>...</td>\n",
              "      <td>...</td>\n",
              "      <td>...</td>\n",
              "      <td>...</td>\n",
              "      <td>...</td>\n",
              "      <td>...</td>\n",
              "      <td>...</td>\n",
              "      <td>...</td>\n",
              "      <td>...</td>\n",
              "      <td>...</td>\n",
              "      <td>...</td>\n",
              "      <td>...</td>\n",
              "      <td>...</td>\n",
              "      <td>...</td>\n",
              "    </tr>\n",
              "    <tr>\n",
              "      <th>441367</th>\n",
              "      <td>396</td>\n",
              "      <td>43500</td>\n",
              "      <td>2006.0</td>\n",
              "      <td>378</td>\n",
              "      <td>1171</td>\n",
              "      <td>5</td>\n",
              "      <td>0</td>\n",
              "      <td>138498.0</td>\n",
              "      <td>0</td>\n",
              "      <td>2</td>\n",
              "      <td>1</td>\n",
              "      <td>12</td>\n",
              "      <td>4</td>\n",
              "      <td>50</td>\n",
              "    </tr>\n",
              "    <tr>\n",
              "      <th>441372</th>\n",
              "      <td>396</td>\n",
              "      <td>34590</td>\n",
              "      <td>2019.0</td>\n",
              "      <td>192</td>\n",
              "      <td>14246</td>\n",
              "      <td>6</td>\n",
              "      <td>2</td>\n",
              "      <td>26439.0</td>\n",
              "      <td>0</td>\n",
              "      <td>2</td>\n",
              "      <td>0</td>\n",
              "      <td>9</td>\n",
              "      <td>1</td>\n",
              "      <td>50</td>\n",
              "    </tr>\n",
              "    <tr>\n",
              "      <th>441374</th>\n",
              "      <td>396</td>\n",
              "      <td>43990</td>\n",
              "      <td>2019.0</td>\n",
              "      <td>378</td>\n",
              "      <td>153</td>\n",
              "      <td>6</td>\n",
              "      <td>2</td>\n",
              "      <td>17352.0</td>\n",
              "      <td>0</td>\n",
              "      <td>2</td>\n",
              "      <td>1</td>\n",
              "      <td>9</td>\n",
              "      <td>1</td>\n",
              "      <td>50</td>\n",
              "    </tr>\n",
              "    <tr>\n",
              "      <th>441384</th>\n",
              "      <td>396</td>\n",
              "      <td>13450</td>\n",
              "      <td>2007.0</td>\n",
              "      <td>70</td>\n",
              "      <td>7872</td>\n",
              "      <td>6</td>\n",
              "      <td>2</td>\n",
              "      <td>130000.0</td>\n",
              "      <td>0</td>\n",
              "      <td>0</td>\n",
              "      <td>1</td>\n",
              "      <td>1</td>\n",
              "      <td>11</td>\n",
              "      <td>50</td>\n",
              "    </tr>\n",
              "    <tr>\n",
              "      <th>441391</th>\n",
              "      <td>396</td>\n",
              "      <td>23590</td>\n",
              "      <td>2017.0</td>\n",
              "      <td>240</td>\n",
              "      <td>13083</td>\n",
              "      <td>5</td>\n",
              "      <td>2</td>\n",
              "      <td>25738.0</td>\n",
              "      <td>0</td>\n",
              "      <td>0</td>\n",
              "      <td>0</td>\n",
              "      <td>5</td>\n",
              "      <td>12</td>\n",
              "      <td>50</td>\n",
              "    </tr>\n",
              "  </tbody>\n",
              "</table>\n",
              "<p>187256 rows × 14 columns</p>\n",
              "</div>"
            ],
            "text/plain": [
              "        region  price    year  manufacturer  ...  drive  type  paint_color  state\n",
              "0           16   9500  2003.0           101  ...      2     6            2      1\n",
              "1           16  28990  2018.0           192  ...      2     8           12      1\n",
              "5           16  20000  2011.0           139  ...      1     9            1      1\n",
              "11          16  18250  2008.0           455  ...      1     7            1      1\n",
              "12          16   6000  2007.0           300  ...      3    10            2      1\n",
              "...        ...    ...     ...           ...  ...    ...   ...          ...    ...\n",
              "441367     396  43500  2006.0           378  ...      1    12            4     50\n",
              "441372     396  34590  2019.0           192  ...      0     9            1     50\n",
              "441374     396  43990  2019.0           378  ...      1     9            1     50\n",
              "441384     396  13450  2007.0            70  ...      1     1           11     50\n",
              "441391     396  23590  2017.0           240  ...      0     5           12     50\n",
              "\n",
              "[187256 rows x 14 columns]"
            ]
          },
          "metadata": {
            "tags": []
          },
          "execution_count": 60
        }
      ]
    },
    {
      "cell_type": "code",
      "metadata": {
        "id": "UbX6N1AsQ_xn"
      },
      "source": [
        "X=vehicles_new['price'] #Target variable\n",
        "Y= vehicles_new.drop('price', axis=1) #Other Variables\n"
      ],
      "execution_count": null,
      "outputs": []
    },
    {
      "cell_type": "code",
      "metadata": {
        "id": "cSBeo1Q1Q_1M"
      },
      "source": [
        "# normalize the data\n",
        "from sklearn.preprocessing import StandardScaler, MinMaxScaler\n",
        "Y = StandardScaler().fit_transform(Y.astype(float))"
      ],
      "execution_count": null,
      "outputs": []
    },
    {
      "cell_type": "code",
      "metadata": {
        "colab": {
          "base_uri": "https://localhost:8080/"
        },
        "id": "mpRFnmZoUr68",
        "outputId": "7b88f04d-406d-4f7c-946e-b28e25404cf0"
      },
      "source": [
        "# to split the data\n",
        "# split into train and test\n",
        "from sklearn.model_selection import train_test_split\n",
        "X_train, X_test, Y_train, Y_test = train_test_split(X, Y, test_size=0.2, random_state=42)\n",
        "print('Train set: ', X_train.shape, Y_train.shape)\n",
        "print('Test set: ', X_test.shape, Y_test.shape)"
      ],
      "execution_count": null,
      "outputs": [
        {
          "output_type": "stream",
          "text": [
            "Train set:  (149804,) (149804, 13)\n",
            "Test set:  (37452,) (37452, 13)\n"
          ],
          "name": "stdout"
        }
      ]
    },
    {
      "cell_type": "markdown",
      "metadata": {
        "id": "FhQK-zZcViHy"
      },
      "source": [
        "**CHECKING OUT LINEAR REGRESSION;**"
      ]
    },
    {
      "cell_type": "code",
      "metadata": {
        "id": "HwgGtcOTUr_S"
      },
      "source": [
        "# to create the linear regression model\n",
        "#from sklearn.linear_model import LinearRegression\n",
        "#reg = LinearRegression()\n",
        "#reg.fit(X_train.values.reshape(-1,1), Y_train)  # fit the model to train set\n",
        "#lr.fit(x.reshape(-1, 1), y)"
      ],
      "execution_count": null,
      "outputs": []
    },
    {
      "cell_type": "code",
      "metadata": {
        "colab": {
          "base_uri": "https://localhost:8080/"
        },
        "id": "VHfo9KQQY5zV",
        "outputId": "81724b6d-a922-4912-d51c-dad99e11c29b"
      },
      "source": [
        "# to create the linear regression model\n",
        "from sklearn.linear_model import LinearRegression\n",
        "reg = LinearRegression()\n",
        "reg.fit(Y_train, X_train.values.reshape(-1,1))  # fit the model to train set\n",
        "#lr.fit(x.reshape(-1, 1), y)"
      ],
      "execution_count": null,
      "outputs": [
        {
          "output_type": "execute_result",
          "data": {
            "text/plain": [
              "LinearRegression(copy_X=True, fit_intercept=True, n_jobs=None, normalize=False)"
            ]
          },
          "metadata": {
            "tags": []
          },
          "execution_count": 65
        }
      ]
    },
    {
      "cell_type": "code",
      "metadata": {
        "id": "dtNh_XsmUsCx"
      },
      "source": [
        "# to evaluate test set values\n",
        "X_pred = reg.predict(Y_test)"
      ],
      "execution_count": null,
      "outputs": []
    },
    {
      "cell_type": "code",
      "metadata": {
        "id": "FeupkBjnUsGD"
      },
      "source": [
        "from sklearn import metrics\n",
        "from sklearn.metrics import r2_score"
      ],
      "execution_count": null,
      "outputs": []
    },
    {
      "cell_type": "code",
      "metadata": {
        "colab": {
          "base_uri": "https://localhost:8080/"
        },
        "id": "o2h0yW03UsJN",
        "outputId": "bbe800d5-08e5-47db-9553-7b366ea563aa"
      },
      "source": [
        "print('Mean Absolute Error: ', round(metrics.mean_absolute_error(X_test, X_pred), 3))\n",
        "print('Mean Squared Error: ', round(metrics.mean_squared_error(X_test, X_pred), 3))\n",
        "print('Root Mean Squared Error: ', round(np.sqrt(metrics.mean_squared_error(X_test, X_pred)), 3))\n",
        "print('R2 score: ', round(r2_score(X_test, X_pred), 3))"
      ],
      "execution_count": null,
      "outputs": [
        {
          "output_type": "stream",
          "text": [
            "Mean Absolute Error:  5841.483\n",
            "Mean Squared Error:  62096481.845\n",
            "Root Mean Squared Error:  7880.132\n",
            "R2 score:  0.558\n"
          ],
          "name": "stdout"
        }
      ]
    },
    {
      "cell_type": "code",
      "metadata": {
        "colab": {
          "base_uri": "https://localhost:8080/"
        },
        "id": "KEkdqu67UsMU",
        "outputId": "b063e880-dd10-4280-ecf1-69957b13af61"
      },
      "source": [
        "gc.collect()"
      ],
      "execution_count": null,
      "outputs": [
        {
          "output_type": "execute_result",
          "data": {
            "text/plain": [
              "300"
            ]
          },
          "metadata": {
            "tags": []
          },
          "execution_count": 69
        }
      ]
    },
    {
      "cell_type": "markdown",
      "metadata": {
        "id": "z7fF9Z3eaCLt"
      },
      "source": [
        "### **USING LGBM REGRESSOR**"
      ]
    },
    {
      "cell_type": "code",
      "metadata": {
        "colab": {
          "base_uri": "https://localhost:8080/"
        },
        "id": "Oa_lhUR-UsPf",
        "outputId": "88067c68-a809-467b-f618-86fa11573f64"
      },
      "source": [
        "\n",
        "from lightgbm import LGBMRegressor\n",
        "lgbm = LGBMRegressor(n_estimators=150, random_state=42)\n",
        "lgbm.fit(Y_train,X_train.ravel())"
      ],
      "execution_count": null,
      "outputs": [
        {
          "output_type": "execute_result",
          "data": {
            "text/plain": [
              "LGBMRegressor(boosting_type='gbdt', class_weight=None, colsample_bytree=1.0,\n",
              "              importance_type='split', learning_rate=0.1, max_depth=-1,\n",
              "              min_child_samples=20, min_child_weight=0.001, min_split_gain=0.0,\n",
              "              n_estimators=150, n_jobs=-1, num_leaves=31, objective=None,\n",
              "              random_state=42, reg_alpha=0.0, reg_lambda=0.0, silent=True,\n",
              "              subsample=1.0, subsample_for_bin=200000, subsample_freq=0)"
            ]
          },
          "metadata": {
            "tags": []
          },
          "execution_count": 70
        }
      ]
    },
    {
      "cell_type": "code",
      "metadata": {
        "id": "nUSxlhN9UsTG"
      },
      "source": [
        "X_predLGBM = lgbm.predict(Y_test)"
      ],
      "execution_count": null,
      "outputs": []
    },
    {
      "cell_type": "code",
      "metadata": {
        "colab": {
          "base_uri": "https://localhost:8080/"
        },
        "id": "YiNIHJdjUsWX",
        "outputId": "b40474ee-1026-4321-ad75-a15618dd912e"
      },
      "source": [
        "print('Mean Absolute Error: ', round(metrics.mean_absolute_error(X_test, X_predLGBM), 3))\n",
        "print('Mean Squared Error: ', round(metrics.mean_squared_error(X_test, X_predLGBM), 3))\n",
        "print('Root Mean Squared Error: ', round(np.sqrt(metrics.mean_squared_error(X_test, X_predLGBM)), 3))\n",
        "print('R2 score: ', round(r2_score(X_test, X_predLGBM), 3))"
      ],
      "execution_count": null,
      "outputs": [
        {
          "output_type": "stream",
          "text": [
            "Mean Absolute Error:  2906.246\n",
            "Mean Squared Error:  20092361.892\n",
            "Root Mean Squared Error:  4482.45\n",
            "R2 score:  0.857\n"
          ],
          "name": "stdout"
        }
      ]
    },
    {
      "cell_type": "code",
      "metadata": {
        "id": "YUcz-cQTUsZn"
      },
      "source": [
        ""
      ],
      "execution_count": null,
      "outputs": []
    },
    {
      "cell_type": "code",
      "metadata": {
        "id": "SqQ9y4-aUsc-"
      },
      "source": [
        ""
      ],
      "execution_count": null,
      "outputs": []
    },
    {
      "cell_type": "code",
      "metadata": {
        "id": "GgC7Dv7UUsgl"
      },
      "source": [
        ""
      ],
      "execution_count": null,
      "outputs": []
    },
    {
      "cell_type": "code",
      "metadata": {
        "id": "oFMo0fneUsjz"
      },
      "source": [
        ""
      ],
      "execution_count": null,
      "outputs": []
    },
    {
      "cell_type": "code",
      "metadata": {
        "id": "cjDbBT_YUsnL"
      },
      "source": [
        ""
      ],
      "execution_count": null,
      "outputs": []
    },
    {
      "cell_type": "code",
      "metadata": {
        "id": "O1XEx1L8Usqa"
      },
      "source": [
        ""
      ],
      "execution_count": null,
      "outputs": []
    },
    {
      "cell_type": "code",
      "metadata": {
        "id": "dZvqLF5gUst4"
      },
      "source": [
        ""
      ],
      "execution_count": null,
      "outputs": []
    },
    {
      "cell_type": "code",
      "metadata": {
        "id": "OwrusfyKUsxL"
      },
      "source": [
        ""
      ],
      "execution_count": null,
      "outputs": []
    },
    {
      "cell_type": "code",
      "metadata": {
        "id": "B-4sp0YOUs25"
      },
      "source": [
        ""
      ],
      "execution_count": null,
      "outputs": []
    },
    {
      "cell_type": "code",
      "metadata": {
        "id": "Wv3h0g00Us7j"
      },
      "source": [
        ""
      ],
      "execution_count": null,
      "outputs": []
    },
    {
      "cell_type": "code",
      "metadata": {
        "id": "yMyHKyYoUtCY"
      },
      "source": [
        ""
      ],
      "execution_count": null,
      "outputs": []
    },
    {
      "cell_type": "code",
      "metadata": {
        "id": "k1PZfR_iUtH2"
      },
      "source": [
        ""
      ],
      "execution_count": null,
      "outputs": []
    },
    {
      "cell_type": "code",
      "metadata": {
        "id": "zo0vyLFWUtNR"
      },
      "source": [
        ""
      ],
      "execution_count": null,
      "outputs": []
    },
    {
      "cell_type": "code",
      "metadata": {
        "id": "pd3j2HlBUtQb"
      },
      "source": [
        ""
      ],
      "execution_count": null,
      "outputs": []
    },
    {
      "cell_type": "code",
      "metadata": {
        "id": "brtFqujNQ_5B"
      },
      "source": [
        ""
      ],
      "execution_count": null,
      "outputs": []
    },
    {
      "cell_type": "code",
      "metadata": {
        "id": "Oc6hiWSaQ_9N"
      },
      "source": [
        ""
      ],
      "execution_count": null,
      "outputs": []
    },
    {
      "cell_type": "code",
      "metadata": {
        "id": "_aSIlGRzRAAs"
      },
      "source": [
        ""
      ],
      "execution_count": null,
      "outputs": []
    },
    {
      "cell_type": "code",
      "metadata": {
        "id": "jlcpnoT5OT53"
      },
      "source": [
        ""
      ],
      "execution_count": null,
      "outputs": []
    }
  ]
}