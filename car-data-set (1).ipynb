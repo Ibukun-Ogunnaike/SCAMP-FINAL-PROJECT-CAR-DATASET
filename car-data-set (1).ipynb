{
 "cells": [
  {
   "cell_type": "code",
   "execution_count": 1,
   "metadata": {
    "_cell_guid": "b1076dfc-b9ad-4769-8c92-a6c4dae69d19",
    "_uuid": "8f2839f25d086af736a60e9eeb907d3b93b6e0e5",
    "execution": {
     "iopub.execute_input": "2021-05-20T04:57:50.677074Z",
     "iopub.status.busy": "2021-05-20T04:57:50.676502Z",
     "iopub.status.idle": "2021-05-20T04:57:50.698173Z",
     "shell.execute_reply": "2021-05-20T04:57:50.697089Z",
     "shell.execute_reply.started": "2021-05-20T04:57:50.676981Z"
    }
   },
   "outputs": [
    {
     "name": "stdout",
     "output_type": "stream",
     "text": [
      "/kaggle/input/craigslist-carstrucks-data/vehicles.csv\n"
     ]
    }
   ],
   "source": [
    "# This Python 3 environment comes with many helpful analytics libraries installed\n",
    "# It is defined by the kaggle/python Docker image: https://github.com/kaggle/docker-python\n",
    "# For example, here's several helpful packages to load\n",
    "\n",
    "import numpy as np # linear algebra\n",
    "import pandas as pd # data processing, CSV file I/O (e.g. pd.read_csv)\n",
    "\n",
    "# Input data files are available in the read-only \"../input/\" directory\n",
    "# For example, running this (by clicking run or pressing Shift+Enter) will list all files under the input directory\n",
    "\n",
    "import os\n",
    "for dirname, _, filenames in os.walk('/kaggle/input'):\n",
    "    for filename in filenames:\n",
    "        print(os.path.join(dirname, filename))\n",
    "\n",
    "# You can write up to 20GB to the current directory (/kaggle/working/) that gets preserved as output when you create a version using \"Save & Run All\" \n",
    "# You can also write temporary files to /kaggle/temp/, but they won't be saved outside of the current session"
   ]
  },
  {
   "cell_type": "code",
   "execution_count": 2,
   "metadata": {
    "execution": {
     "iopub.execute_input": "2021-05-20T04:57:50.700027Z",
     "iopub.status.busy": "2021-05-20T04:57:50.699731Z",
     "iopub.status.idle": "2021-05-20T04:57:51.534086Z",
     "shell.execute_reply": "2021-05-20T04:57:51.533319Z",
     "shell.execute_reply.started": "2021-05-20T04:57:50.699997Z"
    }
   },
   "outputs": [],
   "source": [
    "import pandas as pd\n",
    "import numpy as np\n",
    "import matplotlib.pyplot as plt\n",
    "%matplotlib inline\n",
    "import seaborn as sns\n"
   ]
  },
  {
   "cell_type": "code",
   "execution_count": 3,
   "metadata": {
    "execution": {
     "iopub.execute_input": "2021-05-20T04:57:51.535942Z",
     "iopub.status.busy": "2021-05-20T04:57:51.535529Z",
     "iopub.status.idle": "2021-05-20T04:58:30.301325Z",
     "shell.execute_reply": "2021-05-20T04:58:30.300571Z",
     "shell.execute_reply.started": "2021-05-20T04:57:51.535905Z"
    }
   },
   "outputs": [
    {
     "data": {
      "text/html": [
       "<div>\n",
       "<style scoped>\n",
       "    .dataframe tbody tr th:only-of-type {\n",
       "        vertical-align: middle;\n",
       "    }\n",
       "\n",
       "    .dataframe tbody tr th {\n",
       "        vertical-align: top;\n",
       "    }\n",
       "\n",
       "    .dataframe thead th {\n",
       "        text-align: right;\n",
       "    }\n",
       "</style>\n",
       "<table border=\"1\" class=\"dataframe\">\n",
       "  <thead>\n",
       "    <tr style=\"text-align: right;\">\n",
       "      <th></th>\n",
       "      <th>id</th>\n",
       "      <th>url</th>\n",
       "      <th>region</th>\n",
       "      <th>region_url</th>\n",
       "      <th>price</th>\n",
       "      <th>year</th>\n",
       "      <th>manufacturer</th>\n",
       "      <th>model</th>\n",
       "      <th>condition</th>\n",
       "      <th>cylinders</th>\n",
       "      <th>...</th>\n",
       "      <th>size</th>\n",
       "      <th>type</th>\n",
       "      <th>paint_color</th>\n",
       "      <th>image_url</th>\n",
       "      <th>description</th>\n",
       "      <th>county</th>\n",
       "      <th>state</th>\n",
       "      <th>lat</th>\n",
       "      <th>long</th>\n",
       "      <th>posting_date</th>\n",
       "    </tr>\n",
       "  </thead>\n",
       "  <tbody>\n",
       "    <tr>\n",
       "      <th>0</th>\n",
       "      <td>7222695916</td>\n",
       "      <td>https://prescott.craigslist.org/cto/d/prescott...</td>\n",
       "      <td>prescott</td>\n",
       "      <td>https://prescott.craigslist.org</td>\n",
       "      <td>6000</td>\n",
       "      <td>NaN</td>\n",
       "      <td>NaN</td>\n",
       "      <td>NaN</td>\n",
       "      <td>NaN</td>\n",
       "      <td>NaN</td>\n",
       "      <td>...</td>\n",
       "      <td>NaN</td>\n",
       "      <td>NaN</td>\n",
       "      <td>NaN</td>\n",
       "      <td>NaN</td>\n",
       "      <td>NaN</td>\n",
       "      <td>NaN</td>\n",
       "      <td>az</td>\n",
       "      <td>NaN</td>\n",
       "      <td>NaN</td>\n",
       "      <td>NaN</td>\n",
       "    </tr>\n",
       "    <tr>\n",
       "      <th>1</th>\n",
       "      <td>7218891961</td>\n",
       "      <td>https://fayar.craigslist.org/ctd/d/bentonville...</td>\n",
       "      <td>fayetteville</td>\n",
       "      <td>https://fayar.craigslist.org</td>\n",
       "      <td>11900</td>\n",
       "      <td>NaN</td>\n",
       "      <td>NaN</td>\n",
       "      <td>NaN</td>\n",
       "      <td>NaN</td>\n",
       "      <td>NaN</td>\n",
       "      <td>...</td>\n",
       "      <td>NaN</td>\n",
       "      <td>NaN</td>\n",
       "      <td>NaN</td>\n",
       "      <td>NaN</td>\n",
       "      <td>NaN</td>\n",
       "      <td>NaN</td>\n",
       "      <td>ar</td>\n",
       "      <td>NaN</td>\n",
       "      <td>NaN</td>\n",
       "      <td>NaN</td>\n",
       "    </tr>\n",
       "    <tr>\n",
       "      <th>2</th>\n",
       "      <td>7221797935</td>\n",
       "      <td>https://keys.craigslist.org/cto/d/summerland-k...</td>\n",
       "      <td>florida keys</td>\n",
       "      <td>https://keys.craigslist.org</td>\n",
       "      <td>21000</td>\n",
       "      <td>NaN</td>\n",
       "      <td>NaN</td>\n",
       "      <td>NaN</td>\n",
       "      <td>NaN</td>\n",
       "      <td>NaN</td>\n",
       "      <td>...</td>\n",
       "      <td>NaN</td>\n",
       "      <td>NaN</td>\n",
       "      <td>NaN</td>\n",
       "      <td>NaN</td>\n",
       "      <td>NaN</td>\n",
       "      <td>NaN</td>\n",
       "      <td>fl</td>\n",
       "      <td>NaN</td>\n",
       "      <td>NaN</td>\n",
       "      <td>NaN</td>\n",
       "    </tr>\n",
       "    <tr>\n",
       "      <th>3</th>\n",
       "      <td>7222270760</td>\n",
       "      <td>https://worcester.craigslist.org/cto/d/west-br...</td>\n",
       "      <td>worcester / central MA</td>\n",
       "      <td>https://worcester.craigslist.org</td>\n",
       "      <td>1500</td>\n",
       "      <td>NaN</td>\n",
       "      <td>NaN</td>\n",
       "      <td>NaN</td>\n",
       "      <td>NaN</td>\n",
       "      <td>NaN</td>\n",
       "      <td>...</td>\n",
       "      <td>NaN</td>\n",
       "      <td>NaN</td>\n",
       "      <td>NaN</td>\n",
       "      <td>NaN</td>\n",
       "      <td>NaN</td>\n",
       "      <td>NaN</td>\n",
       "      <td>ma</td>\n",
       "      <td>NaN</td>\n",
       "      <td>NaN</td>\n",
       "      <td>NaN</td>\n",
       "    </tr>\n",
       "    <tr>\n",
       "      <th>4</th>\n",
       "      <td>7210384030</td>\n",
       "      <td>https://greensboro.craigslist.org/cto/d/trinit...</td>\n",
       "      <td>greensboro</td>\n",
       "      <td>https://greensboro.craigslist.org</td>\n",
       "      <td>4900</td>\n",
       "      <td>NaN</td>\n",
       "      <td>NaN</td>\n",
       "      <td>NaN</td>\n",
       "      <td>NaN</td>\n",
       "      <td>NaN</td>\n",
       "      <td>...</td>\n",
       "      <td>NaN</td>\n",
       "      <td>NaN</td>\n",
       "      <td>NaN</td>\n",
       "      <td>NaN</td>\n",
       "      <td>NaN</td>\n",
       "      <td>NaN</td>\n",
       "      <td>nc</td>\n",
       "      <td>NaN</td>\n",
       "      <td>NaN</td>\n",
       "      <td>NaN</td>\n",
       "    </tr>\n",
       "  </tbody>\n",
       "</table>\n",
       "<p>5 rows × 26 columns</p>\n",
       "</div>"
      ],
      "text/plain": [
       "           id                                                url  \\\n",
       "0  7222695916  https://prescott.craigslist.org/cto/d/prescott...   \n",
       "1  7218891961  https://fayar.craigslist.org/ctd/d/bentonville...   \n",
       "2  7221797935  https://keys.craigslist.org/cto/d/summerland-k...   \n",
       "3  7222270760  https://worcester.craigslist.org/cto/d/west-br...   \n",
       "4  7210384030  https://greensboro.craigslist.org/cto/d/trinit...   \n",
       "\n",
       "                   region                         region_url  price  year  \\\n",
       "0                prescott    https://prescott.craigslist.org   6000   NaN   \n",
       "1            fayetteville       https://fayar.craigslist.org  11900   NaN   \n",
       "2            florida keys        https://keys.craigslist.org  21000   NaN   \n",
       "3  worcester / central MA   https://worcester.craigslist.org   1500   NaN   \n",
       "4              greensboro  https://greensboro.craigslist.org   4900   NaN   \n",
       "\n",
       "  manufacturer model condition cylinders  ... size  type paint_color  \\\n",
       "0          NaN   NaN       NaN       NaN  ...  NaN   NaN         NaN   \n",
       "1          NaN   NaN       NaN       NaN  ...  NaN   NaN         NaN   \n",
       "2          NaN   NaN       NaN       NaN  ...  NaN   NaN         NaN   \n",
       "3          NaN   NaN       NaN       NaN  ...  NaN   NaN         NaN   \n",
       "4          NaN   NaN       NaN       NaN  ...  NaN   NaN         NaN   \n",
       "\n",
       "  image_url description county state lat long posting_date  \n",
       "0       NaN         NaN    NaN    az NaN  NaN          NaN  \n",
       "1       NaN         NaN    NaN    ar NaN  NaN          NaN  \n",
       "2       NaN         NaN    NaN    fl NaN  NaN          NaN  \n",
       "3       NaN         NaN    NaN    ma NaN  NaN          NaN  \n",
       "4       NaN         NaN    NaN    nc NaN  NaN          NaN  \n",
       "\n",
       "[5 rows x 26 columns]"
      ]
     },
     "execution_count": 3,
     "metadata": {},
     "output_type": "execute_result"
    }
   ],
   "source": [
    "vehicles = pd.read_csv('../input/craigslist-carstrucks-data/vehicles.csv')\n",
    "vehicles.head()"
   ]
  },
  {
   "cell_type": "code",
   "execution_count": 4,
   "metadata": {
    "execution": {
     "iopub.execute_input": "2021-05-20T04:58:30.303111Z",
     "iopub.status.busy": "2021-05-20T04:58:30.302692Z",
     "iopub.status.idle": "2021-05-20T04:58:30.308825Z",
     "shell.execute_reply": "2021-05-20T04:58:30.307891Z",
     "shell.execute_reply.started": "2021-05-20T04:58:30.303080Z"
    }
   },
   "outputs": [
    {
     "name": "stdout",
     "output_type": "stream",
     "text": [
      "Index(['id', 'url', 'region', 'region_url', 'price', 'year', 'manufacturer',\n",
      "       'model', 'condition', 'cylinders', 'fuel', 'odometer', 'title_status',\n",
      "       'transmission', 'VIN', 'drive', 'size', 'type', 'paint_color',\n",
      "       'image_url', 'description', 'county', 'state', 'lat', 'long',\n",
      "       'posting_date'],\n",
      "      dtype='object')\n",
      "(426880, 26)\n"
     ]
    }
   ],
   "source": [
    "# print shape and column names\n",
    "print(vehicles.columns)\n",
    "print(vehicles.shape)"
   ]
  },
  {
   "cell_type": "code",
   "execution_count": 5,
   "metadata": {
    "execution": {
     "iopub.execute_input": "2021-05-20T04:58:30.310793Z",
     "iopub.status.busy": "2021-05-20T04:58:30.310278Z",
     "iopub.status.idle": "2021-05-20T04:58:36.791161Z",
     "shell.execute_reply": "2021-05-20T04:58:36.790089Z",
     "shell.execute_reply.started": "2021-05-20T04:58:30.310756Z"
    }
   },
   "outputs": [
    {
     "data": {
      "text/html": [
       "<div>\n",
       "<style scoped>\n",
       "    .dataframe tbody tr th:only-of-type {\n",
       "        vertical-align: middle;\n",
       "    }\n",
       "\n",
       "    .dataframe tbody tr th {\n",
       "        vertical-align: top;\n",
       "    }\n",
       "\n",
       "    .dataframe thead th {\n",
       "        text-align: right;\n",
       "    }\n",
       "</style>\n",
       "<table border=\"1\" class=\"dataframe\">\n",
       "  <thead>\n",
       "    <tr style=\"text-align: right;\">\n",
       "      <th></th>\n",
       "      <th>id</th>\n",
       "      <th>url</th>\n",
       "      <th>region</th>\n",
       "      <th>region_url</th>\n",
       "      <th>price</th>\n",
       "      <th>year</th>\n",
       "      <th>manufacturer</th>\n",
       "      <th>model</th>\n",
       "      <th>condition</th>\n",
       "      <th>cylinders</th>\n",
       "      <th>...</th>\n",
       "      <th>size</th>\n",
       "      <th>type</th>\n",
       "      <th>paint_color</th>\n",
       "      <th>image_url</th>\n",
       "      <th>description</th>\n",
       "      <th>county</th>\n",
       "      <th>state</th>\n",
       "      <th>lat</th>\n",
       "      <th>long</th>\n",
       "      <th>posting_date</th>\n",
       "    </tr>\n",
       "  </thead>\n",
       "  <tbody>\n",
       "    <tr>\n",
       "      <th>count</th>\n",
       "      <td>4.268800e+05</td>\n",
       "      <td>426880</td>\n",
       "      <td>426880</td>\n",
       "      <td>426880</td>\n",
       "      <td>4.268800e+05</td>\n",
       "      <td>425675.000000</td>\n",
       "      <td>409234</td>\n",
       "      <td>421603</td>\n",
       "      <td>252776</td>\n",
       "      <td>249202</td>\n",
       "      <td>...</td>\n",
       "      <td>120519</td>\n",
       "      <td>334022</td>\n",
       "      <td>296677</td>\n",
       "      <td>426812</td>\n",
       "      <td>426810</td>\n",
       "      <td>0.0</td>\n",
       "      <td>426880</td>\n",
       "      <td>420331.000000</td>\n",
       "      <td>420331.000000</td>\n",
       "      <td>426812</td>\n",
       "    </tr>\n",
       "    <tr>\n",
       "      <th>unique</th>\n",
       "      <td>NaN</td>\n",
       "      <td>426880</td>\n",
       "      <td>404</td>\n",
       "      <td>413</td>\n",
       "      <td>NaN</td>\n",
       "      <td>NaN</td>\n",
       "      <td>42</td>\n",
       "      <td>29667</td>\n",
       "      <td>6</td>\n",
       "      <td>8</td>\n",
       "      <td>...</td>\n",
       "      <td>4</td>\n",
       "      <td>13</td>\n",
       "      <td>12</td>\n",
       "      <td>241899</td>\n",
       "      <td>360911</td>\n",
       "      <td>NaN</td>\n",
       "      <td>51</td>\n",
       "      <td>NaN</td>\n",
       "      <td>NaN</td>\n",
       "      <td>381536</td>\n",
       "    </tr>\n",
       "    <tr>\n",
       "      <th>top</th>\n",
       "      <td>NaN</td>\n",
       "      <td>https://slo.craigslist.org/ctd/d/grover-beach-...</td>\n",
       "      <td>columbus</td>\n",
       "      <td>https://spokane.craigslist.org</td>\n",
       "      <td>NaN</td>\n",
       "      <td>NaN</td>\n",
       "      <td>ford</td>\n",
       "      <td>f-150</td>\n",
       "      <td>good</td>\n",
       "      <td>6 cylinders</td>\n",
       "      <td>...</td>\n",
       "      <td>full-size</td>\n",
       "      <td>sedan</td>\n",
       "      <td>white</td>\n",
       "      <td>https://images.craigslist.org/00N0N_1xMPvfxRAI...</td>\n",
       "      <td>35 VEHICLES PRICED UNDER $3000!!!  BIG TIME! T...</td>\n",
       "      <td>NaN</td>\n",
       "      <td>ca</td>\n",
       "      <td>NaN</td>\n",
       "      <td>NaN</td>\n",
       "      <td>2021-04-23T22:13:05-0400</td>\n",
       "    </tr>\n",
       "    <tr>\n",
       "      <th>freq</th>\n",
       "      <td>NaN</td>\n",
       "      <td>1</td>\n",
       "      <td>3608</td>\n",
       "      <td>2988</td>\n",
       "      <td>NaN</td>\n",
       "      <td>NaN</td>\n",
       "      <td>70985</td>\n",
       "      <td>8009</td>\n",
       "      <td>121456</td>\n",
       "      <td>94169</td>\n",
       "      <td>...</td>\n",
       "      <td>63465</td>\n",
       "      <td>87056</td>\n",
       "      <td>79285</td>\n",
       "      <td>7357</td>\n",
       "      <td>231</td>\n",
       "      <td>NaN</td>\n",
       "      <td>50614</td>\n",
       "      <td>NaN</td>\n",
       "      <td>NaN</td>\n",
       "      <td>12</td>\n",
       "    </tr>\n",
       "    <tr>\n",
       "      <th>mean</th>\n",
       "      <td>7.311487e+09</td>\n",
       "      <td>NaN</td>\n",
       "      <td>NaN</td>\n",
       "      <td>NaN</td>\n",
       "      <td>7.519903e+04</td>\n",
       "      <td>2011.235191</td>\n",
       "      <td>NaN</td>\n",
       "      <td>NaN</td>\n",
       "      <td>NaN</td>\n",
       "      <td>NaN</td>\n",
       "      <td>...</td>\n",
       "      <td>NaN</td>\n",
       "      <td>NaN</td>\n",
       "      <td>NaN</td>\n",
       "      <td>NaN</td>\n",
       "      <td>NaN</td>\n",
       "      <td>NaN</td>\n",
       "      <td>NaN</td>\n",
       "      <td>38.493940</td>\n",
       "      <td>-94.748599</td>\n",
       "      <td>NaN</td>\n",
       "    </tr>\n",
       "    <tr>\n",
       "      <th>std</th>\n",
       "      <td>4.473170e+06</td>\n",
       "      <td>NaN</td>\n",
       "      <td>NaN</td>\n",
       "      <td>NaN</td>\n",
       "      <td>1.218228e+07</td>\n",
       "      <td>9.452120</td>\n",
       "      <td>NaN</td>\n",
       "      <td>NaN</td>\n",
       "      <td>NaN</td>\n",
       "      <td>NaN</td>\n",
       "      <td>...</td>\n",
       "      <td>NaN</td>\n",
       "      <td>NaN</td>\n",
       "      <td>NaN</td>\n",
       "      <td>NaN</td>\n",
       "      <td>NaN</td>\n",
       "      <td>NaN</td>\n",
       "      <td>NaN</td>\n",
       "      <td>5.841533</td>\n",
       "      <td>18.365462</td>\n",
       "      <td>NaN</td>\n",
       "    </tr>\n",
       "    <tr>\n",
       "      <th>min</th>\n",
       "      <td>7.207408e+09</td>\n",
       "      <td>NaN</td>\n",
       "      <td>NaN</td>\n",
       "      <td>NaN</td>\n",
       "      <td>0.000000e+00</td>\n",
       "      <td>1900.000000</td>\n",
       "      <td>NaN</td>\n",
       "      <td>NaN</td>\n",
       "      <td>NaN</td>\n",
       "      <td>NaN</td>\n",
       "      <td>...</td>\n",
       "      <td>NaN</td>\n",
       "      <td>NaN</td>\n",
       "      <td>NaN</td>\n",
       "      <td>NaN</td>\n",
       "      <td>NaN</td>\n",
       "      <td>NaN</td>\n",
       "      <td>NaN</td>\n",
       "      <td>-84.122245</td>\n",
       "      <td>-159.827728</td>\n",
       "      <td>NaN</td>\n",
       "    </tr>\n",
       "    <tr>\n",
       "      <th>25%</th>\n",
       "      <td>7.308143e+09</td>\n",
       "      <td>NaN</td>\n",
       "      <td>NaN</td>\n",
       "      <td>NaN</td>\n",
       "      <td>5.900000e+03</td>\n",
       "      <td>2008.000000</td>\n",
       "      <td>NaN</td>\n",
       "      <td>NaN</td>\n",
       "      <td>NaN</td>\n",
       "      <td>NaN</td>\n",
       "      <td>...</td>\n",
       "      <td>NaN</td>\n",
       "      <td>NaN</td>\n",
       "      <td>NaN</td>\n",
       "      <td>NaN</td>\n",
       "      <td>NaN</td>\n",
       "      <td>NaN</td>\n",
       "      <td>NaN</td>\n",
       "      <td>34.601900</td>\n",
       "      <td>-111.939847</td>\n",
       "      <td>NaN</td>\n",
       "    </tr>\n",
       "    <tr>\n",
       "      <th>50%</th>\n",
       "      <td>7.312621e+09</td>\n",
       "      <td>NaN</td>\n",
       "      <td>NaN</td>\n",
       "      <td>NaN</td>\n",
       "      <td>1.395000e+04</td>\n",
       "      <td>2013.000000</td>\n",
       "      <td>NaN</td>\n",
       "      <td>NaN</td>\n",
       "      <td>NaN</td>\n",
       "      <td>NaN</td>\n",
       "      <td>...</td>\n",
       "      <td>NaN</td>\n",
       "      <td>NaN</td>\n",
       "      <td>NaN</td>\n",
       "      <td>NaN</td>\n",
       "      <td>NaN</td>\n",
       "      <td>NaN</td>\n",
       "      <td>NaN</td>\n",
       "      <td>39.150100</td>\n",
       "      <td>-88.432600</td>\n",
       "      <td>NaN</td>\n",
       "    </tr>\n",
       "    <tr>\n",
       "      <th>75%</th>\n",
       "      <td>7.315254e+09</td>\n",
       "      <td>NaN</td>\n",
       "      <td>NaN</td>\n",
       "      <td>NaN</td>\n",
       "      <td>2.648575e+04</td>\n",
       "      <td>2017.000000</td>\n",
       "      <td>NaN</td>\n",
       "      <td>NaN</td>\n",
       "      <td>NaN</td>\n",
       "      <td>NaN</td>\n",
       "      <td>...</td>\n",
       "      <td>NaN</td>\n",
       "      <td>NaN</td>\n",
       "      <td>NaN</td>\n",
       "      <td>NaN</td>\n",
       "      <td>NaN</td>\n",
       "      <td>NaN</td>\n",
       "      <td>NaN</td>\n",
       "      <td>42.398900</td>\n",
       "      <td>-80.832039</td>\n",
       "      <td>NaN</td>\n",
       "    </tr>\n",
       "    <tr>\n",
       "      <th>max</th>\n",
       "      <td>7.317101e+09</td>\n",
       "      <td>NaN</td>\n",
       "      <td>NaN</td>\n",
       "      <td>NaN</td>\n",
       "      <td>3.736929e+09</td>\n",
       "      <td>2022.000000</td>\n",
       "      <td>NaN</td>\n",
       "      <td>NaN</td>\n",
       "      <td>NaN</td>\n",
       "      <td>NaN</td>\n",
       "      <td>...</td>\n",
       "      <td>NaN</td>\n",
       "      <td>NaN</td>\n",
       "      <td>NaN</td>\n",
       "      <td>NaN</td>\n",
       "      <td>NaN</td>\n",
       "      <td>NaN</td>\n",
       "      <td>NaN</td>\n",
       "      <td>82.390818</td>\n",
       "      <td>173.885502</td>\n",
       "      <td>NaN</td>\n",
       "    </tr>\n",
       "  </tbody>\n",
       "</table>\n",
       "<p>11 rows × 26 columns</p>\n",
       "</div>"
      ],
      "text/plain": [
       "                  id                                                url  \\\n",
       "count   4.268800e+05                                             426880   \n",
       "unique           NaN                                             426880   \n",
       "top              NaN  https://slo.craigslist.org/ctd/d/grover-beach-...   \n",
       "freq             NaN                                                  1   \n",
       "mean    7.311487e+09                                                NaN   \n",
       "std     4.473170e+06                                                NaN   \n",
       "min     7.207408e+09                                                NaN   \n",
       "25%     7.308143e+09                                                NaN   \n",
       "50%     7.312621e+09                                                NaN   \n",
       "75%     7.315254e+09                                                NaN   \n",
       "max     7.317101e+09                                                NaN   \n",
       "\n",
       "          region                      region_url         price           year  \\\n",
       "count     426880                          426880  4.268800e+05  425675.000000   \n",
       "unique       404                             413           NaN            NaN   \n",
       "top     columbus  https://spokane.craigslist.org           NaN            NaN   \n",
       "freq        3608                            2988           NaN            NaN   \n",
       "mean         NaN                             NaN  7.519903e+04    2011.235191   \n",
       "std          NaN                             NaN  1.218228e+07       9.452120   \n",
       "min          NaN                             NaN  0.000000e+00    1900.000000   \n",
       "25%          NaN                             NaN  5.900000e+03    2008.000000   \n",
       "50%          NaN                             NaN  1.395000e+04    2013.000000   \n",
       "75%          NaN                             NaN  2.648575e+04    2017.000000   \n",
       "max          NaN                             NaN  3.736929e+09    2022.000000   \n",
       "\n",
       "       manufacturer   model condition    cylinders  ...       size    type  \\\n",
       "count        409234  421603    252776       249202  ...     120519  334022   \n",
       "unique           42   29667         6            8  ...          4      13   \n",
       "top            ford   f-150      good  6 cylinders  ...  full-size   sedan   \n",
       "freq          70985    8009    121456        94169  ...      63465   87056   \n",
       "mean            NaN     NaN       NaN          NaN  ...        NaN     NaN   \n",
       "std             NaN     NaN       NaN          NaN  ...        NaN     NaN   \n",
       "min             NaN     NaN       NaN          NaN  ...        NaN     NaN   \n",
       "25%             NaN     NaN       NaN          NaN  ...        NaN     NaN   \n",
       "50%             NaN     NaN       NaN          NaN  ...        NaN     NaN   \n",
       "75%             NaN     NaN       NaN          NaN  ...        NaN     NaN   \n",
       "max             NaN     NaN       NaN          NaN  ...        NaN     NaN   \n",
       "\n",
       "       paint_color                                          image_url  \\\n",
       "count       296677                                             426812   \n",
       "unique          12                                             241899   \n",
       "top          white  https://images.craigslist.org/00N0N_1xMPvfxRAI...   \n",
       "freq         79285                                               7357   \n",
       "mean           NaN                                                NaN   \n",
       "std            NaN                                                NaN   \n",
       "min            NaN                                                NaN   \n",
       "25%            NaN                                                NaN   \n",
       "50%            NaN                                                NaN   \n",
       "75%            NaN                                                NaN   \n",
       "max            NaN                                                NaN   \n",
       "\n",
       "                                              description county   state  \\\n",
       "count                                              426810    0.0  426880   \n",
       "unique                                             360911    NaN      51   \n",
       "top     35 VEHICLES PRICED UNDER $3000!!!  BIG TIME! T...    NaN      ca   \n",
       "freq                                                  231    NaN   50614   \n",
       "mean                                                  NaN    NaN     NaN   \n",
       "std                                                   NaN    NaN     NaN   \n",
       "min                                                   NaN    NaN     NaN   \n",
       "25%                                                   NaN    NaN     NaN   \n",
       "50%                                                   NaN    NaN     NaN   \n",
       "75%                                                   NaN    NaN     NaN   \n",
       "max                                                   NaN    NaN     NaN   \n",
       "\n",
       "                  lat           long              posting_date  \n",
       "count   420331.000000  420331.000000                    426812  \n",
       "unique            NaN            NaN                    381536  \n",
       "top               NaN            NaN  2021-04-23T22:13:05-0400  \n",
       "freq              NaN            NaN                        12  \n",
       "mean        38.493940     -94.748599                       NaN  \n",
       "std          5.841533      18.365462                       NaN  \n",
       "min        -84.122245    -159.827728                       NaN  \n",
       "25%         34.601900    -111.939847                       NaN  \n",
       "50%         39.150100     -88.432600                       NaN  \n",
       "75%         42.398900     -80.832039                       NaN  \n",
       "max         82.390818     173.885502                       NaN  \n",
       "\n",
       "[11 rows x 26 columns]"
      ]
     },
     "execution_count": 5,
     "metadata": {},
     "output_type": "execute_result"
    }
   ],
   "source": [
    "vehicles.describe(include='all')"
   ]
  },
  {
   "cell_type": "code",
   "execution_count": 6,
   "metadata": {
    "execution": {
     "iopub.execute_input": "2021-05-20T04:58:36.793083Z",
     "iopub.status.busy": "2021-05-20T04:58:36.792674Z",
     "iopub.status.idle": "2021-05-20T04:58:37.507020Z",
     "shell.execute_reply": "2021-05-20T04:58:37.506252Z",
     "shell.execute_reply.started": "2021-05-20T04:58:36.793041Z"
    }
   },
   "outputs": [
    {
     "name": "stdout",
     "output_type": "stream",
     "text": [
      "<class 'pandas.core.frame.DataFrame'>\n",
      "RangeIndex: 426880 entries, 0 to 426879\n",
      "Data columns (total 26 columns):\n",
      " #   Column        Non-Null Count   Dtype  \n",
      "---  ------        --------------   -----  \n",
      " 0   id            426880 non-null  int64  \n",
      " 1   url           426880 non-null  object \n",
      " 2   region        426880 non-null  object \n",
      " 3   region_url    426880 non-null  object \n",
      " 4   price         426880 non-null  int64  \n",
      " 5   year          425675 non-null  float64\n",
      " 6   manufacturer  409234 non-null  object \n",
      " 7   model         421603 non-null  object \n",
      " 8   condition     252776 non-null  object \n",
      " 9   cylinders     249202 non-null  object \n",
      " 10  fuel          423867 non-null  object \n",
      " 11  odometer      422480 non-null  float64\n",
      " 12  title_status  418638 non-null  object \n",
      " 13  transmission  424324 non-null  object \n",
      " 14  VIN           265838 non-null  object \n",
      " 15  drive         296313 non-null  object \n",
      " 16  size          120519 non-null  object \n",
      " 17  type          334022 non-null  object \n",
      " 18  paint_color   296677 non-null  object \n",
      " 19  image_url     426812 non-null  object \n",
      " 20  description   426810 non-null  object \n",
      " 21  county        0 non-null       float64\n",
      " 22  state         426880 non-null  object \n",
      " 23  lat           420331 non-null  float64\n",
      " 24  long          420331 non-null  float64\n",
      " 25  posting_date  426812 non-null  object \n",
      "dtypes: float64(5), int64(2), object(19)\n",
      "memory usage: 84.7+ MB\n"
     ]
    }
   ],
   "source": [
    "# check type of each variable\n",
    "vehicles.info()"
   ]
  },
  {
   "cell_type": "code",
   "execution_count": 7,
   "metadata": {
    "execution": {
     "iopub.execute_input": "2021-05-20T04:58:37.508853Z",
     "iopub.status.busy": "2021-05-20T04:58:37.508273Z",
     "iopub.status.idle": "2021-05-20T04:58:38.214297Z",
     "shell.execute_reply": "2021-05-20T04:58:38.213257Z",
     "shell.execute_reply.started": "2021-05-20T04:58:37.508818Z"
    }
   },
   "outputs": [
    {
     "data": {
      "text/plain": [
       "id                   0\n",
       "url                  0\n",
       "region               0\n",
       "region_url           0\n",
       "price                0\n",
       "year              1205\n",
       "manufacturer     17646\n",
       "model             5277\n",
       "condition       174104\n",
       "cylinders       177678\n",
       "fuel              3013\n",
       "odometer          4400\n",
       "title_status      8242\n",
       "transmission      2556\n",
       "VIN             161042\n",
       "drive           130567\n",
       "size            306361\n",
       "type             92858\n",
       "paint_color     130203\n",
       "image_url           68\n",
       "description         70\n",
       "county          426880\n",
       "state                0\n",
       "lat               6549\n",
       "long              6549\n",
       "posting_date        68\n",
       "dtype: int64"
      ]
     },
     "execution_count": 7,
     "metadata": {},
     "output_type": "execute_result"
    }
   ],
   "source": [
    "# total null value for each column\n",
    "vehicles.isnull().sum()"
   ]
  },
  {
   "cell_type": "code",
   "execution_count": 8,
   "metadata": {
    "execution": {
     "iopub.execute_input": "2021-05-20T04:58:38.216999Z",
     "iopub.status.busy": "2021-05-20T04:58:38.216706Z",
     "iopub.status.idle": "2021-05-20T04:58:38.923834Z",
     "shell.execute_reply": "2021-05-20T04:58:38.922808Z",
     "shell.execute_reply.started": "2021-05-20T04:58:38.216972Z"
    }
   },
   "outputs": [
    {
     "data": {
      "text/html": [
       "<div>\n",
       "<style scoped>\n",
       "    .dataframe tbody tr th:only-of-type {\n",
       "        vertical-align: middle;\n",
       "    }\n",
       "\n",
       "    .dataframe tbody tr th {\n",
       "        vertical-align: top;\n",
       "    }\n",
       "\n",
       "    .dataframe thead th {\n",
       "        text-align: right;\n",
       "    }\n",
       "</style>\n",
       "<table border=\"1\" class=\"dataframe\">\n",
       "  <thead>\n",
       "    <tr style=\"text-align: right;\">\n",
       "      <th></th>\n",
       "      <th>Nan_sum</th>\n",
       "      <th>Percentage</th>\n",
       "    </tr>\n",
       "  </thead>\n",
       "  <tbody>\n",
       "    <tr>\n",
       "      <th>county</th>\n",
       "      <td>426880</td>\n",
       "      <td>100.000000</td>\n",
       "    </tr>\n",
       "    <tr>\n",
       "      <th>size</th>\n",
       "      <td>306361</td>\n",
       "      <td>71.767476</td>\n",
       "    </tr>\n",
       "    <tr>\n",
       "      <th>cylinders</th>\n",
       "      <td>177678</td>\n",
       "      <td>41.622470</td>\n",
       "    </tr>\n",
       "    <tr>\n",
       "      <th>condition</th>\n",
       "      <td>174104</td>\n",
       "      <td>40.785232</td>\n",
       "    </tr>\n",
       "    <tr>\n",
       "      <th>VIN</th>\n",
       "      <td>161042</td>\n",
       "      <td>37.725356</td>\n",
       "    </tr>\n",
       "    <tr>\n",
       "      <th>drive</th>\n",
       "      <td>130567</td>\n",
       "      <td>30.586347</td>\n",
       "    </tr>\n",
       "    <tr>\n",
       "      <th>paint_color</th>\n",
       "      <td>130203</td>\n",
       "      <td>30.501078</td>\n",
       "    </tr>\n",
       "    <tr>\n",
       "      <th>type</th>\n",
       "      <td>92858</td>\n",
       "      <td>21.752717</td>\n",
       "    </tr>\n",
       "    <tr>\n",
       "      <th>manufacturer</th>\n",
       "      <td>17646</td>\n",
       "      <td>4.133714</td>\n",
       "    </tr>\n",
       "    <tr>\n",
       "      <th>title_status</th>\n",
       "      <td>8242</td>\n",
       "      <td>1.930753</td>\n",
       "    </tr>\n",
       "    <tr>\n",
       "      <th>long</th>\n",
       "      <td>6549</td>\n",
       "      <td>1.534155</td>\n",
       "    </tr>\n",
       "    <tr>\n",
       "      <th>lat</th>\n",
       "      <td>6549</td>\n",
       "      <td>1.534155</td>\n",
       "    </tr>\n",
       "    <tr>\n",
       "      <th>model</th>\n",
       "      <td>5277</td>\n",
       "      <td>1.236179</td>\n",
       "    </tr>\n",
       "    <tr>\n",
       "      <th>odometer</th>\n",
       "      <td>4400</td>\n",
       "      <td>1.030735</td>\n",
       "    </tr>\n",
       "    <tr>\n",
       "      <th>fuel</th>\n",
       "      <td>3013</td>\n",
       "      <td>0.705819</td>\n",
       "    </tr>\n",
       "    <tr>\n",
       "      <th>transmission</th>\n",
       "      <td>2556</td>\n",
       "      <td>0.598763</td>\n",
       "    </tr>\n",
       "    <tr>\n",
       "      <th>year</th>\n",
       "      <td>1205</td>\n",
       "      <td>0.282281</td>\n",
       "    </tr>\n",
       "    <tr>\n",
       "      <th>description</th>\n",
       "      <td>70</td>\n",
       "      <td>0.016398</td>\n",
       "    </tr>\n",
       "    <tr>\n",
       "      <th>image_url</th>\n",
       "      <td>68</td>\n",
       "      <td>0.015930</td>\n",
       "    </tr>\n",
       "    <tr>\n",
       "      <th>posting_date</th>\n",
       "      <td>68</td>\n",
       "      <td>0.015930</td>\n",
       "    </tr>\n",
       "  </tbody>\n",
       "</table>\n",
       "</div>"
      ],
      "text/plain": [
       "              Nan_sum  Percentage\n",
       "county         426880  100.000000\n",
       "size           306361   71.767476\n",
       "cylinders      177678   41.622470\n",
       "condition      174104   40.785232\n",
       "VIN            161042   37.725356\n",
       "drive          130567   30.586347\n",
       "paint_color    130203   30.501078\n",
       "type            92858   21.752717\n",
       "manufacturer    17646    4.133714\n",
       "title_status     8242    1.930753\n",
       "long             6549    1.534155\n",
       "lat              6549    1.534155\n",
       "model            5277    1.236179\n",
       "odometer         4400    1.030735\n",
       "fuel             3013    0.705819\n",
       "transmission     2556    0.598763\n",
       "year             1205    0.282281\n",
       "description        70    0.016398\n",
       "image_url          68    0.015930\n",
       "posting_date       68    0.015930"
      ]
     },
     "execution_count": 8,
     "metadata": {},
     "output_type": "execute_result"
    }
   ],
   "source": [
    "# sorting columns based on their total null\n",
    "null_val = pd.DataFrame(vehicles.isnull().sum(), columns = ['Nan_sum'])\n",
    "null_val = null_val[null_val['Nan_sum']>0]\n",
    "null_val['Percentage'] = (null_val['Nan_sum']/len(vehicles))*100\n",
    "null_val = null_val.sort_values(by=['Nan_sum'], ascending=False)\n",
    "null_val"
   ]
  },
  {
   "cell_type": "code",
   "execution_count": 9,
   "metadata": {
    "execution": {
     "iopub.execute_input": "2021-05-20T04:58:38.925931Z",
     "iopub.status.busy": "2021-05-20T04:58:38.925646Z",
     "iopub.status.idle": "2021-05-20T04:58:38.929964Z",
     "shell.execute_reply": "2021-05-20T04:58:38.928684Z",
     "shell.execute_reply.started": "2021-05-20T04:58:38.925902Z"
    }
   },
   "outputs": [],
   "source": [
    "#Because county and region are almost the same, so i will drop county\n",
    "#vehicles = vehicles.drop('county', axis=0)\n"
   ]
  },
  {
   "cell_type": "code",
   "execution_count": 10,
   "metadata": {
    "execution": {
     "iopub.execute_input": "2021-05-20T04:58:38.931526Z",
     "iopub.status.busy": "2021-05-20T04:58:38.931111Z",
     "iopub.status.idle": "2021-05-20T04:58:38.941960Z",
     "shell.execute_reply": "2021-05-20T04:58:38.940936Z",
     "shell.execute_reply.started": "2021-05-20T04:58:38.931493Z"
    }
   },
   "outputs": [],
   "source": [
    "#price_out= vehicles['price']"
   ]
  },
  {
   "cell_type": "code",
   "execution_count": 11,
   "metadata": {
    "execution": {
     "iopub.execute_input": "2021-05-20T04:58:38.943899Z",
     "iopub.status.busy": "2021-05-20T04:58:38.943491Z",
     "iopub.status.idle": "2021-05-20T04:58:38.954600Z",
     "shell.execute_reply": "2021-05-20T04:58:38.953684Z",
     "shell.execute_reply.started": "2021-05-20T04:58:38.943865Z"
    }
   },
   "outputs": [],
   "source": [
    "#low=0.5\n",
    "#high=0.95\n",
    "#quant_df = price_out.quantile([low, high])\n",
    "#print(quant_df)"
   ]
  },
  {
   "cell_type": "code",
   "execution_count": 12,
   "metadata": {
    "execution": {
     "iopub.execute_input": "2021-05-20T04:58:38.956104Z",
     "iopub.status.busy": "2021-05-20T04:58:38.955793Z",
     "iopub.status.idle": "2021-05-20T04:58:38.965248Z",
     "shell.execute_reply": "2021-05-20T04:58:38.964424Z",
     "shell.execute_reply.started": "2021-05-20T04:58:38.956076Z"
    }
   },
   "outputs": [],
   "source": [
    "#price_out=price_out.apply(lambda x: x[(x>price_out.loc[low,x.name]) &(x<quant_df.loc[high, x.name])])"
   ]
  },
  {
   "cell_type": "code",
   "execution_count": 13,
   "metadata": {
    "execution": {
     "iopub.execute_input": "2021-05-20T04:58:38.967228Z",
     "iopub.status.busy": "2021-05-20T04:58:38.966859Z",
     "iopub.status.idle": "2021-05-20T04:58:39.218863Z",
     "shell.execute_reply": "2021-05-20T04:58:39.217805Z",
     "shell.execute_reply.started": "2021-05-20T04:58:38.967196Z"
    }
   },
   "outputs": [
    {
     "name": "stderr",
     "output_type": "stream",
     "text": [
      "/opt/conda/lib/python3.7/site-packages/ipykernel_launcher.py:7: FutureWarning: Automatic reindexing on DataFrame vs Series comparisons is deprecated and will raise ValueError in a future version.  Do `left, right = left.align(right, axis=1, copy=False)` before e.g. `left == right`\n",
      "  import sys\n",
      "/opt/conda/lib/python3.7/site-packages/ipykernel_launcher.py:7: FutureWarning: Automatic reindexing on DataFrame vs Series comparisons is deprecated and will raise ValueError in a future version.  Do `left, right = left.align(right, axis=1, copy=False)` before e.g. `left == right`\n",
      "  import sys\n"
     ]
    }
   ],
   "source": [
    "#To remove the outliers in the price column using percentiles\n",
    "price=['price']\n",
    "Q1=vehicles.quantile(0.25)\n",
    "Q3= vehicles.quantile(0.75)\n",
    "IQR=Q3-Q1\n",
    "\n",
    "vehicles=vehicles[~((vehicles[price] < (Q1 -1.5 *IQR ))|(vehicles[price] > (Q3 + 1.5 * IQR))).any(axis=1)]"
   ]
  },
  {
   "cell_type": "code",
   "execution_count": 14,
   "metadata": {
    "execution": {
     "iopub.execute_input": "2021-05-20T04:58:39.220932Z",
     "iopub.status.busy": "2021-05-20T04:58:39.220574Z",
     "iopub.status.idle": "2021-05-20T04:58:39.291956Z",
     "shell.execute_reply": "2021-05-20T04:58:39.290665Z",
     "shell.execute_reply.started": "2021-05-20T04:58:39.220902Z"
    }
   },
   "outputs": [],
   "source": [
    "#To replace the missing values in the size\n",
    "vehicles['size'].mode()\n",
    "vehicles['size'].fillna('full-size', inplace = True)"
   ]
  },
  {
   "cell_type": "markdown",
   "metadata": {},
   "source": [
    "**FOR CYLINDER**"
   ]
  },
  {
   "cell_type": "code",
   "execution_count": 15,
   "metadata": {
    "execution": {
     "iopub.execute_input": "2021-05-20T04:58:39.294553Z",
     "iopub.status.busy": "2021-05-20T04:58:39.293901Z",
     "iopub.status.idle": "2021-05-20T04:58:39.417604Z",
     "shell.execute_reply": "2021-05-20T04:58:39.416534Z",
     "shell.execute_reply.started": "2021-05-20T04:58:39.294503Z"
    }
   },
   "outputs": [],
   "source": [
    "\n",
    "# Changing cylinders of tesla cars to 0\n",
    "vehicles.loc[vehicles.manufacturer == 'tesla', 'cylinders'] = 0\n",
    "vehicles.cylinders.fillna(0, inplace = True)\n",
    "vehicles.cylinders =  vehicles.cylinders.replace('other', 0)"
   ]
  },
  {
   "cell_type": "code",
   "execution_count": 16,
   "metadata": {
    "execution": {
     "iopub.execute_input": "2021-05-20T04:58:39.419153Z",
     "iopub.status.busy": "2021-05-20T04:58:39.418753Z",
     "iopub.status.idle": "2021-05-20T04:58:39.645601Z",
     "shell.execute_reply": "2021-05-20T04:58:39.644802Z",
     "shell.execute_reply.started": "2021-05-20T04:58:39.419113Z"
    }
   },
   "outputs": [],
   "source": [
    "# Changing cylinder of all 2019 honda accords to 4\n",
    "vehicles.loc[((vehicles.manufacturer == 'honda') & (vehicles.year == 2019) & (vehicles.model == 'accord')), 'cylinders'] = 4\n",
    "\n",
    "vehicles.loc[((vehicles.manufacturer == 'honda') & (vehicles.year == 2020) & (vehicles.model == 'accord')),'cylinders'] = 4"
   ]
  },
  {
   "cell_type": "code",
   "execution_count": 17,
   "metadata": {
    "execution": {
     "iopub.execute_input": "2021-05-20T04:58:39.647421Z",
     "iopub.status.busy": "2021-05-20T04:58:39.646831Z",
     "iopub.status.idle": "2021-05-20T04:58:39.745651Z",
     "shell.execute_reply": "2021-05-20T04:58:39.744563Z",
     "shell.execute_reply.started": "2021-05-20T04:58:39.647378Z"
    }
   },
   "outputs": [
    {
     "data": {
      "text/plain": [
       "0               174961\n",
       "6 cylinders      92925\n",
       "4 cylinders      77463\n",
       "8 cylinders      69324\n",
       "5 cylinders       1709\n",
       "10 cylinders      1386\n",
       "3 cylinders        646\n",
       "12 cylinders       150\n",
       "4                  139\n",
       "Name: cylinders, dtype: int64"
      ]
     },
     "execution_count": 17,
     "metadata": {},
     "output_type": "execute_result"
    }
   ],
   "source": [
    "vehicles.cylinders.value_counts()"
   ]
  },
  {
   "cell_type": "code",
   "execution_count": 18,
   "metadata": {
    "execution": {
     "iopub.execute_input": "2021-05-20T04:58:39.747597Z",
     "iopub.status.busy": "2021-05-20T04:58:39.747033Z",
     "iopub.status.idle": "2021-05-20T04:58:39.982042Z",
     "shell.execute_reply": "2021-05-20T04:58:39.980933Z",
     "shell.execute_reply.started": "2021-05-20T04:58:39.747554Z"
    }
   },
   "outputs": [
    {
     "data": {
      "text/plain": [
       "0     174961\n",
       "6      92925\n",
       "4      77463\n",
       "8      69324\n",
       "5       1709\n",
       "10      1386\n",
       "3        646\n",
       "12       150\n",
       "4        139\n",
       "Name: cylinders, dtype: int64"
      ]
     },
     "execution_count": 18,
     "metadata": {},
     "output_type": "execute_result"
    }
   ],
   "source": [
    "vehicles.cylinders.replace('4 cylinders','4' ,inplace = True)\n",
    "vehicles.cylinders.replace('6 cylinders','6', inplace = True)\n",
    "vehicles.cylinders.replace('8 cylinders','8', inplace = True)\n",
    "vehicles.cylinders.replace('5 cylinders','5', inplace = True)\n",
    "vehicles.cylinders.replace('10 cylinders','10', inplace = True)\n",
    "vehicles.cylinders.replace('3 cylinders','3', inplace = True)\n",
    "vehicles.cylinders.replace('12 cylinders','12', inplace = True)\n",
    "\n",
    "vehicles.cylinders.value_counts()"
   ]
  },
  {
   "cell_type": "markdown",
   "metadata": {},
   "source": [
    "**FOR CONDITION**"
   ]
  },
  {
   "cell_type": "code",
   "execution_count": 19,
   "metadata": {
    "execution": {
     "iopub.execute_input": "2021-05-20T04:58:39.983378Z",
     "iopub.status.busy": "2021-05-20T04:58:39.983097Z",
     "iopub.status.idle": "2021-05-20T04:58:40.029857Z",
     "shell.execute_reply": "2021-05-20T04:58:40.028822Z",
     "shell.execute_reply.started": "2021-05-20T04:58:39.983350Z"
    }
   },
   "outputs": [],
   "source": [
    "vehicles.condition.replace('like new', 'excellent', inplace = True)\n",
    "vehicles.condition.replace('new', 'excellent', inplace = True)"
   ]
  },
  {
   "cell_type": "code",
   "execution_count": 20,
   "metadata": {
    "execution": {
     "iopub.execute_input": "2021-05-20T04:58:40.031712Z",
     "iopub.status.busy": "2021-05-20T04:58:40.031377Z",
     "iopub.status.idle": "2021-05-20T04:58:40.108190Z",
     "shell.execute_reply": "2021-05-20T04:58:40.107136Z",
     "shell.execute_reply.started": "2021-05-20T04:58:40.031671Z"
    }
   },
   "outputs": [
    {
     "data": {
      "text/plain": [
       "excellent    121753\n",
       "good         120751\n",
       "fair           6755\n",
       "salvage         601\n",
       "Name: condition, dtype: int64"
      ]
     },
     "execution_count": 20,
     "metadata": {},
     "output_type": "execute_result"
    }
   ],
   "source": [
    "vehicles.condition.value_counts()"
   ]
  },
  {
   "cell_type": "code",
   "execution_count": 21,
   "metadata": {
    "execution": {
     "iopub.execute_input": "2021-05-20T04:58:40.109709Z",
     "iopub.status.busy": "2021-05-20T04:58:40.109410Z",
     "iopub.status.idle": "2021-05-20T04:58:40.191408Z",
     "shell.execute_reply": "2021-05-20T04:58:40.190389Z",
     "shell.execute_reply.started": "2021-05-20T04:58:40.109679Z"
    }
   },
   "outputs": [],
   "source": [
    "#for the missing values in condition, sinc e a car should be at least fair enough, we will replace null vehicles with fair.\n",
    "vehicles['condition'].mode()\n",
    "vehicles['condition'].fillna('fair', inplace = True)"
   ]
  },
  {
   "cell_type": "markdown",
   "metadata": {},
   "source": [
    "**FOR FUEL**"
   ]
  },
  {
   "cell_type": "code",
   "execution_count": 22,
   "metadata": {
    "execution": {
     "iopub.execute_input": "2021-05-20T04:58:40.193243Z",
     "iopub.status.busy": "2021-05-20T04:58:40.192895Z",
     "iopub.status.idle": "2021-05-20T04:58:40.294060Z",
     "shell.execute_reply": "2021-05-20T04:58:40.292764Z",
     "shell.execute_reply.started": "2021-05-20T04:58:40.193210Z"
    }
   },
   "outputs": [],
   "source": [
    "vehicles['fuel'].mode()\n",
    "vehicles['fuel'].fillna('gas', inplace = True)"
   ]
  },
  {
   "cell_type": "code",
   "execution_count": 23,
   "metadata": {
    "execution": {
     "iopub.execute_input": "2021-05-20T04:58:40.298906Z",
     "iopub.status.busy": "2021-05-20T04:58:40.298464Z",
     "iopub.status.idle": "2021-05-20T04:58:40.400619Z",
     "shell.execute_reply": "2021-05-20T04:58:40.399627Z",
     "shell.execute_reply.started": "2021-05-20T04:58:40.298868Z"
    }
   },
   "outputs": [
    {
     "data": {
      "text/plain": [
       "gas         355681\n",
       "other        29754\n",
       "diesel       26500\n",
       "hybrid        5139\n",
       "electric      1629\n",
       "Name: fuel, dtype: int64"
      ]
     },
     "execution_count": 23,
     "metadata": {},
     "output_type": "execute_result"
    }
   ],
   "source": [
    "#Gasoline is the most commonly used U.S. transportation fuel.So we replace the null values of fuel with gas.\n",
    "vehicles.fuel.value_counts()"
   ]
  },
  {
   "cell_type": "markdown",
   "metadata": {},
   "source": [
    "**FOR TRANSMISSION**"
   ]
  },
  {
   "cell_type": "code",
   "execution_count": 24,
   "metadata": {
    "execution": {
     "iopub.execute_input": "2021-05-20T04:58:40.402469Z",
     "iopub.status.busy": "2021-05-20T04:58:40.402174Z",
     "iopub.status.idle": "2021-05-20T04:58:40.513620Z",
     "shell.execute_reply": "2021-05-20T04:58:40.512611Z",
     "shell.execute_reply.started": "2021-05-20T04:58:40.402436Z"
    }
   },
   "outputs": [
    {
     "data": {
      "text/plain": [
       "automatic    329229\n",
       "other         62392\n",
       "manual        24593\n",
       "Name: transmission, dtype: int64"
      ]
     },
     "execution_count": 24,
     "metadata": {},
     "output_type": "execute_result"
    }
   ],
   "source": [
    "vehicles.transmission.value_counts()"
   ]
  },
  {
   "cell_type": "code",
   "execution_count": 25,
   "metadata": {
    "execution": {
     "iopub.execute_input": "2021-05-20T04:58:40.515033Z",
     "iopub.status.busy": "2021-05-20T04:58:40.514767Z",
     "iopub.status.idle": "2021-05-20T04:58:40.558012Z",
     "shell.execute_reply": "2021-05-20T04:58:40.557265Z",
     "shell.execute_reply.started": "2021-05-20T04:58:40.515007Z"
    }
   },
   "outputs": [],
   "source": [
    "vehicles['transmission'].fillna('automatic', inplace = True)"
   ]
  },
  {
   "cell_type": "code",
   "execution_count": 26,
   "metadata": {
    "execution": {
     "iopub.execute_input": "2021-05-20T04:58:40.559336Z",
     "iopub.status.busy": "2021-05-20T04:58:40.558971Z",
     "iopub.status.idle": "2021-05-20T04:58:45.351434Z",
     "shell.execute_reply": "2021-05-20T04:58:45.350428Z",
     "shell.execute_reply.started": "2021-05-20T04:58:40.559308Z"
    }
   },
   "outputs": [],
   "source": [
    "# converting 'posting_date' from object to datetime\n",
    "vehicles['posting_date'] = pd.to_datetime(vehicles['posting_date'], utc=True)"
   ]
  },
  {
   "cell_type": "code",
   "execution_count": 27,
   "metadata": {
    "execution": {
     "iopub.execute_input": "2021-05-20T04:58:45.353360Z",
     "iopub.status.busy": "2021-05-20T04:58:45.352926Z",
     "iopub.status.idle": "2021-05-20T04:58:45.557273Z",
     "shell.execute_reply": "2021-05-20T04:58:45.556413Z",
     "shell.execute_reply.started": "2021-05-20T04:58:45.353315Z"
    }
   },
   "outputs": [
    {
     "data": {
      "text/plain": [
       "<AxesSubplot:xlabel='year'>"
      ]
     },
     "execution_count": 27,
     "metadata": {},
     "output_type": "execute_result"
    },
    {
     "data": {
      "image/png": "[encoded data removed]",
      "text/plain": [
       "<Figure size 432x288 with 1 Axes>"
      ]
     },
     "metadata": {
      "needs_background": "light"
     },
     "output_type": "display_data"
    }
   ],
   "source": [
    "sns.boxplot(x=vehicles['year'])"
   ]
  },
  {
   "cell_type": "code",
   "execution_count": 28,
   "metadata": {
    "execution": {
     "iopub.execute_input": "2021-05-20T04:58:45.558705Z",
     "iopub.status.busy": "2021-05-20T04:58:45.558413Z",
     "iopub.status.idle": "2021-05-20T04:58:45.563357Z",
     "shell.execute_reply": "2021-05-20T04:58:45.561401Z",
     "shell.execute_reply.started": "2021-05-20T04:58:45.558676Z"
    }
   },
   "outputs": [],
   "source": [
    "# Removing rows with missing year \n",
    "#vehicles.drop(vehicles[vehicles['year'].isna()].index, inplace = True) \n",
    "# Changing type of year to int\n",
    "#vehicles['year'] = vehicles['year'].astype(int)\n",
    "#vehicles['year'].dtype"
   ]
  },
  {
   "cell_type": "markdown",
   "metadata": {},
   "source": [
    "**FOR MANUFACTURER**"
   ]
  },
  {
   "cell_type": "code",
   "execution_count": 29,
   "metadata": {
    "execution": {
     "iopub.execute_input": "2021-05-20T04:58:45.565139Z",
     "iopub.status.busy": "2021-05-20T04:58:45.564850Z",
     "iopub.status.idle": "2021-05-20T04:58:45.673287Z",
     "shell.execute_reply": "2021-05-20T04:58:45.672329Z",
     "shell.execute_reply.started": "2021-05-20T04:58:45.565112Z"
    }
   },
   "outputs": [
    {
     "data": {
      "text/plain": [
       "ford               68846\n",
       "chevrolet          53643\n",
       "toyota             34022\n",
       "honda              21253\n",
       "nissan             19041\n",
       "jeep               18885\n",
       "ram                17470\n",
       "gmc                15952\n",
       "bmw                14545\n",
       "dodge              13539\n",
       "mercedes-benz      11447\n",
       "hyundai            10338\n",
       "subaru              9493\n",
       "volkswagen          9341\n",
       "kia                 8457\n",
       "lexus               8172\n",
       "audi                7345\n",
       "cadillac            6809\n",
       "chrysler            6008\n",
       "acura               5964\n",
       "buick               5494\n",
       "mazda               5427\n",
       "infiniti            4799\n",
       "lincoln             4168\n",
       "volvo               3320\n",
       "mitsubishi          3292\n",
       "mini                2376\n",
       "pontiac             2279\n",
       "rover               1979\n",
       "jaguar              1933\n",
       "porsche             1245\n",
       "mercury             1182\n",
       "saturn              1089\n",
       "alfa-romeo           896\n",
       "fiat                 792\n",
       "tesla                779\n",
       "harley-davidson      153\n",
       "datsun                63\n",
       "ferrari               24\n",
       "land rover            21\n",
       "aston-martin          14\n",
       "morgan                 3\n",
       "Name: manufacturer, dtype: int64"
      ]
     },
     "execution_count": 29,
     "metadata": {},
     "output_type": "execute_result"
    }
   ],
   "source": [
    "vehicles.manufacturer.value_counts()"
   ]
  },
  {
   "cell_type": "code",
   "execution_count": 30,
   "metadata": {
    "execution": {
     "iopub.execute_input": "2021-05-20T04:58:45.674837Z",
     "iopub.status.busy": "2021-05-20T04:58:45.674508Z",
     "iopub.status.idle": "2021-05-20T04:58:45.718120Z",
     "shell.execute_reply": "2021-05-20T04:58:45.717084Z",
     "shell.execute_reply.started": "2021-05-20T04:58:45.674807Z"
    }
   },
   "outputs": [],
   "source": [
    "vehicles['manufacturer'].fillna('toyota', inplace = True)"
   ]
  },
  {
   "cell_type": "markdown",
   "metadata": {},
   "source": [
    "**FOR TYPE**"
   ]
  },
  {
   "cell_type": "code",
   "execution_count": 31,
   "metadata": {
    "execution": {
     "iopub.execute_input": "2021-05-20T04:58:45.719611Z",
     "iopub.status.busy": "2021-05-20T04:58:45.719337Z",
     "iopub.status.idle": "2021-05-20T04:58:45.813123Z",
     "shell.execute_reply": "2021-05-20T04:58:45.811333Z",
     "shell.execute_reply.started": "2021-05-20T04:58:45.719583Z"
    }
   },
   "outputs": [
    {
     "data": {
      "text/plain": [
       "sedan          86786\n",
       "SUV            76560\n",
       "pickup         41833\n",
       "truck          33319\n",
       "other          21462\n",
       "coupe          18632\n",
       "hatchback      16587\n",
       "wagon          10725\n",
       "van             8383\n",
       "convertible     7422\n",
       "mini-van        4816\n",
       "offroad          602\n",
       "bus              515\n",
       "Name: type, dtype: int64"
      ]
     },
     "execution_count": 31,
     "metadata": {},
     "output_type": "execute_result"
    }
   ],
   "source": [
    "vehicles.type.value_counts()"
   ]
  },
  {
   "cell_type": "code",
   "execution_count": 32,
   "metadata": {
    "execution": {
     "iopub.execute_input": "2021-05-20T04:58:45.815203Z",
     "iopub.status.busy": "2021-05-20T04:58:45.814910Z",
     "iopub.status.idle": "2021-05-20T04:58:45.859798Z",
     "shell.execute_reply": "2021-05-20T04:58:45.858831Z",
     "shell.execute_reply.started": "2021-05-20T04:58:45.815174Z"
    }
   },
   "outputs": [],
   "source": [
    "vehicles['type'].fillna('SUV', inplace = True)"
   ]
  },
  {
   "cell_type": "code",
   "execution_count": 33,
   "metadata": {
    "execution": {
     "iopub.execute_input": "2021-05-20T04:58:45.861392Z",
     "iopub.status.busy": "2021-05-20T04:58:45.860930Z",
     "iopub.status.idle": "2021-05-20T04:58:45.950188Z",
     "shell.execute_reply": "2021-05-20T04:58:45.949397Z",
     "shell.execute_reply.started": "2021-05-20T04:58:45.861345Z"
    }
   },
   "outputs": [
    {
     "data": {
      "text/plain": [
       "4wd    127042\n",
       "fwd    105195\n",
       "rwd     57794\n",
       "Name: drive, dtype: int64"
      ]
     },
     "execution_count": 33,
     "metadata": {},
     "output_type": "execute_result"
    }
   ],
   "source": [
    "vehicles.drive.value_counts()"
   ]
  },
  {
   "cell_type": "code",
   "execution_count": 34,
   "metadata": {
    "execution": {
     "iopub.execute_input": "2021-05-20T04:58:45.951833Z",
     "iopub.status.busy": "2021-05-20T04:58:45.951370Z",
     "iopub.status.idle": "2021-05-20T04:58:45.999110Z",
     "shell.execute_reply": "2021-05-20T04:58:45.998279Z",
     "shell.execute_reply.started": "2021-05-20T04:58:45.951789Z"
    }
   },
   "outputs": [],
   "source": [
    "vehicles['drive'].fillna('4wd', inplace = True)"
   ]
  },
  {
   "cell_type": "code",
   "execution_count": null,
   "metadata": {},
   "outputs": [],
   "source": []
  },
  {
   "cell_type": "code",
   "execution_count": 35,
   "metadata": {
    "execution": {
     "iopub.execute_input": "2021-05-20T04:58:46.000736Z",
     "iopub.status.busy": "2021-05-20T04:58:46.000253Z",
     "iopub.status.idle": "2021-05-20T04:58:46.929551Z",
     "shell.execute_reply": "2021-05-20T04:58:46.928787Z",
     "shell.execute_reply.started": "2021-05-20T04:58:46.000699Z"
    }
   },
   "outputs": [
    {
     "data": {
      "text/plain": [
       "<AxesSubplot:xlabel='price', ylabel='odometer'>"
      ]
     },
     "execution_count": 35,
     "metadata": {},
     "output_type": "execute_result"
    },
    {
     "data": {
      "image/png": "[encoded data removed]",
      "text/plain": [
       "<Figure size 432x288 with 1 Axes>"
      ]
     },
     "metadata": {
      "needs_background": "light"
     },
     "output_type": "display_data"
    }
   ],
   "source": [
    "#Must check the data for outliers\n",
    "sns.scatterplot(data = vehicles, x = \"price\", y = \"odometer\")"
   ]
  },
  {
   "cell_type": "code",
   "execution_count": 36,
   "metadata": {
    "execution": {
     "iopub.execute_input": "2021-05-20T04:58:46.930974Z",
     "iopub.status.busy": "2021-05-20T04:58:46.930547Z",
     "iopub.status.idle": "2021-05-20T04:58:47.405232Z",
     "shell.execute_reply": "2021-05-20T04:58:47.404073Z",
     "shell.execute_reply.started": "2021-05-20T04:58:46.930943Z"
    }
   },
   "outputs": [],
   "source": [
    "# Deleting unwanted records. I looked at the distribution graph and saw some really high values for both Odometer and Price.\n",
    "#I am going to delete them...\n",
    "# cutoff at 300,000km and $40K\n",
    "\n",
    "vehicles1 =vehicles[vehicles['odometer'] < 300000]\n",
    "vehicles2 = vehicles1[vehicles1['odometer'] > 1000]\n",
    "vehicles3 = vehicles2[vehicles2['price'] > 1000]\n",
    "vehicles = vehicles3[vehicles3['price'] < 40000]"
   ]
  },
  {
   "cell_type": "code",
   "execution_count": 37,
   "metadata": {
    "execution": {
     "iopub.execute_input": "2021-05-20T04:58:47.407147Z",
     "iopub.status.busy": "2021-05-20T04:58:47.406727Z",
     "iopub.status.idle": "2021-05-20T04:58:47.412878Z",
     "shell.execute_reply": "2021-05-20T04:58:47.411957Z",
     "shell.execute_reply.started": "2021-05-20T04:58:47.407103Z"
    }
   },
   "outputs": [
    {
     "data": {
      "text/plain": [
       "(339382, 26)"
      ]
     },
     "execution_count": 37,
     "metadata": {},
     "output_type": "execute_result"
    }
   ],
   "source": [
    "vehicles.shape"
   ]
  },
  {
   "cell_type": "code",
   "execution_count": 38,
   "metadata": {
    "execution": {
     "iopub.execute_input": "2021-05-20T04:58:47.414400Z",
     "iopub.status.busy": "2021-05-20T04:58:47.414074Z",
     "iopub.status.idle": "2021-05-20T04:58:47.989656Z",
     "shell.execute_reply": "2021-05-20T04:58:47.988721Z",
     "shell.execute_reply.started": "2021-05-20T04:58:47.414372Z"
    }
   },
   "outputs": [
    {
     "data": {
      "text/plain": [
       "id                   0\n",
       "url                  0\n",
       "region               0\n",
       "region_url           0\n",
       "price                0\n",
       "year               592\n",
       "manufacturer         0\n",
       "model             3337\n",
       "condition            0\n",
       "cylinders            0\n",
       "fuel                 0\n",
       "odometer             0\n",
       "title_status      5588\n",
       "transmission         0\n",
       "VIN             131991\n",
       "drive                0\n",
       "size                 0\n",
       "type                 0\n",
       "paint_color      94822\n",
       "image_url            0\n",
       "description          1\n",
       "county          339382\n",
       "state                0\n",
       "lat               3089\n",
       "long              3089\n",
       "posting_date         0\n",
       "dtype: int64"
      ]
     },
     "execution_count": 38,
     "metadata": {},
     "output_type": "execute_result"
    }
   ],
   "source": [
    "vehicles.isnull().sum()"
   ]
  },
  {
   "cell_type": "code",
   "execution_count": 39,
   "metadata": {
    "execution": {
     "iopub.execute_input": "2021-05-20T04:58:47.991440Z",
     "iopub.status.busy": "2021-05-20T04:58:47.991010Z",
     "iopub.status.idle": "2021-05-20T04:58:47.995907Z",
     "shell.execute_reply": "2021-05-20T04:58:47.994794Z",
     "shell.execute_reply.started": "2021-05-20T04:58:47.991399Z"
    }
   },
   "outputs": [],
   "source": [
    "#If car is Suv and USE 4WD\n",
    "#iF IS SEDAN USE rwd\n",
    "#If car is\n",
    "#https://www.wallacechev.com/blog/whats-the-difference-between-fwd-rwd-awd-and-4wd/\n",
    "\n",
    "#vehicles.loc[((vehicles.type == 'SUV') & (vehicles.drive == 'NaN')), 'drive'] = 4wd\n",
    "#vehicles.loc[((vehicles.type == 'sedan') & (vehicles.drive == 'NaN')),'drive'] = rwd"
   ]
  },
  {
   "cell_type": "code",
   "execution_count": 40,
   "metadata": {
    "execution": {
     "iopub.execute_input": "2021-05-20T04:58:47.997779Z",
     "iopub.status.busy": "2021-05-20T04:58:47.997350Z",
     "iopub.status.idle": "2021-05-20T04:58:48.268748Z",
     "shell.execute_reply": "2021-05-20T04:58:48.267833Z",
     "shell.execute_reply.started": "2021-05-20T04:58:47.997732Z"
    }
   },
   "outputs": [],
   "source": [
    "vehicles = vehicles[vehicles['model'].notna()]\n",
    "vehicles = vehicles[vehicles['year'].notna()]"
   ]
  },
  {
   "cell_type": "code",
   "execution_count": 41,
   "metadata": {
    "execution": {
     "iopub.execute_input": "2021-05-20T04:58:48.270882Z",
     "iopub.status.busy": "2021-05-20T04:58:48.270453Z",
     "iopub.status.idle": "2021-05-20T04:58:48.339637Z",
     "shell.execute_reply": "2021-05-20T04:58:48.338592Z",
     "shell.execute_reply.started": "2021-05-20T04:58:48.270838Z"
    }
   },
   "outputs": [],
   "source": [
    "drop_out=['id','county','image_url','VIN','url', 'region_url' ,'description' ,'title_status', 'paint_color','lat','long']\n",
    "vehicles.drop(drop_out, axis = 1,inplace=True)\n",
    "#df.drop(columns=[], inplace=True)"
   ]
  },
  {
   "cell_type": "code",
   "execution_count": 42,
   "metadata": {
    "execution": {
     "iopub.execute_input": "2021-05-20T04:58:48.341069Z",
     "iopub.status.busy": "2021-05-20T04:58:48.340790Z",
     "iopub.status.idle": "2021-05-20T04:58:48.676797Z",
     "shell.execute_reply": "2021-05-20T04:58:48.675563Z",
     "shell.execute_reply.started": "2021-05-20T04:58:48.341041Z"
    }
   },
   "outputs": [
    {
     "name": "stdout",
     "output_type": "stream",
     "text": [
      "region          0\n",
      "price           0\n",
      "year            0\n",
      "manufacturer    0\n",
      "model           0\n",
      "condition       0\n",
      "cylinders       0\n",
      "fuel            0\n",
      "odometer        0\n",
      "transmission    0\n",
      "drive           0\n",
      "size            0\n",
      "type            0\n",
      "state           0\n",
      "posting_date    0\n",
      "dtype: int64\n",
      "(335453, 15)\n"
     ]
    }
   ],
   "source": [
    "\n",
    "print(vehicles.isnull().sum())\n",
    "print(vehicles.shape)"
   ]
  },
  {
   "cell_type": "code",
   "execution_count": 43,
   "metadata": {
    "execution": {
     "iopub.execute_input": "2021-05-20T04:58:48.678841Z",
     "iopub.status.busy": "2021-05-20T04:58:48.678361Z",
     "iopub.status.idle": "2021-05-20T04:58:48.686269Z",
     "shell.execute_reply": "2021-05-20T04:58:48.685240Z",
     "shell.execute_reply.started": "2021-05-20T04:58:48.678791Z"
    }
   },
   "outputs": [],
   "source": [
    "#Encoding the categorical data\n",
    "def onehot_encode(vehicles, columns, prefixes):\n",
    "    vehicles = vehicles.copy()\n",
    "    for column, prefix in zip(columns, prefixes):\n",
    "        dummies = pd.get_dummies(vehicles[column], prefix=prefix)\n",
    "        vehicles = pd.concat([vehicles, dummies], axis=1)\n",
    "        vehicles = vehicles.drop(column, axis=1)\n",
    "    return vehicles"
   ]
  },
  {
   "cell_type": "code",
   "execution_count": 44,
   "metadata": {
    "execution": {
     "iopub.execute_input": "2021-05-20T04:58:48.687703Z",
     "iopub.status.busy": "2021-05-20T04:58:48.687347Z",
     "iopub.status.idle": "2021-05-20T04:58:48.699468Z",
     "shell.execute_reply": "2021-05-20T04:58:48.698016Z",
     "shell.execute_reply.started": "2021-05-20T04:58:48.687670Z"
    }
   },
   "outputs": [
    {
     "ename": "SyntaxError",
     "evalue": "unexpected EOF while parsing (<ipython-input-44-e39d1c327d1f>, line 4)",
     "output_type": "error",
     "traceback": [
      "\u001b[0;36m  File \u001b[0;32m\"<ipython-input-44-e39d1c327d1f>\"\u001b[0;36m, line \u001b[0;32m4\u001b[0m\n\u001b[0;31m    ['reg_1', 'fuel_1', 'trans_1', 'state_1','model_1','drive_1','manufacturer_1','model_1','condition_1','size_1','type_1']\u001b[0m\n\u001b[0m                                                                                                                            ^\u001b[0m\n\u001b[0;31mSyntaxError\u001b[0m\u001b[0;31m:\u001b[0m unexpected EOF while parsing\n"
     ]
    }
   ],
   "source": [
    "vehicles = onehot_encode(\n",
    "    vehicles\n",
    "    ['region', 'fuel', 'transmission', 'state','model','drive','manufacturer','model','condition','size','type'],\n",
    " ['reg_1', 'fuel_1', 'trans_1', 'state_1','model_1','drive_1','manufacturer_1','model_1','condition_1','size_1','type_1']"
   ]
  },
  {
   "cell_type": "code",
   "execution_count": null,
   "metadata": {},
   "outputs": [],
   "source": []
  }
 ],
 "metadata": {
  "kernelspec": {
   "display_name": "Python 3",
   "language": "python",
   "name": "python3"
  },
  "language_info": {
   "codemirror_mode": {
    "name": "ipython",
    "version": 3
   },
   "file_extension": ".py",
   "mimetype": "text/x-python",
   "name": "python",
   "nbconvert_exporter": "python",
   "pygments_lexer": "ipython3",
   "version": "3.8.5"
  }
 },
 "nbformat": 4,
 "nbformat_minor": 4
}
